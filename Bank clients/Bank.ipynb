{
 "cells": [
  {
   "cell_type": "markdown",
   "metadata": {},
   "source": [
    "# Отток клиентов"
   ]
  },
  {
   "cell_type": "markdown",
   "metadata": {},
   "source": [
    "Из «Бета-Банка» стали уходить клиенты. Каждый месяц. Немного, но заметно. Банковские маркетологи посчитали: сохранять текущих клиентов дешевле, чем привлекать новых. У нас в распоряжении исторические данные о поведении клиентов и расторжении договоров с банком.\n",
    "\n",
    "**Цель проекта.**\n",
    "Целью проекта является необходимость спрогнозировать, уйдёт клиент из банка в ближайшее время или нет. Другими словами требуется построить модель, предсказывающую возможное прекращение сотрудничества клиента с банком.\n",
    "\n",
    "**План работ.**\n",
    "1. Загрузка данных.\n",
    "2. Предобработка данных.\n",
    "3. Исследовательский анализ.\n",
    "4. Подготовка данных и обучение моделей.\n",
    "5. Итоговое тестирование.\n",
    "6. Вывод.\n",
    "\n",
    "**Описание данных.**\n",
    "\n",
    "Признаки\n",
    "- `RowNumber` — индекс строки в данных;\n",
    "- `CustomerId` — уникальный идентификатор клиента;\n",
    "- `Surname` — фамилия;\n",
    "- `CreditScore` — кредитный рейтинг;\n",
    "- `Geography` — страна проживания;\n",
    "- `Gender` — пол;\n",
    "- `Age` — возраст;\n",
    "- `Tenure` — сколько лет человек является клиентом банка;\n",
    "- `Balance` — баланс на счёте;\n",
    "- `NumOfProducts` — количество продуктов банка, используемых клиентом;\n",
    "- `HasCrCard` — наличие кредитной карты;\n",
    "- `IsActiveMember` — активность клиента;\n",
    "- `EstimatedSalary` — предполагаемая зарплата.\n",
    "\n",
    "Целевой признак\n",
    "- `Exited` — факт ухода клиента."
   ]
  },
  {
   "cell_type": "markdown",
   "metadata": {},
   "source": [
    "## 1. Загрузка данных"
   ]
  },
  {
   "cell_type": "markdown",
   "metadata": {},
   "source": [
    "Импортируем необходимые библиотеки"
   ]
  },
  {
   "cell_type": "code",
   "execution_count": 1,
   "metadata": {},
   "outputs": [],
   "source": [
    "from sklearn.compose import make_column_transformer\n",
    "from sklearn.ensemble import RandomForestClassifier \n",
    "from sklearn.linear_model import LogisticRegression\n",
    "from sklearn.metrics import precision_score, recall_score, f1_score, roc_curve, roc_auc_score, accuracy_score, confusion_matrix\n",
    "from sklearn.model_selection import train_test_split, RandomizedSearchCV\n",
    "from sklearn.pipeline import Pipeline\n",
    "from sklearn.preprocessing import StandardScaler, OneHotEncoder\n",
    "from sklearn.tree import DecisionTreeClassifier\n",
    "\n",
    "import matplotlib.pyplot as plt\n",
    "import numpy as np\n",
    "import pandas as pd\n",
    "import seaborn as sns\n",
    "import warnings"
   ]
  },
  {
   "cell_type": "code",
   "execution_count": 2,
   "metadata": {},
   "outputs": [],
   "source": [
    "# анализ категориальных признаков\n",
    "def analysis_cat(feature, x_label, y_label, title):\n",
    "    one = data[data['Exited']==1].pivot_table(index=feature, values='Balance', aggfunc='count')\n",
    "    zero = data[data['Exited']==0].pivot_table(index=feature, values='Balance', aggfunc='count')\n",
    "    table = zero.merge(one, how='left', on=feature)\n",
    "    table.columns = ['NotLeft', 'Left']\n",
    "    table.plot(kind='bar', stacked= True, figsize=(10,6))\n",
    "    plt.xlabel(x_label)\n",
    "    plt.ylabel(y_label)\n",
    "    plt.title(title)\n",
    "    plt.show()\n",
    "    \n",
    "# анализ количественных признаков\n",
    "def analysis_num(feature, x_label, y_label, title):\n",
    "    minim = data.pivot_table(index='Exited', values=feature, aggfunc='min')\n",
    "    maxim = data.pivot_table(index='Exited', values=feature, aggfunc='max')\n",
    "    avg = data.pivot_table(index='Exited', values=feature, aggfunc='mean')\n",
    "    table = minim.merge(maxim, how='left', on='Exited').merge(avg, how='left', on='Exited')\n",
    "    table.columns = ['Min', 'Max', 'Mean']\n",
    "    table.plot(kind='bar', figsize=(10,6), grid=True)\n",
    "    plt.xlabel(x_label)\n",
    "    plt.ylabel(y_label)\n",
    "    plt.title(title)\n",
    "    plt.show()"
   ]
  },
  {
   "cell_type": "code",
   "execution_count": 3,
   "metadata": {},
   "outputs": [],
   "source": [
    "RANDOM_STATE = 0"
   ]
  },
  {
   "cell_type": "code",
   "execution_count": 4,
   "metadata": {},
   "outputs": [],
   "source": [
    "warnings.filterwarnings('ignore')"
   ]
  },
  {
   "cell_type": "markdown",
   "metadata": {},
   "source": [
    "Посмотрим на размер исходного датасета и первые его строки"
   ]
  },
  {
   "cell_type": "code",
   "execution_count": 5,
   "metadata": {},
   "outputs": [
    {
     "data": {
      "text/plain": [
       "(10000, 14)"
      ]
     },
     "execution_count": 5,
     "metadata": {},
     "output_type": "execute_result"
    }
   ],
   "source": [
    "data = pd.read_csv('Churn.csv')\n",
    "data.shape"
   ]
  },
  {
   "cell_type": "code",
   "execution_count": 6,
   "metadata": {},
   "outputs": [
    {
     "data": {
      "text/html": [
       "<div>\n",
       "<style scoped>\n",
       "    .dataframe tbody tr th:only-of-type {\n",
       "        vertical-align: middle;\n",
       "    }\n",
       "\n",
       "    .dataframe tbody tr th {\n",
       "        vertical-align: top;\n",
       "    }\n",
       "\n",
       "    .dataframe thead th {\n",
       "        text-align: right;\n",
       "    }\n",
       "</style>\n",
       "<table border=\"1\" class=\"dataframe\">\n",
       "  <thead>\n",
       "    <tr style=\"text-align: right;\">\n",
       "      <th></th>\n",
       "      <th>RowNumber</th>\n",
       "      <th>CustomerId</th>\n",
       "      <th>Surname</th>\n",
       "      <th>CreditScore</th>\n",
       "      <th>Geography</th>\n",
       "      <th>Gender</th>\n",
       "      <th>Age</th>\n",
       "      <th>Tenure</th>\n",
       "      <th>Balance</th>\n",
       "      <th>NumOfProducts</th>\n",
       "      <th>HasCrCard</th>\n",
       "      <th>IsActiveMember</th>\n",
       "      <th>EstimatedSalary</th>\n",
       "      <th>Exited</th>\n",
       "    </tr>\n",
       "  </thead>\n",
       "  <tbody>\n",
       "    <tr>\n",
       "      <th>0</th>\n",
       "      <td>1</td>\n",
       "      <td>15634602</td>\n",
       "      <td>Hargrave</td>\n",
       "      <td>619</td>\n",
       "      <td>France</td>\n",
       "      <td>Female</td>\n",
       "      <td>42</td>\n",
       "      <td>2.0</td>\n",
       "      <td>0.00</td>\n",
       "      <td>1</td>\n",
       "      <td>1</td>\n",
       "      <td>1</td>\n",
       "      <td>101348.88</td>\n",
       "      <td>1</td>\n",
       "    </tr>\n",
       "    <tr>\n",
       "      <th>1</th>\n",
       "      <td>2</td>\n",
       "      <td>15647311</td>\n",
       "      <td>Hill</td>\n",
       "      <td>608</td>\n",
       "      <td>Spain</td>\n",
       "      <td>Female</td>\n",
       "      <td>41</td>\n",
       "      <td>1.0</td>\n",
       "      <td>83807.86</td>\n",
       "      <td>1</td>\n",
       "      <td>0</td>\n",
       "      <td>1</td>\n",
       "      <td>112542.58</td>\n",
       "      <td>0</td>\n",
       "    </tr>\n",
       "    <tr>\n",
       "      <th>2</th>\n",
       "      <td>3</td>\n",
       "      <td>15619304</td>\n",
       "      <td>Onio</td>\n",
       "      <td>502</td>\n",
       "      <td>France</td>\n",
       "      <td>Female</td>\n",
       "      <td>42</td>\n",
       "      <td>8.0</td>\n",
       "      <td>159660.80</td>\n",
       "      <td>3</td>\n",
       "      <td>1</td>\n",
       "      <td>0</td>\n",
       "      <td>113931.57</td>\n",
       "      <td>1</td>\n",
       "    </tr>\n",
       "    <tr>\n",
       "      <th>3</th>\n",
       "      <td>4</td>\n",
       "      <td>15701354</td>\n",
       "      <td>Boni</td>\n",
       "      <td>699</td>\n",
       "      <td>France</td>\n",
       "      <td>Female</td>\n",
       "      <td>39</td>\n",
       "      <td>1.0</td>\n",
       "      <td>0.00</td>\n",
       "      <td>2</td>\n",
       "      <td>0</td>\n",
       "      <td>0</td>\n",
       "      <td>93826.63</td>\n",
       "      <td>0</td>\n",
       "    </tr>\n",
       "    <tr>\n",
       "      <th>4</th>\n",
       "      <td>5</td>\n",
       "      <td>15737888</td>\n",
       "      <td>Mitchell</td>\n",
       "      <td>850</td>\n",
       "      <td>Spain</td>\n",
       "      <td>Female</td>\n",
       "      <td>43</td>\n",
       "      <td>2.0</td>\n",
       "      <td>125510.82</td>\n",
       "      <td>1</td>\n",
       "      <td>1</td>\n",
       "      <td>1</td>\n",
       "      <td>79084.10</td>\n",
       "      <td>0</td>\n",
       "    </tr>\n",
       "  </tbody>\n",
       "</table>\n",
       "</div>"
      ],
      "text/plain": [
       "   RowNumber  CustomerId   Surname  CreditScore Geography  Gender  Age  \\\n",
       "0          1    15634602  Hargrave          619    France  Female   42   \n",
       "1          2    15647311      Hill          608     Spain  Female   41   \n",
       "2          3    15619304      Onio          502    France  Female   42   \n",
       "3          4    15701354      Boni          699    France  Female   39   \n",
       "4          5    15737888  Mitchell          850     Spain  Female   43   \n",
       "\n",
       "   Tenure    Balance  NumOfProducts  HasCrCard  IsActiveMember  \\\n",
       "0     2.0       0.00              1          1               1   \n",
       "1     1.0   83807.86              1          0               1   \n",
       "2     8.0  159660.80              3          1               0   \n",
       "3     1.0       0.00              2          0               0   \n",
       "4     2.0  125510.82              1          1               1   \n",
       "\n",
       "   EstimatedSalary  Exited  \n",
       "0        101348.88       1  \n",
       "1        112542.58       0  \n",
       "2        113931.57       1  \n",
       "3         93826.63       0  \n",
       "4         79084.10       0  "
      ]
     },
     "execution_count": 6,
     "metadata": {},
     "output_type": "execute_result"
    }
   ],
   "source": [
    "data.head()"
   ]
  },
  {
   "cell_type": "markdown",
   "metadata": {},
   "source": [
    "Приведем общую информацию о признаках данных"
   ]
  },
  {
   "cell_type": "code",
   "execution_count": 7,
   "metadata": {},
   "outputs": [
    {
     "name": "stdout",
     "output_type": "stream",
     "text": [
      "<class 'pandas.core.frame.DataFrame'>\n",
      "RangeIndex: 10000 entries, 0 to 9999\n",
      "Data columns (total 14 columns):\n",
      " #   Column           Non-Null Count  Dtype  \n",
      "---  ------           --------------  -----  \n",
      " 0   RowNumber        10000 non-null  int64  \n",
      " 1   CustomerId       10000 non-null  int64  \n",
      " 2   Surname          10000 non-null  object \n",
      " 3   CreditScore      10000 non-null  int64  \n",
      " 4   Geography        10000 non-null  object \n",
      " 5   Gender           10000 non-null  object \n",
      " 6   Age              10000 non-null  int64  \n",
      " 7   Tenure           9091 non-null   float64\n",
      " 8   Balance          10000 non-null  float64\n",
      " 9   NumOfProducts    10000 non-null  int64  \n",
      " 10  HasCrCard        10000 non-null  int64  \n",
      " 11  IsActiveMember   10000 non-null  int64  \n",
      " 12  EstimatedSalary  10000 non-null  float64\n",
      " 13  Exited           10000 non-null  int64  \n",
      "dtypes: float64(3), int64(8), object(3)\n",
      "memory usage: 1.1+ MB\n"
     ]
    }
   ],
   "source": [
    "data.info()"
   ]
  },
  {
   "cell_type": "markdown",
   "metadata": {},
   "source": [
    "**ИТОГ.**\n",
    "В ходе первого этапа проекта загрузили данные и посмотрели на их структуру."
   ]
  },
  {
   "cell_type": "markdown",
   "metadata": {},
   "source": [
    "## 2. Предобработка данных"
   ]
  },
  {
   "cell_type": "markdown",
   "metadata": {},
   "source": [
    "Проверим, есть ли пропуски в данных"
   ]
  },
  {
   "cell_type": "code",
   "execution_count": 8,
   "metadata": {},
   "outputs": [
    {
     "data": {
      "text/html": [
       "<style type=\"text/css\">\n",
       "#T_03b27_row0_col0, #T_03b27_row1_col0, #T_03b27_row2_col0, #T_03b27_row3_col0, #T_03b27_row4_col0, #T_03b27_row5_col0, #T_03b27_row6_col0, #T_03b27_row8_col0, #T_03b27_row9_col0, #T_03b27_row10_col0, #T_03b27_row11_col0, #T_03b27_row12_col0, #T_03b27_row13_col0 {\n",
       "  background-color: #3b4cc0;\n",
       "  color: #f1f1f1;\n",
       "}\n",
       "#T_03b27_row7_col0 {\n",
       "  background-color: #b40426;\n",
       "  color: #f1f1f1;\n",
       "}\n",
       "</style>\n",
       "<table id=\"T_03b27\">\n",
       "  <thead>\n",
       "    <tr>\n",
       "      <th class=\"blank level0\" >&nbsp;</th>\n",
       "      <th id=\"T_03b27_level0_col0\" class=\"col_heading level0 col0\" >pass</th>\n",
       "    </tr>\n",
       "  </thead>\n",
       "  <tbody>\n",
       "    <tr>\n",
       "      <th id=\"T_03b27_level0_row0\" class=\"row_heading level0 row0\" >RowNumber</th>\n",
       "      <td id=\"T_03b27_row0_col0\" class=\"data row0 col0\" >0.000000</td>\n",
       "    </tr>\n",
       "    <tr>\n",
       "      <th id=\"T_03b27_level0_row1\" class=\"row_heading level0 row1\" >CustomerId</th>\n",
       "      <td id=\"T_03b27_row1_col0\" class=\"data row1 col0\" >0.000000</td>\n",
       "    </tr>\n",
       "    <tr>\n",
       "      <th id=\"T_03b27_level0_row2\" class=\"row_heading level0 row2\" >Surname</th>\n",
       "      <td id=\"T_03b27_row2_col0\" class=\"data row2 col0\" >0.000000</td>\n",
       "    </tr>\n",
       "    <tr>\n",
       "      <th id=\"T_03b27_level0_row3\" class=\"row_heading level0 row3\" >CreditScore</th>\n",
       "      <td id=\"T_03b27_row3_col0\" class=\"data row3 col0\" >0.000000</td>\n",
       "    </tr>\n",
       "    <tr>\n",
       "      <th id=\"T_03b27_level0_row4\" class=\"row_heading level0 row4\" >Geography</th>\n",
       "      <td id=\"T_03b27_row4_col0\" class=\"data row4 col0\" >0.000000</td>\n",
       "    </tr>\n",
       "    <tr>\n",
       "      <th id=\"T_03b27_level0_row5\" class=\"row_heading level0 row5\" >Gender</th>\n",
       "      <td id=\"T_03b27_row5_col0\" class=\"data row5 col0\" >0.000000</td>\n",
       "    </tr>\n",
       "    <tr>\n",
       "      <th id=\"T_03b27_level0_row6\" class=\"row_heading level0 row6\" >Age</th>\n",
       "      <td id=\"T_03b27_row6_col0\" class=\"data row6 col0\" >0.000000</td>\n",
       "    </tr>\n",
       "    <tr>\n",
       "      <th id=\"T_03b27_level0_row7\" class=\"row_heading level0 row7\" >Tenure</th>\n",
       "      <td id=\"T_03b27_row7_col0\" class=\"data row7 col0\" >9.090000</td>\n",
       "    </tr>\n",
       "    <tr>\n",
       "      <th id=\"T_03b27_level0_row8\" class=\"row_heading level0 row8\" >Balance</th>\n",
       "      <td id=\"T_03b27_row8_col0\" class=\"data row8 col0\" >0.000000</td>\n",
       "    </tr>\n",
       "    <tr>\n",
       "      <th id=\"T_03b27_level0_row9\" class=\"row_heading level0 row9\" >NumOfProducts</th>\n",
       "      <td id=\"T_03b27_row9_col0\" class=\"data row9 col0\" >0.000000</td>\n",
       "    </tr>\n",
       "    <tr>\n",
       "      <th id=\"T_03b27_level0_row10\" class=\"row_heading level0 row10\" >HasCrCard</th>\n",
       "      <td id=\"T_03b27_row10_col0\" class=\"data row10 col0\" >0.000000</td>\n",
       "    </tr>\n",
       "    <tr>\n",
       "      <th id=\"T_03b27_level0_row11\" class=\"row_heading level0 row11\" >IsActiveMember</th>\n",
       "      <td id=\"T_03b27_row11_col0\" class=\"data row11 col0\" >0.000000</td>\n",
       "    </tr>\n",
       "    <tr>\n",
       "      <th id=\"T_03b27_level0_row12\" class=\"row_heading level0 row12\" >EstimatedSalary</th>\n",
       "      <td id=\"T_03b27_row12_col0\" class=\"data row12 col0\" >0.000000</td>\n",
       "    </tr>\n",
       "    <tr>\n",
       "      <th id=\"T_03b27_level0_row13\" class=\"row_heading level0 row13\" >Exited</th>\n",
       "      <td id=\"T_03b27_row13_col0\" class=\"data row13 col0\" >0.000000</td>\n",
       "    </tr>\n",
       "  </tbody>\n",
       "</table>\n"
      ],
      "text/plain": [
       "<pandas.io.formats.style.Styler at 0x1d51757bee0>"
      ]
     },
     "execution_count": 8,
     "metadata": {},
     "output_type": "execute_result"
    }
   ],
   "source": [
    "pd.DataFrame(data.isna().sum() / data.shape[0] * 100, columns=['pass']).style.background_gradient('coolwarm')"
   ]
  },
  {
   "cell_type": "markdown",
   "metadata": {},
   "source": [
    "9% данных в столбце `Tenure` пропущено. Посмотрим, можно ли по другим признакам заполнить пропуски."
   ]
  },
  {
   "cell_type": "code",
   "execution_count": 9,
   "metadata": {},
   "outputs": [
    {
     "data": {
      "text/html": [
       "<style type=\"text/css\">\n",
       "#T_adb4e_row0_col0, #T_adb4e_row1_col1, #T_adb4e_row2_col2, #T_adb4e_row3_col3, #T_adb4e_row4_col4, #T_adb4e_row5_col5, #T_adb4e_row6_col6, #T_adb4e_row7_col7, #T_adb4e_row8_col8, #T_adb4e_row9_col9, #T_adb4e_row10_col10 {\n",
       "  background-color: #b40426;\n",
       "  color: #f1f1f1;\n",
       "}\n",
       "#T_adb4e_row0_col1, #T_adb4e_row0_col4, #T_adb4e_row1_col9, #T_adb4e_row2_col1, #T_adb4e_row2_col3, #T_adb4e_row4_col2, #T_adb4e_row5_col4, #T_adb4e_row5_col9, #T_adb4e_row6_col9, #T_adb4e_row9_col2 {\n",
       "  background-color: #4257c9;\n",
       "  color: #f1f1f1;\n",
       "}\n",
       "#T_adb4e_row0_col2, #T_adb4e_row1_col2, #T_adb4e_row5_col2 {\n",
       "  background-color: #445acc;\n",
       "  color: #f1f1f1;\n",
       "}\n",
       "#T_adb4e_row0_col3, #T_adb4e_row2_col4, #T_adb4e_row3_col1, #T_adb4e_row8_col0 {\n",
       "  background-color: #4358cb;\n",
       "  color: #f1f1f1;\n",
       "}\n",
       "#T_adb4e_row0_col5, #T_adb4e_row1_col5, #T_adb4e_row8_col5 {\n",
       "  background-color: #84a7fc;\n",
       "  color: #f1f1f1;\n",
       "}\n",
       "#T_adb4e_row0_col6, #T_adb4e_row8_col6 {\n",
       "  background-color: #89acfd;\n",
       "  color: #000000;\n",
       "}\n",
       "#T_adb4e_row0_col7, #T_adb4e_row10_col1, #T_adb4e_row10_col4 {\n",
       "  background-color: #3e51c5;\n",
       "  color: #f1f1f1;\n",
       "}\n",
       "#T_adb4e_row0_col8, #T_adb4e_row9_col10 {\n",
       "  background-color: #688aef;\n",
       "  color: #f1f1f1;\n",
       "}\n",
       "#T_adb4e_row0_col9, #T_adb4e_row3_col9, #T_adb4e_row5_col0, #T_adb4e_row7_col1, #T_adb4e_row9_col7, #T_adb4e_row10_col7 {\n",
       "  background-color: #3c4ec2;\n",
       "  color: #f1f1f1;\n",
       "}\n",
       "#T_adb4e_row0_col10, #T_adb4e_row4_col10 {\n",
       "  background-color: #5f7fe8;\n",
       "  color: #f1f1f1;\n",
       "}\n",
       "#T_adb4e_row1_col0, #T_adb4e_row2_col0, #T_adb4e_row3_col2, #T_adb4e_row4_col9, #T_adb4e_row6_col0, #T_adb4e_row7_col2, #T_adb4e_row8_col1, #T_adb4e_row9_col3, #T_adb4e_row10_col9 {\n",
       "  background-color: #4055c8;\n",
       "  color: #f1f1f1;\n",
       "}\n",
       "#T_adb4e_row1_col3, #T_adb4e_row6_col1, #T_adb4e_row6_col2, #T_adb4e_row9_col1 {\n",
       "  background-color: #455cce;\n",
       "  color: #f1f1f1;\n",
       "}\n",
       "#T_adb4e_row1_col4, #T_adb4e_row2_col7, #T_adb4e_row2_col9, #T_adb4e_row4_col0, #T_adb4e_row5_col1, #T_adb4e_row9_col0 {\n",
       "  background-color: #3d50c3;\n",
       "  color: #f1f1f1;\n",
       "}\n",
       "#T_adb4e_row1_col6 {\n",
       "  background-color: #8caffe;\n",
       "  color: #000000;\n",
       "}\n",
       "#T_adb4e_row1_col7, #T_adb4e_row3_col7, #T_adb4e_row4_col1, #T_adb4e_row5_col6, #T_adb4e_row5_col7, #T_adb4e_row6_col3, #T_adb4e_row6_col5, #T_adb4e_row7_col9, #T_adb4e_row8_col4, #T_adb4e_row8_col7, #T_adb4e_row8_col9, #T_adb4e_row8_col10, #T_adb4e_row10_col0, #T_adb4e_row10_col2, #T_adb4e_row10_col8 {\n",
       "  background-color: #3b4cc0;\n",
       "  color: #f1f1f1;\n",
       "}\n",
       "#T_adb4e_row1_col8 {\n",
       "  background-color: #6485ec;\n",
       "  color: #f1f1f1;\n",
       "}\n",
       "#T_adb4e_row1_col10 {\n",
       "  background-color: #6384eb;\n",
       "  color: #f1f1f1;\n",
       "}\n",
       "#T_adb4e_row2_col5, #T_adb4e_row5_col10, #T_adb4e_row7_col6 {\n",
       "  background-color: #88abfd;\n",
       "  color: #000000;\n",
       "}\n",
       "#T_adb4e_row2_col6, #T_adb4e_row4_col6, #T_adb4e_row9_col5, #T_adb4e_row9_col6 {\n",
       "  background-color: #8badfd;\n",
       "  color: #000000;\n",
       "}\n",
       "#T_adb4e_row2_col8 {\n",
       "  background-color: #6c8ff1;\n",
       "  color: #f1f1f1;\n",
       "}\n",
       "#T_adb4e_row2_col10, #T_adb4e_row8_col3 {\n",
       "  background-color: #5d7ce6;\n",
       "  color: #f1f1f1;\n",
       "}\n",
       "#T_adb4e_row3_col0, #T_adb4e_row3_col4, #T_adb4e_row4_col3, #T_adb4e_row6_col7, #T_adb4e_row7_col0, #T_adb4e_row7_col3 {\n",
       "  background-color: #3f53c6;\n",
       "  color: #f1f1f1;\n",
       "}\n",
       "#T_adb4e_row3_col5 {\n",
       "  background-color: #8fb1fe;\n",
       "  color: #000000;\n",
       "}\n",
       "#T_adb4e_row3_col6, #T_adb4e_row3_col8 {\n",
       "  background-color: #7ea1fa;\n",
       "  color: #f1f1f1;\n",
       "}\n",
       "#T_adb4e_row3_col10 {\n",
       "  background-color: #bad0f8;\n",
       "  color: #000000;\n",
       "}\n",
       "#T_adb4e_row4_col5 {\n",
       "  background-color: #85a8fc;\n",
       "  color: #f1f1f1;\n",
       "}\n",
       "#T_adb4e_row4_col7, #T_adb4e_row6_col4, #T_adb4e_row9_col4 {\n",
       "  background-color: #465ecf;\n",
       "  color: #f1f1f1;\n",
       "}\n",
       "#T_adb4e_row4_col8 {\n",
       "  background-color: #5b7ae5;\n",
       "  color: #f1f1f1;\n",
       "}\n",
       "#T_adb4e_row5_col3, #T_adb4e_row7_col4 {\n",
       "  background-color: #4b64d5;\n",
       "  color: #f1f1f1;\n",
       "}\n",
       "#T_adb4e_row5_col8, #T_adb4e_row7_col10, #T_adb4e_row9_col8 {\n",
       "  background-color: #6282ea;\n",
       "  color: #f1f1f1;\n",
       "}\n",
       "#T_adb4e_row6_col8 {\n",
       "  background-color: #6788ee;\n",
       "  color: #f1f1f1;\n",
       "}\n",
       "#T_adb4e_row6_col10 {\n",
       "  background-color: #5673e0;\n",
       "  color: #f1f1f1;\n",
       "}\n",
       "#T_adb4e_row7_col5 {\n",
       "  background-color: #82a6fb;\n",
       "  color: #f1f1f1;\n",
       "}\n",
       "#T_adb4e_row7_col8 {\n",
       "  background-color: #6180e9;\n",
       "  color: #f1f1f1;\n",
       "}\n",
       "#T_adb4e_row8_col2 {\n",
       "  background-color: #4a63d3;\n",
       "  color: #f1f1f1;\n",
       "}\n",
       "#T_adb4e_row10_col3 {\n",
       "  background-color: #a1c0ff;\n",
       "  color: #000000;\n",
       "}\n",
       "#T_adb4e_row10_col5 {\n",
       "  background-color: #a6c4fe;\n",
       "  color: #000000;\n",
       "}\n",
       "#T_adb4e_row10_col6 {\n",
       "  background-color: #7a9df8;\n",
       "  color: #f1f1f1;\n",
       "}\n",
       "</style>\n",
       "<table id=\"T_adb4e\">\n",
       "  <thead>\n",
       "    <tr>\n",
       "      <th class=\"blank level0\" >&nbsp;</th>\n",
       "      <th id=\"T_adb4e_level0_col0\" class=\"col_heading level0 col0\" >RowNumber</th>\n",
       "      <th id=\"T_adb4e_level0_col1\" class=\"col_heading level0 col1\" >CustomerId</th>\n",
       "      <th id=\"T_adb4e_level0_col2\" class=\"col_heading level0 col2\" >CreditScore</th>\n",
       "      <th id=\"T_adb4e_level0_col3\" class=\"col_heading level0 col3\" >Age</th>\n",
       "      <th id=\"T_adb4e_level0_col4\" class=\"col_heading level0 col4\" >Tenure</th>\n",
       "      <th id=\"T_adb4e_level0_col5\" class=\"col_heading level0 col5\" >Balance</th>\n",
       "      <th id=\"T_adb4e_level0_col6\" class=\"col_heading level0 col6\" >NumOfProducts</th>\n",
       "      <th id=\"T_adb4e_level0_col7\" class=\"col_heading level0 col7\" >HasCrCard</th>\n",
       "      <th id=\"T_adb4e_level0_col8\" class=\"col_heading level0 col8\" >IsActiveMember</th>\n",
       "      <th id=\"T_adb4e_level0_col9\" class=\"col_heading level0 col9\" >EstimatedSalary</th>\n",
       "      <th id=\"T_adb4e_level0_col10\" class=\"col_heading level0 col10\" >Exited</th>\n",
       "    </tr>\n",
       "  </thead>\n",
       "  <tbody>\n",
       "    <tr>\n",
       "      <th id=\"T_adb4e_level0_row0\" class=\"row_heading level0 row0\" >RowNumber</th>\n",
       "      <td id=\"T_adb4e_row0_col0\" class=\"data row0 col0\" >1.000000</td>\n",
       "      <td id=\"T_adb4e_row0_col1\" class=\"data row0 col1\" >0.004202</td>\n",
       "      <td id=\"T_adb4e_row0_col2\" class=\"data row0 col2\" >0.005840</td>\n",
       "      <td id=\"T_adb4e_row0_col3\" class=\"data row0 col3\" >0.000783</td>\n",
       "      <td id=\"T_adb4e_row0_col4\" class=\"data row0 col4\" >-0.007322</td>\n",
       "      <td id=\"T_adb4e_row0_col5\" class=\"data row0 col5\" >-0.009067</td>\n",
       "      <td id=\"T_adb4e_row0_col6\" class=\"data row0 col6\" >0.007246</td>\n",
       "      <td id=\"T_adb4e_row0_col7\" class=\"data row0 col7\" >0.000599</td>\n",
       "      <td id=\"T_adb4e_row0_col8\" class=\"data row0 col8\" >0.012044</td>\n",
       "      <td id=\"T_adb4e_row0_col9\" class=\"data row0 col9\" >-0.005988</td>\n",
       "      <td id=\"T_adb4e_row0_col10\" class=\"data row0 col10\" >-0.016571</td>\n",
       "    </tr>\n",
       "    <tr>\n",
       "      <th id=\"T_adb4e_level0_row1\" class=\"row_heading level0 row1\" >CustomerId</th>\n",
       "      <td id=\"T_adb4e_row1_col0\" class=\"data row1 col0\" >0.004202</td>\n",
       "      <td id=\"T_adb4e_row1_col1\" class=\"data row1 col1\" >1.000000</td>\n",
       "      <td id=\"T_adb4e_row1_col2\" class=\"data row1 col2\" >0.005308</td>\n",
       "      <td id=\"T_adb4e_row1_col3\" class=\"data row1 col3\" >0.009497</td>\n",
       "      <td id=\"T_adb4e_row1_col4\" class=\"data row1 col4\" >-0.021418</td>\n",
       "      <td id=\"T_adb4e_row1_col5\" class=\"data row1 col5\" >-0.012419</td>\n",
       "      <td id=\"T_adb4e_row1_col6\" class=\"data row1 col6\" >0.016972</td>\n",
       "      <td id=\"T_adb4e_row1_col7\" class=\"data row1 col7\" >-0.014025</td>\n",
       "      <td id=\"T_adb4e_row1_col8\" class=\"data row1 col8\" >0.001665</td>\n",
       "      <td id=\"T_adb4e_row1_col9\" class=\"data row1 col9\" >0.015271</td>\n",
       "      <td id=\"T_adb4e_row1_col10\" class=\"data row1 col10\" >-0.006248</td>\n",
       "    </tr>\n",
       "    <tr>\n",
       "      <th id=\"T_adb4e_level0_row2\" class=\"row_heading level0 row2\" >CreditScore</th>\n",
       "      <td id=\"T_adb4e_row2_col0\" class=\"data row2 col0\" >0.005840</td>\n",
       "      <td id=\"T_adb4e_row2_col1\" class=\"data row2 col1\" >0.005308</td>\n",
       "      <td id=\"T_adb4e_row2_col2\" class=\"data row2 col2\" >1.000000</td>\n",
       "      <td id=\"T_adb4e_row2_col3\" class=\"data row2 col3\" >-0.003965</td>\n",
       "      <td id=\"T_adb4e_row2_col4\" class=\"data row2 col4\" >-0.000062</td>\n",
       "      <td id=\"T_adb4e_row2_col5\" class=\"data row2 col5\" >0.006268</td>\n",
       "      <td id=\"T_adb4e_row2_col6\" class=\"data row2 col6\" >0.012238</td>\n",
       "      <td id=\"T_adb4e_row2_col7\" class=\"data row2 col7\" >-0.005458</td>\n",
       "      <td id=\"T_adb4e_row2_col8\" class=\"data row2 col8\" >0.025651</td>\n",
       "      <td id=\"T_adb4e_row2_col9\" class=\"data row2 col9\" >-0.001384</td>\n",
       "      <td id=\"T_adb4e_row2_col10\" class=\"data row2 col10\" >-0.027094</td>\n",
       "    </tr>\n",
       "    <tr>\n",
       "      <th id=\"T_adb4e_level0_row3\" class=\"row_heading level0 row3\" >Age</th>\n",
       "      <td id=\"T_adb4e_row3_col0\" class=\"data row3 col0\" >0.000783</td>\n",
       "      <td id=\"T_adb4e_row3_col1\" class=\"data row3 col1\" >0.009497</td>\n",
       "      <td id=\"T_adb4e_row3_col2\" class=\"data row3 col2\" >-0.003965</td>\n",
       "      <td id=\"T_adb4e_row3_col3\" class=\"data row3 col3\" >1.000000</td>\n",
       "      <td id=\"T_adb4e_row3_col4\" class=\"data row3 col4\" >-0.013134</td>\n",
       "      <td id=\"T_adb4e_row3_col5\" class=\"data row3 col5\" >0.028308</td>\n",
       "      <td id=\"T_adb4e_row3_col6\" class=\"data row3 col6\" >-0.030680</td>\n",
       "      <td id=\"T_adb4e_row3_col7\" class=\"data row3 col7\" >-0.011721</td>\n",
       "      <td id=\"T_adb4e_row3_col8\" class=\"data row3 col8\" >0.085472</td>\n",
       "      <td id=\"T_adb4e_row3_col9\" class=\"data row3 col9\" >-0.007201</td>\n",
       "      <td id=\"T_adb4e_row3_col10\" class=\"data row3 col10\" >0.285323</td>\n",
       "    </tr>\n",
       "    <tr>\n",
       "      <th id=\"T_adb4e_level0_row4\" class=\"row_heading level0 row4\" >Tenure</th>\n",
       "      <td id=\"T_adb4e_row4_col0\" class=\"data row4 col0\" >-0.007322</td>\n",
       "      <td id=\"T_adb4e_row4_col1\" class=\"data row4 col1\" >-0.021418</td>\n",
       "      <td id=\"T_adb4e_row4_col2\" class=\"data row4 col2\" >-0.000062</td>\n",
       "      <td id=\"T_adb4e_row4_col3\" class=\"data row4 col3\" >-0.013134</td>\n",
       "      <td id=\"T_adb4e_row4_col4\" class=\"data row4 col4\" >1.000000</td>\n",
       "      <td id=\"T_adb4e_row4_col5\" class=\"data row4 col5\" >-0.007911</td>\n",
       "      <td id=\"T_adb4e_row4_col6\" class=\"data row4 col6\" >0.011979</td>\n",
       "      <td id=\"T_adb4e_row4_col7\" class=\"data row4 col7\" >0.027232</td>\n",
       "      <td id=\"T_adb4e_row4_col8\" class=\"data row4 col8\" >-0.032178</td>\n",
       "      <td id=\"T_adb4e_row4_col9\" class=\"data row4 col9\" >0.010520</td>\n",
       "      <td id=\"T_adb4e_row4_col10\" class=\"data row4 col10\" >-0.016761</td>\n",
       "    </tr>\n",
       "    <tr>\n",
       "      <th id=\"T_adb4e_level0_row5\" class=\"row_heading level0 row5\" >Balance</th>\n",
       "      <td id=\"T_adb4e_row5_col0\" class=\"data row5 col0\" >-0.009067</td>\n",
       "      <td id=\"T_adb4e_row5_col1\" class=\"data row5 col1\" >-0.012419</td>\n",
       "      <td id=\"T_adb4e_row5_col2\" class=\"data row5 col2\" >0.006268</td>\n",
       "      <td id=\"T_adb4e_row5_col3\" class=\"data row5 col3\" >0.028308</td>\n",
       "      <td id=\"T_adb4e_row5_col4\" class=\"data row5 col4\" >-0.007911</td>\n",
       "      <td id=\"T_adb4e_row5_col5\" class=\"data row5 col5\" >1.000000</td>\n",
       "      <td id=\"T_adb4e_row5_col6\" class=\"data row5 col6\" >-0.304180</td>\n",
       "      <td id=\"T_adb4e_row5_col7\" class=\"data row5 col7\" >-0.014858</td>\n",
       "      <td id=\"T_adb4e_row5_col8\" class=\"data row5 col8\" >-0.010084</td>\n",
       "      <td id=\"T_adb4e_row5_col9\" class=\"data row5 col9\" >0.012797</td>\n",
       "      <td id=\"T_adb4e_row5_col10\" class=\"data row5 col10\" >0.118533</td>\n",
       "    </tr>\n",
       "    <tr>\n",
       "      <th id=\"T_adb4e_level0_row6\" class=\"row_heading level0 row6\" >NumOfProducts</th>\n",
       "      <td id=\"T_adb4e_row6_col0\" class=\"data row6 col0\" >0.007246</td>\n",
       "      <td id=\"T_adb4e_row6_col1\" class=\"data row6 col1\" >0.016972</td>\n",
       "      <td id=\"T_adb4e_row6_col2\" class=\"data row6 col2\" >0.012238</td>\n",
       "      <td id=\"T_adb4e_row6_col3\" class=\"data row6 col3\" >-0.030680</td>\n",
       "      <td id=\"T_adb4e_row6_col4\" class=\"data row6 col4\" >0.011979</td>\n",
       "      <td id=\"T_adb4e_row6_col5\" class=\"data row6 col5\" >-0.304180</td>\n",
       "      <td id=\"T_adb4e_row6_col6\" class=\"data row6 col6\" >1.000000</td>\n",
       "      <td id=\"T_adb4e_row6_col7\" class=\"data row6 col7\" >0.003183</td>\n",
       "      <td id=\"T_adb4e_row6_col8\" class=\"data row6 col8\" >0.009612</td>\n",
       "      <td id=\"T_adb4e_row6_col9\" class=\"data row6 col9\" >0.014204</td>\n",
       "      <td id=\"T_adb4e_row6_col10\" class=\"data row6 col10\" >-0.047820</td>\n",
       "    </tr>\n",
       "    <tr>\n",
       "      <th id=\"T_adb4e_level0_row7\" class=\"row_heading level0 row7\" >HasCrCard</th>\n",
       "      <td id=\"T_adb4e_row7_col0\" class=\"data row7 col0\" >0.000599</td>\n",
       "      <td id=\"T_adb4e_row7_col1\" class=\"data row7 col1\" >-0.014025</td>\n",
       "      <td id=\"T_adb4e_row7_col2\" class=\"data row7 col2\" >-0.005458</td>\n",
       "      <td id=\"T_adb4e_row7_col3\" class=\"data row7 col3\" >-0.011721</td>\n",
       "      <td id=\"T_adb4e_row7_col4\" class=\"data row7 col4\" >0.027232</td>\n",
       "      <td id=\"T_adb4e_row7_col5\" class=\"data row7 col5\" >-0.014858</td>\n",
       "      <td id=\"T_adb4e_row7_col6\" class=\"data row7 col6\" >0.003183</td>\n",
       "      <td id=\"T_adb4e_row7_col7\" class=\"data row7 col7\" >1.000000</td>\n",
       "      <td id=\"T_adb4e_row7_col8\" class=\"data row7 col8\" >-0.011866</td>\n",
       "      <td id=\"T_adb4e_row7_col9\" class=\"data row7 col9\" >-0.009933</td>\n",
       "      <td id=\"T_adb4e_row7_col10\" class=\"data row7 col10\" >-0.007138</td>\n",
       "    </tr>\n",
       "    <tr>\n",
       "      <th id=\"T_adb4e_level0_row8\" class=\"row_heading level0 row8\" >IsActiveMember</th>\n",
       "      <td id=\"T_adb4e_row8_col0\" class=\"data row8 col0\" >0.012044</td>\n",
       "      <td id=\"T_adb4e_row8_col1\" class=\"data row8 col1\" >0.001665</td>\n",
       "      <td id=\"T_adb4e_row8_col2\" class=\"data row8 col2\" >0.025651</td>\n",
       "      <td id=\"T_adb4e_row8_col3\" class=\"data row8 col3\" >0.085472</td>\n",
       "      <td id=\"T_adb4e_row8_col4\" class=\"data row8 col4\" >-0.032178</td>\n",
       "      <td id=\"T_adb4e_row8_col5\" class=\"data row8 col5\" >-0.010084</td>\n",
       "      <td id=\"T_adb4e_row8_col6\" class=\"data row8 col6\" >0.009612</td>\n",
       "      <td id=\"T_adb4e_row8_col7\" class=\"data row8 col7\" >-0.011866</td>\n",
       "      <td id=\"T_adb4e_row8_col8\" class=\"data row8 col8\" >1.000000</td>\n",
       "      <td id=\"T_adb4e_row8_col9\" class=\"data row8 col9\" >-0.011421</td>\n",
       "      <td id=\"T_adb4e_row8_col10\" class=\"data row8 col10\" >-0.156128</td>\n",
       "    </tr>\n",
       "    <tr>\n",
       "      <th id=\"T_adb4e_level0_row9\" class=\"row_heading level0 row9\" >EstimatedSalary</th>\n",
       "      <td id=\"T_adb4e_row9_col0\" class=\"data row9 col0\" >-0.005988</td>\n",
       "      <td id=\"T_adb4e_row9_col1\" class=\"data row9 col1\" >0.015271</td>\n",
       "      <td id=\"T_adb4e_row9_col2\" class=\"data row9 col2\" >-0.001384</td>\n",
       "      <td id=\"T_adb4e_row9_col3\" class=\"data row9 col3\" >-0.007201</td>\n",
       "      <td id=\"T_adb4e_row9_col4\" class=\"data row9 col4\" >0.010520</td>\n",
       "      <td id=\"T_adb4e_row9_col5\" class=\"data row9 col5\" >0.012797</td>\n",
       "      <td id=\"T_adb4e_row9_col6\" class=\"data row9 col6\" >0.014204</td>\n",
       "      <td id=\"T_adb4e_row9_col7\" class=\"data row9 col7\" >-0.009933</td>\n",
       "      <td id=\"T_adb4e_row9_col8\" class=\"data row9 col8\" >-0.011421</td>\n",
       "      <td id=\"T_adb4e_row9_col9\" class=\"data row9 col9\" >1.000000</td>\n",
       "      <td id=\"T_adb4e_row9_col10\" class=\"data row9 col10\" >0.012097</td>\n",
       "    </tr>\n",
       "    <tr>\n",
       "      <th id=\"T_adb4e_level0_row10\" class=\"row_heading level0 row10\" >Exited</th>\n",
       "      <td id=\"T_adb4e_row10_col0\" class=\"data row10 col0\" >-0.016571</td>\n",
       "      <td id=\"T_adb4e_row10_col1\" class=\"data row10 col1\" >-0.006248</td>\n",
       "      <td id=\"T_adb4e_row10_col2\" class=\"data row10 col2\" >-0.027094</td>\n",
       "      <td id=\"T_adb4e_row10_col3\" class=\"data row10 col3\" >0.285323</td>\n",
       "      <td id=\"T_adb4e_row10_col4\" class=\"data row10 col4\" >-0.016761</td>\n",
       "      <td id=\"T_adb4e_row10_col5\" class=\"data row10 col5\" >0.118533</td>\n",
       "      <td id=\"T_adb4e_row10_col6\" class=\"data row10 col6\" >-0.047820</td>\n",
       "      <td id=\"T_adb4e_row10_col7\" class=\"data row10 col7\" >-0.007138</td>\n",
       "      <td id=\"T_adb4e_row10_col8\" class=\"data row10 col8\" >-0.156128</td>\n",
       "      <td id=\"T_adb4e_row10_col9\" class=\"data row10 col9\" >0.012097</td>\n",
       "      <td id=\"T_adb4e_row10_col10\" class=\"data row10 col10\" >1.000000</td>\n",
       "    </tr>\n",
       "  </tbody>\n",
       "</table>\n"
      ],
      "text/plain": [
       "<pandas.io.formats.style.Styler at 0x1d5175aff40>"
      ]
     },
     "execution_count": 9,
     "metadata": {},
     "output_type": "execute_result"
    }
   ],
   "source": [
    "data.corr().style.background_gradient('coolwarm')"
   ]
  },
  {
   "cell_type": "markdown",
   "metadata": {},
   "source": [
    "Как видим признак `Tenure` ни с каким другим признаком не коррелирует. Придется удалить пропуски в этом столбце. Кроме этого удалим неинформативные признаки `RowNumber`, `CustomerId`, `Surname`. "
   ]
  },
  {
   "cell_type": "code",
   "execution_count": 10,
   "metadata": {},
   "outputs": [],
   "source": [
    "data = data.dropna()"
   ]
  },
  {
   "cell_type": "markdown",
   "metadata": {},
   "source": [
    "Проверим данные на дубликаты"
   ]
  },
  {
   "cell_type": "code",
   "execution_count": 11,
   "metadata": {},
   "outputs": [
    {
     "name": "stdout",
     "output_type": "stream",
     "text": [
      "Количество дубликатов в данных: 0\n"
     ]
    }
   ],
   "source": [
    "print('Количество дубликатов в данных:', data.duplicated().sum())"
   ]
  },
  {
   "cell_type": "markdown",
   "metadata": {},
   "source": [
    "Удалим неинформативные признаки"
   ]
  },
  {
   "cell_type": "code",
   "execution_count": 12,
   "metadata": {},
   "outputs": [
    {
     "data": {
      "text/html": [
       "<div>\n",
       "<style scoped>\n",
       "    .dataframe tbody tr th:only-of-type {\n",
       "        vertical-align: middle;\n",
       "    }\n",
       "\n",
       "    .dataframe tbody tr th {\n",
       "        vertical-align: top;\n",
       "    }\n",
       "\n",
       "    .dataframe thead th {\n",
       "        text-align: right;\n",
       "    }\n",
       "</style>\n",
       "<table border=\"1\" class=\"dataframe\">\n",
       "  <thead>\n",
       "    <tr style=\"text-align: right;\">\n",
       "      <th></th>\n",
       "      <th>CreditScore</th>\n",
       "      <th>Geography</th>\n",
       "      <th>Gender</th>\n",
       "      <th>Age</th>\n",
       "      <th>Tenure</th>\n",
       "      <th>Balance</th>\n",
       "      <th>NumOfProducts</th>\n",
       "      <th>HasCrCard</th>\n",
       "      <th>IsActiveMember</th>\n",
       "      <th>EstimatedSalary</th>\n",
       "      <th>Exited</th>\n",
       "    </tr>\n",
       "  </thead>\n",
       "  <tbody>\n",
       "    <tr>\n",
       "      <th>0</th>\n",
       "      <td>619</td>\n",
       "      <td>France</td>\n",
       "      <td>Female</td>\n",
       "      <td>42</td>\n",
       "      <td>2.0</td>\n",
       "      <td>0.00</td>\n",
       "      <td>1</td>\n",
       "      <td>1</td>\n",
       "      <td>1</td>\n",
       "      <td>101348.88</td>\n",
       "      <td>1</td>\n",
       "    </tr>\n",
       "    <tr>\n",
       "      <th>1</th>\n",
       "      <td>608</td>\n",
       "      <td>Spain</td>\n",
       "      <td>Female</td>\n",
       "      <td>41</td>\n",
       "      <td>1.0</td>\n",
       "      <td>83807.86</td>\n",
       "      <td>1</td>\n",
       "      <td>0</td>\n",
       "      <td>1</td>\n",
       "      <td>112542.58</td>\n",
       "      <td>0</td>\n",
       "    </tr>\n",
       "    <tr>\n",
       "      <th>2</th>\n",
       "      <td>502</td>\n",
       "      <td>France</td>\n",
       "      <td>Female</td>\n",
       "      <td>42</td>\n",
       "      <td>8.0</td>\n",
       "      <td>159660.80</td>\n",
       "      <td>3</td>\n",
       "      <td>1</td>\n",
       "      <td>0</td>\n",
       "      <td>113931.57</td>\n",
       "      <td>1</td>\n",
       "    </tr>\n",
       "    <tr>\n",
       "      <th>3</th>\n",
       "      <td>699</td>\n",
       "      <td>France</td>\n",
       "      <td>Female</td>\n",
       "      <td>39</td>\n",
       "      <td>1.0</td>\n",
       "      <td>0.00</td>\n",
       "      <td>2</td>\n",
       "      <td>0</td>\n",
       "      <td>0</td>\n",
       "      <td>93826.63</td>\n",
       "      <td>0</td>\n",
       "    </tr>\n",
       "    <tr>\n",
       "      <th>4</th>\n",
       "      <td>850</td>\n",
       "      <td>Spain</td>\n",
       "      <td>Female</td>\n",
       "      <td>43</td>\n",
       "      <td>2.0</td>\n",
       "      <td>125510.82</td>\n",
       "      <td>1</td>\n",
       "      <td>1</td>\n",
       "      <td>1</td>\n",
       "      <td>79084.10</td>\n",
       "      <td>0</td>\n",
       "    </tr>\n",
       "  </tbody>\n",
       "</table>\n",
       "</div>"
      ],
      "text/plain": [
       "   CreditScore Geography  Gender  Age  Tenure    Balance  NumOfProducts  \\\n",
       "0          619    France  Female   42     2.0       0.00              1   \n",
       "1          608     Spain  Female   41     1.0   83807.86              1   \n",
       "2          502    France  Female   42     8.0  159660.80              3   \n",
       "3          699    France  Female   39     1.0       0.00              2   \n",
       "4          850     Spain  Female   43     2.0  125510.82              1   \n",
       "\n",
       "   HasCrCard  IsActiveMember  EstimatedSalary  Exited  \n",
       "0          1               1        101348.88       1  \n",
       "1          0               1        112542.58       0  \n",
       "2          1               0        113931.57       1  \n",
       "3          0               0         93826.63       0  \n",
       "4          1               1         79084.10       0  "
      ]
     },
     "execution_count": 12,
     "metadata": {},
     "output_type": "execute_result"
    }
   ],
   "source": [
    "data = data.drop(['RowNumber', 'CustomerId', 'Surname'], axis=1).reset_index(drop=True)\n",
    "data.head()"
   ]
  },
  {
   "cell_type": "markdown",
   "metadata": {},
   "source": [
    "**ИТОГ.**\n",
    "В ходе предобработки данных было сделано следующее:\n",
    "- обработаны пропуски в данных;\n",
    "- данные исследованы на дубликаты;\n",
    "- удалены неинформативные признаки."
   ]
  },
  {
   "cell_type": "markdown",
   "metadata": {},
   "source": [
    "## 3. Исследовательский анализ данных"
   ]
  },
  {
   "cell_type": "markdown",
   "metadata": {},
   "source": [
    "Посмотрим, как распределяется число ущедших и неушедших клиентов по странам"
   ]
  },
  {
   "cell_type": "code",
   "execution_count": 13,
   "metadata": {},
   "outputs": [
    {
     "data": {
      "image/png": "[encoded data removed]",
      "text/plain": [
       "<Figure size 720x432 with 1 Axes>"
      ]
     },
     "metadata": {
      "needs_background": "light"
     },
     "output_type": "display_data"
    }
   ],
   "source": [
    "analysis_cat('Geography', 'Страна', 'Количество клиентов', 'Распределение факта ухода клиента по странам')"
   ]
  },
  {
   "cell_type": "markdown",
   "metadata": {},
   "source": [
    "Большинство клиентов банка находится во Франции (их более 4000). В Германии и Испании число клиентов примерно одинаковое, но в Германии более значительная доля ушедших клиентов (примерно 1/3). Посмотрим как влияет гендер клиента на факт ухода"
   ]
  },
  {
   "cell_type": "code",
   "execution_count": 14,
   "metadata": {},
   "outputs": [
    {
     "data": {
      "image/png": "[encoded data removed]",
      "text/plain": [
       "<Figure size 720x432 with 1 Axes>"
      ]
     },
     "metadata": {
      "needs_background": "light"
     },
     "output_type": "display_data"
    }
   ],
   "source": [
    "analysis_cat('Gender', 'Гендер', 'Количество клиентов', 'Распределение факта ухода по гендеру клиента')"
   ]
  },
  {
   "cell_type": "markdown",
   "metadata": {},
   "source": [
    "Среди клиентов больше мужчин, но доля тех, кто ушел больше у женщин. Теперь посмотрим на доли ушедших клиентов в зависимости от наличия у них кредитной карты."
   ]
  },
  {
   "cell_type": "code",
   "execution_count": 15,
   "metadata": {},
   "outputs": [
    {
     "data": {
      "image/png": "[encoded data removed]",
      "text/plain": [
       "<Figure size 720x432 with 1 Axes>"
      ]
     },
     "metadata": {
      "needs_background": "light"
     },
     "output_type": "display_data"
    }
   ],
   "source": [
    "analysis_cat('HasCrCard', 'Наличие кредитной карты', \n",
    "             'Количество клиентов', \n",
    "             'Распределение факта ухода по наличию кредитной карты')"
   ]
  },
  {
   "cell_type": "markdown",
   "metadata": {},
   "source": [
    "Большинство клиентов имеют кредитную карту. При этом доля ушедших клиентов также значительно больше среди тех, у кого в наличии есть кредитная карта. Проанализируем кредитный рейтинг клиентов."
   ]
  },
  {
   "cell_type": "code",
   "execution_count": 16,
   "metadata": {},
   "outputs": [
    {
     "data": {
      "image/png": "[encoded data removed]",
      "text/plain": [
       "<Figure size 720x432 with 1 Axes>"
      ]
     },
     "metadata": {
      "needs_background": "light"
     },
     "output_type": "display_data"
    }
   ],
   "source": [
    "analysis_num('CreditScore', \n",
    "             'Факт ухода клиента (0 - не ушел, 1 - ушел)', \n",
    "             'Кредитный рейтинг клиента', \n",
    "             'Распределение рейтинга клиента в зависимости от факта его ухода')"
   ]
  },
  {
   "cell_type": "markdown",
   "metadata": {},
   "source": [
    "Уровень максимального и среднего кредитного рейтинга киентов в двух категориях примерно одинаковый. Минимальное значение рейтинга немного отличается (около 400 у тех клиентов, которые не ушли, и примерно 350 у ушедших клиентов). Взглянем на распределение возраста клиентов."
   ]
  },
  {
   "cell_type": "code",
   "execution_count": 17,
   "metadata": {},
   "outputs": [
    {
     "data": {
      "image/png": "[encoded data removed]",
      "text/plain": [
       "<Figure size 720x432 with 1 Axes>"
      ]
     },
     "metadata": {
      "needs_background": "light"
     },
     "output_type": "display_data"
    }
   ],
   "source": [
    "analysis_num('Age', \n",
    "             'Факт ухода клиента (0 - не ушел, 1 - ушел)', \n",
    "             'Возраст клиента', \n",
    "             'Распределение возраста клиента в зависимости от факта его ухода')"
   ]
  },
  {
   "cell_type": "markdown",
   "metadata": {},
   "source": [
    "Стоит отметить, что уровень среднего возраста больше у прекративших сотрудничество с банком клиентов."
   ]
  },
  {
   "cell_type": "markdown",
   "metadata": {},
   "source": [
    "**ИТОГ.**\n",
    "В ходе исследовательского анализа данных проанализировали зависимость целевого признака (факт ухода клиента) от некоторых категориальных (страна проживания, гендер, наличие кредитной карты) и количественных (кредитный рейтинг клиента и возраст клиента) признаков."
   ]
  },
  {
   "cell_type": "markdown",
   "metadata": {},
   "source": [
    "## 4. Подготовка данных и обучение моделей"
   ]
  },
  {
   "cell_type": "markdown",
   "metadata": {},
   "source": [
    "Проверим данные на дисбаланс классов целевого признака."
   ]
  },
  {
   "cell_type": "code",
   "execution_count": 18,
   "metadata": {},
   "outputs": [
    {
     "data": {
      "image/png": "[encoded data removed]",
      "text/plain": [
       "<Figure size 720x360 with 1 Axes>"
      ]
     },
     "metadata": {
      "needs_background": "light"
     },
     "output_type": "display_data"
    }
   ],
   "source": [
    "data['Exited'].value_counts().plot(kind='bar', figsize=(10,5))\n",
    "plt.xlabel('Факт ухода клиента (0 - не ушел, 1 - ушел)')\n",
    "plt.ylabel('Количество клиентов')\n",
    "plt.title('Количество данных по каждому из классов целевой переменной')\n",
    "plt.show()"
   ]
  },
  {
   "cell_type": "markdown",
   "metadata": {},
   "source": [
    "Заметен явный дисбаланс классов. При обучении моделей будем использовать метод взвешенных классов для борьбы с дисбалансом. Разделим данные на обучающую и тестовую выборки."
   ]
  },
  {
   "cell_type": "code",
   "execution_count": 19,
   "metadata": {},
   "outputs": [],
   "source": [
    "train, test = train_test_split(data, test_size=0.25, random_state=RANDOM_STATE, stratify=data['Exited'])\n",
    "features_train = train.drop('Exited', axis=1)\n",
    "features_test = test.drop('Exited', axis=1)\n",
    "target_train = train['Exited'] \n",
    "target_test = test['Exited']"
   ]
  },
  {
   "cell_type": "code",
   "execution_count": 20,
   "metadata": {},
   "outputs": [
    {
     "name": "stdout",
     "output_type": "stream",
     "text": [
      "(6818, 11) (2273, 11)\n"
     ]
    }
   ],
   "source": [
    "print(train.shape, test.shape)"
   ]
  },
  {
   "cell_type": "markdown",
   "metadata": {},
   "source": [
    "Сделаем из признаков `HasCrCard` и `IsActiveMember` категориалные"
   ]
  },
  {
   "cell_type": "code",
   "execution_count": 21,
   "metadata": {},
   "outputs": [],
   "source": [
    "data['HasCrCard'] = data['HasCrCard'].astype('str')\n",
    "data['IsActiveMember'] = data['IsActiveMember'].astype('str')"
   ]
  },
  {
   "cell_type": "markdown",
   "metadata": {},
   "source": [
    "Определим набор категориальных и количественных признаков"
   ]
  },
  {
   "cell_type": "code",
   "execution_count": 22,
   "metadata": {},
   "outputs": [],
   "source": [
    "cat = ['Geography', 'Gender', 'HasCrCard', 'IsActiveMember']\n",
    "num = ['CreditScore', 'Age', 'Tenure', 'Balance', 'NumOfProducts', 'EstimatedSalary']"
   ]
  },
  {
   "cell_type": "markdown",
   "metadata": {},
   "source": [
    "Приступим к обучению различных моделей. Начнем с дерева решений."
   ]
  },
  {
   "cell_type": "code",
   "execution_count": 23,
   "metadata": {},
   "outputs": [
    {
     "name": "stdout",
     "output_type": "stream",
     "text": [
      "Параметры наилучшей модели: {'model__min_samples_split': 2, 'model__min_samples_leaf': 2, 'model__max_depth': 6}\n",
      "Значение метрики F1: 0.5674319793565411\n"
     ]
    }
   ],
   "source": [
    "transformer_features = make_column_transformer((OneHotEncoder(drop='first', sparse=False), cat),\n",
    "                                               (StandardScaler(), num))\n",
    "pipe = Pipeline([\n",
    "    ('preproc', transformer_features),\n",
    "    ('model', DecisionTreeClassifier(random_state=RANDOM_STATE, class_weight='balanced'))\n",
    "])\n",
    "\n",
    "param = {'model__max_depth':range(1,30),\n",
    "         'model__min_samples_split':range(0, 4), \n",
    "         'model__min_samples_leaf':range(0,4)}\n",
    "\n",
    "grid_dec = RandomizedSearchCV(pipe, param, cv=5, scoring='f1', n_iter=200, random_state=RANDOM_STATE)\n",
    "grid_dec.fit(features_train, target_train)\n",
    "dec_score = grid_dec.best_score_\n",
    "print('Параметры наилучшей модели:', grid_dec.best_params_)\n",
    "print('Значение метрики F1:', dec_score)"
   ]
  },
  {
   "cell_type": "markdown",
   "metadata": {},
   "source": [
    "Обучим случайный лес"
   ]
  },
  {
   "cell_type": "code",
   "execution_count": 24,
   "metadata": {},
   "outputs": [
    {
     "name": "stdout",
     "output_type": "stream",
     "text": [
      "Параметры наилучшей модели: {'model__n_estimators': 181, 'model__min_samples_split': 2, 'model__min_samples_leaf': 3, 'model__max_depth': 9}\n",
      "Значение метрики F1: 0.6129003585163136\n"
     ]
    }
   ],
   "source": [
    "transformer_features = make_column_transformer((OneHotEncoder(drop='first', sparse=False), cat),\n",
    "                                               (StandardScaler(), num))\n",
    "pipe = Pipeline([\n",
    "    ('preproc', transformer_features),\n",
    "    ('model', RandomForestClassifier(random_state=RANDOM_STATE, class_weight='balanced'))\n",
    "])\n",
    "\n",
    "param_grid = {'model__n_estimators':range(1, 200, 10),\n",
    "              'model__max_depth':range(1, 20),\n",
    "              'model__min_samples_split':range(0, 4), \n",
    "              'model__min_samples_leaf':range(0,4)}\n",
    "\n",
    "grid_forest = RandomizedSearchCV(pipe, param_grid, cv=5, scoring='f1', n_iter=200, random_state=RANDOM_STATE)\n",
    "grid_forest.fit(features_train, target_train)\n",
    "forest_score = grid_forest.best_score_\n",
    "print('Параметры наилучшей модели:', grid_forest.best_params_)\n",
    "print('Значение метрики F1:', forest_score)"
   ]
  },
  {
   "cell_type": "markdown",
   "metadata": {},
   "source": [
    "Посмотрим на обучение логистической регрессии"
   ]
  },
  {
   "cell_type": "code",
   "execution_count": 25,
   "metadata": {},
   "outputs": [
    {
     "name": "stdout",
     "output_type": "stream",
     "text": [
      "Параметры наилучшей модели: {'model__penalty': 'l2', 'model__C': 10}\n",
      "Значение метрики F1: 0.29800355062482836\n"
     ]
    }
   ],
   "source": [
    "transformer_features = make_column_transformer((OneHotEncoder(drop='first', sparse=False), cat),\n",
    "                                               (StandardScaler(), num))\n",
    "pipe = Pipeline([\n",
    "    ('preproc', transformer_features),\n",
    "    ('model', LogisticRegression(random_state=RANDOM_STATE))\n",
    "])\n",
    "\n",
    "param_grid = {'model__penalty':[None, 'l2', 'l1', 'elasticnet'],\n",
    "              'model__C':[0.00001, 0.0001, 0.001, 0.01, 0.1, 1, 10, 100, 1000]}\n",
    "\n",
    "grid_log = RandomizedSearchCV(pipe, param_grid, cv=5, scoring='f1', n_iter=200, random_state=RANDOM_STATE)\n",
    "grid_log.fit(features_train, target_train)\n",
    "log_score = grid_log.best_score_\n",
    "print('Параметры наилучшей модели:', grid_log.best_params_)\n",
    "print('Значение метрики F1:', log_score)"
   ]
  },
  {
   "cell_type": "markdown",
   "metadata": {},
   "source": [
    "Сравним результаты тестирования трех моделей."
   ]
  },
  {
   "cell_type": "code",
   "execution_count": 26,
   "metadata": {},
   "outputs": [
    {
     "data": {
      "text/html": [
       "<div>\n",
       "<style scoped>\n",
       "    .dataframe tbody tr th:only-of-type {\n",
       "        vertical-align: middle;\n",
       "    }\n",
       "\n",
       "    .dataframe tbody tr th {\n",
       "        vertical-align: top;\n",
       "    }\n",
       "\n",
       "    .dataframe thead th {\n",
       "        text-align: right;\n",
       "    }\n",
       "</style>\n",
       "<table border=\"1\" class=\"dataframe\">\n",
       "  <thead>\n",
       "    <tr style=\"text-align: right;\">\n",
       "      <th></th>\n",
       "      <th>Name</th>\n",
       "      <th>F1_score</th>\n",
       "    </tr>\n",
       "  </thead>\n",
       "  <tbody>\n",
       "    <tr>\n",
       "      <th>0</th>\n",
       "      <td>DecisionTreeClassifier</td>\n",
       "      <td>0.567432</td>\n",
       "    </tr>\n",
       "    <tr>\n",
       "      <th>1</th>\n",
       "      <td>RandomForestClassifier</td>\n",
       "      <td>0.612900</td>\n",
       "    </tr>\n",
       "    <tr>\n",
       "      <th>2</th>\n",
       "      <td>LogisticRegression</td>\n",
       "      <td>0.298004</td>\n",
       "    </tr>\n",
       "  </tbody>\n",
       "</table>\n",
       "</div>"
      ],
      "text/plain": [
       "                     Name  F1_score\n",
       "0  DecisionTreeClassifier  0.567432\n",
       "1  RandomForestClassifier  0.612900\n",
       "2      LogisticRegression  0.298004"
      ]
     },
     "execution_count": 26,
     "metadata": {},
     "output_type": "execute_result"
    }
   ],
   "source": [
    "table = pd.DataFrame([['DecisionTreeClassifier', dec_score],\n",
    "                      ['RandomForestClassifier', forest_score],\n",
    "                      ['LogisticRegression', log_score]], columns=['Name', 'F1_score'])\n",
    "table"
   ]
  },
  {
   "cell_type": "markdown",
   "metadata": {},
   "source": [
    "**ИТОГ.**\n",
    "В ходе данного этапа данные были разбиты на тренировочную и тестовую выборки. Также было проведено тестирование трех моделей: дерева решений, случайного леса и логистической регрессии. Наилучший показатель метрики F1 показала модель случайного леса (0.613). Данная модель будет выбрана для итогового тестирования."
   ]
  },
  {
   "cell_type": "markdown",
   "metadata": {},
   "source": [
    "## 5. Итоговое тестирование"
   ]
  },
  {
   "cell_type": "markdown",
   "metadata": {},
   "source": [
    "Протестируем модель на тестовом наборе данных."
   ]
  },
  {
   "cell_type": "code",
   "execution_count": 27,
   "metadata": {},
   "outputs": [
    {
     "data": {
      "text/html": [
       "<div>\n",
       "<style scoped>\n",
       "    .dataframe tbody tr th:only-of-type {\n",
       "        vertical-align: middle;\n",
       "    }\n",
       "\n",
       "    .dataframe tbody tr th {\n",
       "        vertical-align: top;\n",
       "    }\n",
       "\n",
       "    .dataframe thead th {\n",
       "        text-align: right;\n",
       "    }\n",
       "</style>\n",
       "<table border=\"1\" class=\"dataframe\">\n",
       "  <thead>\n",
       "    <tr style=\"text-align: right;\">\n",
       "      <th></th>\n",
       "      <th>f1</th>\n",
       "      <th>precision</th>\n",
       "      <th>recall</th>\n",
       "    </tr>\n",
       "  </thead>\n",
       "  <tbody>\n",
       "    <tr>\n",
       "      <th>0</th>\n",
       "      <td>0.639053</td>\n",
       "      <td>0.589091</td>\n",
       "      <td>0.698276</td>\n",
       "    </tr>\n",
       "  </tbody>\n",
       "</table>\n",
       "</div>"
      ],
      "text/plain": [
       "         f1  precision    recall\n",
       "0  0.639053   0.589091  0.698276"
      ]
     },
     "execution_count": 27,
     "metadata": {},
     "output_type": "execute_result"
    }
   ],
   "source": [
    "transformer_features = make_column_transformer((OneHotEncoder(drop='first', sparse=False), cat),\n",
    "                                               (StandardScaler(), num))\n",
    "pipe_test = Pipeline([\n",
    "    ('preproc', transformer_features),\n",
    "    ('model', RandomForestClassifier(random_state=RANDOM_STATE, class_weight='balanced', \n",
    "                                     n_estimators=181, max_depth=9, min_samples_split=2, \n",
    "                                     min_samples_leaf=3))\n",
    "])\n",
    "\n",
    "pipe_test.fit(features_train, target_train)\n",
    "predict = pipe_test.predict(features_test)\n",
    "prob = pipe_test.predict_proba(features_test)\n",
    "probabilities = prob[:,1]\n",
    "f1 = f1_score(target_test, predict)\n",
    "precision = precision_score(target_test, predict)\n",
    "recall = recall_score(target_test, predict)\n",
    "table = pd.DataFrame([[f1, precision, recall]], columns=['f1', 'precision', 'recall'])\n",
    "table"
   ]
  },
  {
   "cell_type": "markdown",
   "metadata": {},
   "source": [
    "Видим, что выбранная модель показала метрику F1, равную 0.64. При этом стоит отметить, что модель неплохо находит тех клиентов, которые хотят уйти (об этом говорит метрика recall, равная почти 0.7). Наши выводы также подтверждает матрица ошибок."
   ]
  },
  {
   "cell_type": "code",
   "execution_count": 28,
   "metadata": {},
   "outputs": [
    {
     "data": {
      "image/png": "[encoded data removed]",
      "text/plain": [
       "<Figure size 432x288 with 2 Axes>"
      ]
     },
     "metadata": {
      "needs_background": "light"
     },
     "output_type": "display_data"
    }
   ],
   "source": [
    "ax = sns.heatmap(confusion_matrix(target_test, predict), annot=True, cmap='Blues', fmt='')\n",
    "\n",
    "ax.set_title('Seaborn Confusion Matrix ');\n",
    "ax.set_xlabel('\\nPredicted Values')\n",
    "ax.set_ylabel('Actual Values ');\n",
    "\n",
    "ax.xaxis.set_ticklabels(['False','True'])\n",
    "ax.yaxis.set_ticklabels(['False','True'])\n",
    "\n",
    "plt.show()"
   ]
  },
  {
   "cell_type": "markdown",
   "metadata": {},
   "source": [
    "Мосмотрим также на метрику ROC-AUC"
   ]
  },
  {
   "cell_type": "code",
   "execution_count": 29,
   "metadata": {},
   "outputs": [
    {
     "data": {
      "image/png": "[encoded data removed]",
      "text/plain": [
       "<Figure size 720x576 with 1 Axes>"
      ]
     },
     "metadata": {
      "needs_background": "light"
     },
     "output_type": "display_data"
    }
   ],
   "source": [
    "fpr, tpr, thresholds = roc_curve(target_test, probabilities)\n",
    "plt.figure(figsize=(10,8))\n",
    "plt.plot([0,1], [0,1], linestyle='--')\n",
    "plt.plot(fpr, tpr, linestyle='-')\n",
    "plt.xlim([0,1])\n",
    "plt.ylim([0,1])\n",
    "plt.xlabel('False Positive Rate')\n",
    "plt.ylabel('True Positive Rate')\n",
    "plt.title('ROC-кривая')\n",
    "plt.show()"
   ]
  },
  {
   "cell_type": "code",
   "execution_count": 30,
   "metadata": {},
   "outputs": [
    {
     "name": "stdout",
     "output_type": "stream",
     "text": [
      "Метрика AUC-ROC: 0.8780320142582108\n"
     ]
    }
   ],
   "source": [
    "print('Метрика AUC-ROC:', roc_auc_score(target_test, probabilities))"
   ]
  },
  {
   "cell_type": "code",
   "execution_count": 31,
   "metadata": {},
   "outputs": [
    {
     "name": "stdout",
     "output_type": "stream",
     "text": [
      "Метрика Accuracy: 0.8389793224813022\n"
     ]
    }
   ],
   "source": [
    "print('Метрика Accuracy:', accuracy_score(target_test, predict))"
   ]
  },
  {
   "cell_type": "markdown",
   "metadata": {},
   "source": [
    "**ИТОГ.**\n",
    "В ходе последнего этапа исследования мы протестировали выбранную раньше модель на тестовом наборе данных. Также привели рассчеты различных метрик модели."
   ]
  },
  {
   "cell_type": "markdown",
   "metadata": {},
   "source": [
    "## 6. Вывод"
   ]
  },
  {
   "cell_type": "markdown",
   "metadata": {},
   "source": [
    "По ходу нашего проекта мы выполнили несколько важных этапов: \n",
    "- на предобработке данных мы удалили пропуски в признаке `Tenure`, проверили данные на дубликаты, а также убрали неинформативные признаки;\n",
    "- на этапе исследовательского анализа данных проанализировали зависимость целевого признака `Exited` от некоторых категориальных признаков (`Geography`, `Gender`, `HasCrCard`) и количественных признаков (`CreditScore` и `Age`);\n",
    "- в ходе подготовки данных и обучения моделей данные были исследованы на дисбаланс классов в целевом признаке (объем данных о клиентах, которые не ушли из банка, значительно превышает данные об ушедших клиентах), а также были обучены 3 модели (дерево решений, случайный лес, логистическая регрессия) и из них была выбрана наилучшая для итогового тестирования, а именно случайный лес (метрика f1 равна 0.61);\n",
    "- на этапе итогового тестирования была обучена модель случайного леса с параметрами random_state=RANDOM_STATE, class_weight='balanced', n_estimators=181, max_depth=9, min_samples_split=2, min_samples_leaf=3. На тестовой выборке данная модель предсказала правильно почти 84% ответов, метрика recall достигает уровня почти в 0.7 "
   ]
  }
 ],
 "metadata": {
  "ExecuteTimeLog": [
   {
    "duration": 432,
    "start_time": "2023-01-27T09:02:46.262Z"
   },
   {
    "duration": 69,
    "start_time": "2023-01-27T09:03:47.661Z"
   },
   {
    "duration": 382,
    "start_time": "2023-01-27T09:03:57.548Z"
   },
   {
    "duration": 52,
    "start_time": "2023-01-27T09:04:52.755Z"
   },
   {
    "duration": 50,
    "start_time": "2023-01-27T09:05:24.345Z"
   },
   {
    "duration": 41,
    "start_time": "2023-01-27T09:05:47.509Z"
   },
   {
    "duration": 47,
    "start_time": "2023-01-27T09:10:43.126Z"
   },
   {
    "duration": 43,
    "start_time": "2023-01-27T09:12:18.901Z"
   },
   {
    "duration": 40,
    "start_time": "2023-01-27T09:12:22.646Z"
   },
   {
    "duration": 670,
    "start_time": "2023-01-27T09:15:29.609Z"
   },
   {
    "duration": 23,
    "start_time": "2023-01-27T09:15:38.092Z"
   },
   {
    "duration": 49,
    "start_time": "2023-01-27T09:17:48.662Z"
   },
   {
    "duration": 13,
    "start_time": "2023-01-27T09:17:56.389Z"
   },
   {
    "duration": 6,
    "start_time": "2023-01-27T09:25:30.040Z"
   },
   {
    "duration": 13,
    "start_time": "2023-01-27T09:26:14.122Z"
   },
   {
    "duration": 16,
    "start_time": "2023-01-27T09:26:26.039Z"
   },
   {
    "duration": 16,
    "start_time": "2023-01-27T09:27:09.180Z"
   },
   {
    "duration": 9,
    "start_time": "2023-01-27T09:27:19.032Z"
   },
   {
    "duration": 10,
    "start_time": "2023-01-27T09:27:24.981Z"
   },
   {
    "duration": 8,
    "start_time": "2023-01-27T09:27:30.655Z"
   },
   {
    "duration": 11,
    "start_time": "2023-01-27T09:29:07.608Z"
   },
   {
    "duration": 39,
    "start_time": "2023-01-27T09:29:12.557Z"
   },
   {
    "duration": 3,
    "start_time": "2023-01-27T09:29:24.145Z"
   },
   {
    "duration": 46,
    "start_time": "2023-01-27T09:29:25.331Z"
   },
   {
    "duration": 17,
    "start_time": "2023-01-27T09:29:26.429Z"
   },
   {
    "duration": 10,
    "start_time": "2023-01-27T09:29:28.343Z"
   },
   {
    "duration": 28,
    "start_time": "2023-01-27T09:29:39.624Z"
   },
   {
    "duration": 20,
    "start_time": "2023-01-27T09:29:50.383Z"
   },
   {
    "duration": 2,
    "start_time": "2023-01-27T09:30:34.214Z"
   },
   {
    "duration": 30,
    "start_time": "2023-01-27T09:30:44.090Z"
   },
   {
    "duration": 11,
    "start_time": "2023-01-27T09:31:36.149Z"
   },
   {
    "duration": 9,
    "start_time": "2023-01-27T09:31:56.248Z"
   },
   {
    "duration": 4,
    "start_time": "2023-01-27T09:32:21.549Z"
   },
   {
    "duration": 21,
    "start_time": "2023-01-27T09:32:50.106Z"
   },
   {
    "duration": 9,
    "start_time": "2023-01-27T09:32:57.199Z"
   },
   {
    "duration": 8,
    "start_time": "2023-01-27T09:33:03.349Z"
   },
   {
    "duration": 20,
    "start_time": "2023-01-27T09:33:49.339Z"
   },
   {
    "duration": 3,
    "start_time": "2023-01-27T09:37:19.405Z"
   },
   {
    "duration": 42,
    "start_time": "2023-01-27T09:37:20.624Z"
   },
   {
    "duration": 16,
    "start_time": "2023-01-27T09:37:21.244Z"
   },
   {
    "duration": 8,
    "start_time": "2023-01-27T09:37:22.934Z"
   },
   {
    "duration": 9,
    "start_time": "2023-01-27T09:38:24.500Z"
   },
   {
    "duration": 7,
    "start_time": "2023-01-27T09:39:07.547Z"
   },
   {
    "duration": 9,
    "start_time": "2023-01-27T09:39:28.473Z"
   },
   {
    "duration": 9,
    "start_time": "2023-01-27T09:39:32.797Z"
   },
   {
    "duration": 10,
    "start_time": "2023-01-27T09:39:41.684Z"
   },
   {
    "duration": 5,
    "start_time": "2023-01-27T09:39:44.277Z"
   },
   {
    "duration": 16,
    "start_time": "2023-01-27T09:40:06.624Z"
   },
   {
    "duration": 14,
    "start_time": "2023-01-27T09:40:19.832Z"
   },
   {
    "duration": 16,
    "start_time": "2023-01-27T09:41:32.942Z"
   },
   {
    "duration": 13,
    "start_time": "2023-01-27T09:41:49.605Z"
   },
   {
    "duration": 12,
    "start_time": "2023-01-27T09:42:17.823Z"
   },
   {
    "duration": 11,
    "start_time": "2023-01-27T09:46:10.166Z"
   },
   {
    "duration": 4,
    "start_time": "2023-01-27T09:46:16.472Z"
   },
   {
    "duration": 40,
    "start_time": "2023-01-27T09:46:17.674Z"
   },
   {
    "duration": 14,
    "start_time": "2023-01-27T09:46:18.290Z"
   },
   {
    "duration": 13,
    "start_time": "2023-01-27T09:46:19.751Z"
   },
   {
    "duration": 8,
    "start_time": "2023-01-27T09:46:21.422Z"
   },
   {
    "duration": 14,
    "start_time": "2023-01-27T09:46:23.096Z"
   },
   {
    "duration": 14,
    "start_time": "2023-01-27T09:46:25.282Z"
   },
   {
    "duration": 11,
    "start_time": "2023-01-27T10:00:22.622Z"
   },
   {
    "duration": 21,
    "start_time": "2023-01-27T10:01:11.760Z"
   },
   {
    "duration": 12,
    "start_time": "2023-01-27T10:01:39.922Z"
   },
   {
    "duration": 11,
    "start_time": "2023-01-27T10:03:05.784Z"
   },
   {
    "duration": 9,
    "start_time": "2023-01-27T10:03:11.938Z"
   },
   {
    "duration": 9,
    "start_time": "2023-01-27T10:05:07.703Z"
   },
   {
    "duration": 19,
    "start_time": "2023-01-27T10:05:20.317Z"
   },
   {
    "duration": 3,
    "start_time": "2023-01-27T10:08:44.027Z"
   },
   {
    "duration": 42,
    "start_time": "2023-01-27T10:08:45.100Z"
   },
   {
    "duration": 19,
    "start_time": "2023-01-27T10:08:45.970Z"
   },
   {
    "duration": 10,
    "start_time": "2023-01-27T10:08:48.421Z"
   },
   {
    "duration": 14,
    "start_time": "2023-01-27T10:08:50.142Z"
   },
   {
    "duration": 13,
    "start_time": "2023-01-27T10:08:52.274Z"
   },
   {
    "duration": 165,
    "start_time": "2023-01-27T10:09:32.207Z"
   },
   {
    "duration": 191,
    "start_time": "2023-01-27T10:09:41.622Z"
   },
   {
    "duration": 166,
    "start_time": "2023-01-27T10:12:46.526Z"
   },
   {
    "duration": 92,
    "start_time": "2023-01-27T10:13:04.342Z"
   },
   {
    "duration": 5822,
    "start_time": "2023-01-27T10:13:07.677Z"
   },
   {
    "duration": 384,
    "start_time": "2023-01-27T10:14:35.474Z"
   },
   {
    "duration": 3,
    "start_time": "2023-01-27T10:18:02.623Z"
   },
   {
    "duration": 3,
    "start_time": "2023-01-27T10:20:30.008Z"
   },
   {
    "duration": 38,
    "start_time": "2023-01-27T10:20:31.095Z"
   },
   {
    "duration": 14,
    "start_time": "2023-01-27T10:20:31.707Z"
   },
   {
    "duration": 16,
    "start_time": "2023-01-27T10:20:33.324Z"
   },
   {
    "duration": 9,
    "start_time": "2023-01-27T10:20:35.222Z"
   },
   {
    "duration": 13,
    "start_time": "2023-01-27T10:20:37.186Z"
   },
   {
    "duration": 14,
    "start_time": "2023-01-27T10:20:39.218Z"
   },
   {
    "duration": 166,
    "start_time": "2023-01-27T10:20:41.034Z"
   },
   {
    "duration": 86,
    "start_time": "2023-01-27T10:20:42.669Z"
   },
   {
    "duration": 625,
    "start_time": "2023-01-27T10:20:44.586Z"
   },
   {
    "duration": 382,
    "start_time": "2023-01-27T10:20:47.014Z"
   },
   {
    "duration": 4,
    "start_time": "2023-01-27T10:25:27.851Z"
   },
   {
    "duration": 12,
    "start_time": "2023-01-27T10:25:31.541Z"
   },
   {
    "duration": 15,
    "start_time": "2023-01-27T10:26:51.082Z"
   },
   {
    "duration": 3,
    "start_time": "2023-01-27T10:27:05.552Z"
   },
   {
    "duration": 38,
    "start_time": "2023-01-27T10:27:06.755Z"
   },
   {
    "duration": 13,
    "start_time": "2023-01-27T10:27:07.852Z"
   },
   {
    "duration": 13,
    "start_time": "2023-01-27T10:27:09.258Z"
   },
   {
    "duration": 9,
    "start_time": "2023-01-27T10:27:10.624Z"
   },
   {
    "duration": 14,
    "start_time": "2023-01-27T10:27:12.400Z"
   },
   {
    "duration": 15,
    "start_time": "2023-01-27T10:27:13.421Z"
   },
   {
    "duration": 161,
    "start_time": "2023-01-27T10:27:15.109Z"
   },
   {
    "duration": 82,
    "start_time": "2023-01-27T10:27:16.119Z"
   },
   {
    "duration": 17,
    "start_time": "2023-01-27T10:27:17.487Z"
   },
   {
    "duration": 25,
    "start_time": "2023-01-27T10:28:50.104Z"
   },
   {
    "duration": 4,
    "start_time": "2023-01-27T15:26:47.398Z"
   },
   {
    "duration": 39,
    "start_time": "2023-01-27T15:26:48.484Z"
   },
   {
    "duration": 15,
    "start_time": "2023-01-27T15:26:50.151Z"
   },
   {
    "duration": 12,
    "start_time": "2023-01-27T15:26:50.836Z"
   },
   {
    "duration": 8,
    "start_time": "2023-01-27T15:26:53.117Z"
   },
   {
    "duration": 14,
    "start_time": "2023-01-27T15:26:54.982Z"
   },
   {
    "duration": 13,
    "start_time": "2023-01-27T15:26:56.889Z"
   },
   {
    "duration": 149,
    "start_time": "2023-01-27T15:26:58.974Z"
   },
   {
    "duration": 87,
    "start_time": "2023-01-27T15:26:59.970Z"
   },
   {
    "duration": 26,
    "start_time": "2023-01-27T15:27:00.906Z"
   },
   {
    "duration": 9,
    "start_time": "2023-01-27T15:27:55.902Z"
   },
   {
    "duration": 5,
    "start_time": "2023-01-27T15:28:01.788Z"
   },
   {
    "duration": 9,
    "start_time": "2023-01-27T15:28:22.163Z"
   },
   {
    "duration": 479,
    "start_time": "2023-01-27T15:33:21.486Z"
   },
   {
    "duration": 125,
    "start_time": "2023-01-27T15:33:34.151Z"
   },
   {
    "duration": 104,
    "start_time": "2023-01-27T15:33:45.326Z"
   },
   {
    "duration": 113,
    "start_time": "2023-01-27T15:33:54.817Z"
   },
   {
    "duration": 128,
    "start_time": "2023-01-27T15:34:22.086Z"
   },
   {
    "duration": 4,
    "start_time": "2023-01-27T15:34:45.558Z"
   },
   {
    "duration": 108,
    "start_time": "2023-01-27T15:34:50.057Z"
   },
   {
    "duration": 22,
    "start_time": "2023-01-27T15:42:33.228Z"
   },
   {
    "duration": 1008,
    "start_time": "2023-01-27T15:45:18.286Z"
   },
   {
    "duration": 949,
    "start_time": "2023-01-27T15:45:42.220Z"
   },
   {
    "duration": 3,
    "start_time": "2023-01-27T15:45:49.963Z"
   },
   {
    "duration": 934,
    "start_time": "2023-01-27T15:45:54.919Z"
   },
   {
    "duration": 5,
    "start_time": "2023-01-27T15:46:50.330Z"
   },
   {
    "duration": 946,
    "start_time": "2023-01-27T15:47:53.715Z"
   },
   {
    "duration": 992,
    "start_time": "2023-01-27T15:48:04.754Z"
   },
   {
    "duration": 603,
    "start_time": "2023-01-27T15:59:52.002Z"
   },
   {
    "duration": 54,
    "start_time": "2023-01-27T16:16:37.678Z"
   },
   {
    "duration": 18,
    "start_time": "2023-01-27T16:20:52.948Z"
   },
   {
    "duration": 4,
    "start_time": "2023-01-27T16:21:56.402Z"
   },
   {
    "duration": 68,
    "start_time": "2023-01-27T16:22:54.816Z"
   },
   {
    "duration": 4,
    "start_time": "2023-01-27T16:23:47.588Z"
   },
   {
    "duration": 6,
    "start_time": "2023-01-27T16:23:52.848Z"
   },
   {
    "duration": 1010,
    "start_time": "2023-01-27T16:26:16.878Z"
   },
   {
    "duration": 818,
    "start_time": "2023-01-27T16:27:58.570Z"
   },
   {
    "duration": 4,
    "start_time": "2023-01-27T16:30:34.462Z"
   },
   {
    "duration": 1187,
    "start_time": "2023-01-27T16:32:09.841Z"
   },
   {
    "duration": 1197,
    "start_time": "2023-01-27T16:32:41.182Z"
   },
   {
    "duration": 4,
    "start_time": "2023-01-27T16:34:09.104Z"
   },
   {
    "duration": 42,
    "start_time": "2023-01-27T16:34:10.088Z"
   },
   {
    "duration": 12,
    "start_time": "2023-01-27T16:34:10.544Z"
   },
   {
    "duration": 14,
    "start_time": "2023-01-27T16:34:12.225Z"
   },
   {
    "duration": 10,
    "start_time": "2023-01-27T16:34:13.158Z"
   },
   {
    "duration": 20,
    "start_time": "2023-01-27T16:34:15.950Z"
   },
   {
    "duration": 19,
    "start_time": "2023-01-27T16:34:16.765Z"
   },
   {
    "duration": 172,
    "start_time": "2023-01-27T16:34:19.092Z"
   },
   {
    "duration": 86,
    "start_time": "2023-01-27T16:34:19.821Z"
   },
   {
    "duration": 25,
    "start_time": "2023-01-27T16:34:20.605Z"
   },
   {
    "duration": 108,
    "start_time": "2023-01-27T16:34:24.348Z"
   },
   {
    "duration": 972,
    "start_time": "2023-01-27T16:34:27.044Z"
   },
   {
    "duration": 37,
    "start_time": "2023-01-27T16:34:31.174Z"
   },
   {
    "duration": 16,
    "start_time": "2023-01-27T16:34:33.428Z"
   },
   {
    "duration": 75,
    "start_time": "2023-01-27T16:34:34.262Z"
   },
   {
    "duration": 1362,
    "start_time": "2023-01-27T16:34:36.104Z"
   },
   {
    "duration": 874,
    "start_time": "2023-01-27T16:36:20.449Z"
   },
   {
    "duration": 2018,
    "start_time": "2023-01-27T16:37:52.087Z"
   },
   {
    "duration": 16,
    "start_time": "2023-01-27T16:39:43.257Z"
   },
   {
    "duration": 6,
    "start_time": "2023-01-27T16:39:52.180Z"
   },
   {
    "duration": 14467,
    "start_time": "2023-01-27T16:39:56.564Z"
   },
   {
    "duration": 10,
    "start_time": "2023-01-27T16:42:27.932Z"
   },
   {
    "duration": 9,
    "start_time": "2023-01-27T16:42:51.505Z"
   },
   {
    "duration": 18706,
    "start_time": "2023-01-27T16:42:59.037Z"
   },
   {
    "duration": 13694,
    "start_time": "2023-01-27T16:44:03.451Z"
   },
   {
    "duration": 79868,
    "start_time": "2023-01-27T16:46:14.881Z"
   },
   {
    "duration": 175381,
    "start_time": "2023-01-27T16:49:03.371Z"
   },
   {
    "duration": 13977,
    "start_time": "2023-01-27T17:01:36.474Z"
   },
   {
    "duration": 13965,
    "start_time": "2023-01-27T17:02:05.738Z"
   },
   {
    "duration": 14225,
    "start_time": "2023-01-27T17:02:45.129Z"
   },
   {
    "duration": 13607,
    "start_time": "2023-01-27T17:04:16.741Z"
   },
   {
    "duration": 8491,
    "start_time": "2023-01-27T17:05:15.533Z"
   },
   {
    "duration": 8426,
    "start_time": "2023-01-27T17:11:36.491Z"
   },
   {
    "duration": 11,
    "start_time": "2023-01-27T17:15:34.672Z"
   },
   {
    "duration": 10,
    "start_time": "2023-01-27T17:15:49.584Z"
   },
   {
    "duration": 13485,
    "start_time": "2023-01-27T17:21:52.088Z"
   },
   {
    "duration": 8257,
    "start_time": "2023-01-27T17:22:23.430Z"
   },
   {
    "duration": 13850,
    "start_time": "2023-01-27T17:22:53.669Z"
   },
   {
    "duration": 10,
    "start_time": "2023-01-27T17:23:25.158Z"
   },
   {
    "duration": 14184,
    "start_time": "2023-01-27T17:23:41.080Z"
   },
   {
    "duration": 8,
    "start_time": "2023-01-27T17:28:22.506Z"
   },
   {
    "duration": 1139,
    "start_time": "2023-01-27T17:36:07.859Z"
   },
   {
    "duration": 841,
    "start_time": "2023-01-27T17:36:27.662Z"
   },
   {
    "duration": 4,
    "start_time": "2023-01-27T17:37:40.966Z"
   },
   {
    "duration": 4,
    "start_time": "2023-01-27T17:39:33.773Z"
   },
   {
    "duration": 37,
    "start_time": "2023-01-27T17:39:34.821Z"
   },
   {
    "duration": 22,
    "start_time": "2023-01-27T17:39:36.589Z"
   },
   {
    "duration": 16,
    "start_time": "2023-01-27T17:39:37.008Z"
   },
   {
    "duration": 8,
    "start_time": "2023-01-27T17:39:38.779Z"
   },
   {
    "duration": 13,
    "start_time": "2023-01-27T17:39:39.718Z"
   },
   {
    "duration": 20,
    "start_time": "2023-01-27T17:39:41.504Z"
   },
   {
    "duration": 154,
    "start_time": "2023-01-27T17:39:43.116Z"
   },
   {
    "duration": 97,
    "start_time": "2023-01-27T17:39:43.782Z"
   },
   {
    "duration": 34,
    "start_time": "2023-01-27T17:39:44.875Z"
   },
   {
    "duration": 125,
    "start_time": "2023-01-27T17:39:48.064Z"
   },
   {
    "duration": 1037,
    "start_time": "2023-01-27T17:39:50.914Z"
   },
   {
    "duration": 41,
    "start_time": "2023-01-27T17:39:59.677Z"
   },
   {
    "duration": 25,
    "start_time": "2023-01-27T17:40:00.574Z"
   },
   {
    "duration": 88,
    "start_time": "2023-01-27T17:40:01.525Z"
   },
   {
    "duration": 856,
    "start_time": "2023-01-27T17:40:06.464Z"
   },
   {
    "duration": 2290,
    "start_time": "2023-01-27T17:40:08.439Z"
   },
   {
    "duration": 13984,
    "start_time": "2023-01-27T17:40:13.940Z"
   },
   {
    "duration": 222,
    "start_time": "2023-01-27T17:41:00.429Z"
   },
   {
    "duration": 315,
    "start_time": "2023-01-27T17:41:35.518Z"
   },
   {
    "duration": 8,
    "start_time": "2023-01-27T17:43:12.968Z"
   },
   {
    "duration": 7,
    "start_time": "2023-01-27T17:43:22.012Z"
   },
   {
    "duration": 9,
    "start_time": "2023-01-27T17:43:26.392Z"
   },
   {
    "duration": 6,
    "start_time": "2023-01-27T17:43:31.068Z"
   },
   {
    "duration": 3,
    "start_time": "2023-01-27T17:51:10.138Z"
   },
   {
    "duration": 38,
    "start_time": "2023-01-27T17:51:12.743Z"
   },
   {
    "duration": 13,
    "start_time": "2023-01-27T17:51:16.822Z"
   },
   {
    "duration": 13,
    "start_time": "2023-01-27T17:51:19.650Z"
   },
   {
    "duration": 12,
    "start_time": "2023-01-27T17:51:22.041Z"
   },
   {
    "duration": 8,
    "start_time": "2023-01-27T17:51:24.321Z"
   },
   {
    "duration": 8,
    "start_time": "2023-01-27T17:51:26.859Z"
   },
   {
    "duration": 13,
    "start_time": "2023-01-27T17:51:28.666Z"
   },
   {
    "duration": 13,
    "start_time": "2023-01-27T17:51:33.010Z"
   },
   {
    "duration": 157,
    "start_time": "2023-01-27T17:51:35.567Z"
   },
   {
    "duration": 84,
    "start_time": "2023-01-27T17:51:38.205Z"
   },
   {
    "duration": 23,
    "start_time": "2023-01-27T17:51:41.006Z"
   },
   {
    "duration": 106,
    "start_time": "2023-01-27T17:51:47.931Z"
   },
   {
    "duration": 998,
    "start_time": "2023-01-27T17:51:51.238Z"
   },
   {
    "duration": 38,
    "start_time": "2023-01-27T17:52:02.067Z"
   },
   {
    "duration": 16,
    "start_time": "2023-01-27T17:52:04.961Z"
   },
   {
    "duration": 58,
    "start_time": "2023-01-27T17:52:07.086Z"
   },
   {
    "duration": 846,
    "start_time": "2023-01-27T17:52:12.585Z"
   },
   {
    "duration": 2135,
    "start_time": "2023-01-27T17:52:15.278Z"
   },
   {
    "duration": 13630,
    "start_time": "2023-01-27T17:52:18.606Z"
   },
   {
    "duration": 7,
    "start_time": "2023-01-27T18:00:20.531Z"
   },
   {
    "duration": 13688,
    "start_time": "2023-01-27T18:01:04.735Z"
   },
   {
    "duration": 13575,
    "start_time": "2023-01-27T18:01:27.403Z"
   },
   {
    "duration": 11,
    "start_time": "2023-01-27T18:01:44.998Z"
   },
   {
    "duration": 93,
    "start_time": "2023-01-27T18:09:33.538Z"
   },
   {
    "duration": 22,
    "start_time": "2023-01-27T18:09:42.803Z"
   },
   {
    "duration": 113,
    "start_time": "2023-01-27T18:09:45.455Z"
   },
   {
    "duration": 482,
    "start_time": "2023-01-27T18:09:51.342Z"
   },
   {
    "duration": 21,
    "start_time": "2023-01-27T18:10:03.359Z"
   },
   {
    "duration": 3,
    "start_time": "2023-01-27T18:10:44.926Z"
   },
   {
    "duration": 37,
    "start_time": "2023-01-27T18:10:46.965Z"
   },
   {
    "duration": 14,
    "start_time": "2023-01-27T18:10:47.474Z"
   },
   {
    "duration": 14,
    "start_time": "2023-01-27T18:10:48.708Z"
   },
   {
    "duration": 10,
    "start_time": "2023-01-27T18:10:49.417Z"
   },
   {
    "duration": 13,
    "start_time": "2023-01-27T18:10:51.260Z"
   },
   {
    "duration": 14,
    "start_time": "2023-01-27T18:10:52.815Z"
   },
   {
    "duration": 153,
    "start_time": "2023-01-27T18:10:55.039Z"
   },
   {
    "duration": 116,
    "start_time": "2023-01-27T18:13:56.333Z"
   },
   {
    "duration": 25,
    "start_time": "2023-01-27T18:14:29.758Z"
   },
   {
    "duration": 117,
    "start_time": "2023-01-27T18:14:33.147Z"
   },
   {
    "duration": 458,
    "start_time": "2023-01-27T18:14:36.583Z"
   },
   {
    "duration": 20,
    "start_time": "2023-01-27T18:15:18.034Z"
   },
   {
    "duration": 12,
    "start_time": "2023-01-27T18:15:18.968Z"
   },
   {
    "duration": 30,
    "start_time": "2023-01-27T18:15:19.696Z"
   },
   {
    "duration": 324,
    "start_time": "2023-01-27T18:15:23.432Z"
   },
   {
    "duration": 1255,
    "start_time": "2023-01-27T18:15:30.141Z"
   },
   {
    "duration": 5735,
    "start_time": "2023-01-27T18:15:33.127Z"
   },
   {
    "duration": 4,
    "start_time": "2023-01-27T18:19:49.146Z"
   },
   {
    "duration": 39,
    "start_time": "2023-01-27T18:19:50.165Z"
   },
   {
    "duration": 12,
    "start_time": "2023-01-27T18:19:51.438Z"
   },
   {
    "duration": 14,
    "start_time": "2023-01-27T18:19:52.680Z"
   },
   {
    "duration": 9,
    "start_time": "2023-01-27T18:19:53.677Z"
   },
   {
    "duration": 14,
    "start_time": "2023-01-27T18:19:56.088Z"
   },
   {
    "duration": 14,
    "start_time": "2023-01-27T18:19:58.055Z"
   },
   {
    "duration": 146,
    "start_time": "2023-01-27T18:19:59.754Z"
   },
   {
    "duration": 100,
    "start_time": "2023-01-27T18:20:00.658Z"
   },
   {
    "duration": 30,
    "start_time": "2023-01-27T18:20:01.715Z"
   },
   {
    "duration": 102,
    "start_time": "2023-01-27T18:20:04.534Z"
   },
   {
    "duration": 921,
    "start_time": "2023-01-27T18:20:10.147Z"
   },
   {
    "duration": 4,
    "start_time": "2023-01-27T18:20:46.798Z"
   },
   {
    "duration": 37,
    "start_time": "2023-01-27T18:20:47.800Z"
   },
   {
    "duration": 12,
    "start_time": "2023-01-27T18:20:49.073Z"
   },
   {
    "duration": 13,
    "start_time": "2023-01-27T18:20:49.534Z"
   },
   {
    "duration": 9,
    "start_time": "2023-01-27T18:20:51.354Z"
   },
   {
    "duration": 13,
    "start_time": "2023-01-27T18:20:53.073Z"
   },
   {
    "duration": 13,
    "start_time": "2023-01-27T18:20:55.192Z"
   },
   {
    "duration": 147,
    "start_time": "2023-01-27T18:20:57.787Z"
   },
   {
    "duration": 84,
    "start_time": "2023-01-27T18:21:24.047Z"
   },
   {
    "duration": 23,
    "start_time": "2023-01-27T18:21:34.421Z"
   },
   {
    "duration": 101,
    "start_time": "2023-01-27T18:21:37.329Z"
   },
   {
    "duration": 943,
    "start_time": "2023-01-27T18:21:55.144Z"
   },
   {
    "duration": 33,
    "start_time": "2023-01-27T18:22:09.925Z"
   },
   {
    "duration": 16,
    "start_time": "2023-01-27T18:22:11.345Z"
   },
   {
    "duration": 68,
    "start_time": "2023-01-27T18:22:13.068Z"
   },
   {
    "duration": 810,
    "start_time": "2023-01-27T18:22:14.549Z"
   },
   {
    "duration": 2063,
    "start_time": "2023-01-27T18:22:16.835Z"
   },
   {
    "duration": 13044,
    "start_time": "2023-01-27T18:22:20.596Z"
   },
   {
    "duration": 353,
    "start_time": "2023-01-27T18:22:43.146Z"
   },
   {
    "duration": 6,
    "start_time": "2023-01-27T18:22:46.628Z"
   },
   {
    "duration": 13234,
    "start_time": "2023-01-27T18:24:08.080Z"
   },
   {
    "duration": 13314,
    "start_time": "2023-01-27T18:24:27.871Z"
   },
   {
    "duration": 4,
    "start_time": "2023-01-27T18:25:29.265Z"
   },
   {
    "duration": 5,
    "start_time": "2023-01-27T18:25:59.415Z"
   },
   {
    "duration": 1513,
    "start_time": "2023-01-28T16:28:29.447Z"
   },
   {
    "duration": 195,
    "start_time": "2023-01-28T16:28:33.110Z"
   },
   {
    "duration": 15,
    "start_time": "2023-01-28T16:28:34.436Z"
   },
   {
    "duration": 14,
    "start_time": "2023-01-28T16:28:36.518Z"
   },
   {
    "duration": 9,
    "start_time": "2023-01-28T16:28:38.724Z"
   },
   {
    "duration": 17,
    "start_time": "2023-01-28T16:28:41.080Z"
   },
   {
    "duration": 17,
    "start_time": "2023-01-28T16:29:46.148Z"
   },
   {
    "duration": 4,
    "start_time": "2023-01-28T16:37:20.050Z"
   },
   {
    "duration": 51,
    "start_time": "2023-01-28T16:37:21.649Z"
   },
   {
    "duration": 20,
    "start_time": "2023-01-28T16:37:23.574Z"
   },
   {
    "duration": 15,
    "start_time": "2023-01-28T16:37:24.456Z"
   },
   {
    "duration": 8,
    "start_time": "2023-01-28T16:37:30.121Z"
   },
   {
    "duration": 19,
    "start_time": "2023-01-28T16:38:15.221Z"
   },
   {
    "duration": 20,
    "start_time": "2023-01-28T16:38:33.373Z"
   },
   {
    "duration": 13,
    "start_time": "2023-01-28T16:38:39.754Z"
   },
   {
    "duration": 14,
    "start_time": "2023-01-28T16:38:41.350Z"
   },
   {
    "duration": 199,
    "start_time": "2023-01-28T16:52:21.788Z"
   },
   {
    "duration": 150,
    "start_time": "2023-01-28T16:54:01.505Z"
   },
   {
    "duration": 106,
    "start_time": "2023-01-28T16:56:15.332Z"
   },
   {
    "duration": 110,
    "start_time": "2023-01-28T16:56:30.787Z"
   },
   {
    "duration": 4,
    "start_time": "2023-01-28T16:56:49.880Z"
   },
   {
    "duration": 4,
    "start_time": "2023-01-28T16:57:31.210Z"
   },
   {
    "duration": 8,
    "start_time": "2023-01-28T16:57:40.593Z"
   },
   {
    "duration": 4,
    "start_time": "2023-01-28T16:57:44.063Z"
   },
   {
    "duration": 5,
    "start_time": "2023-01-28T16:58:09.900Z"
   },
   {
    "duration": 107,
    "start_time": "2023-01-28T16:58:42.552Z"
   },
   {
    "duration": 4,
    "start_time": "2023-01-28T16:58:44.906Z"
   },
   {
    "duration": 3,
    "start_time": "2023-01-28T17:01:59.289Z"
   },
   {
    "duration": 4,
    "start_time": "2023-01-28T17:02:28.784Z"
   },
   {
    "duration": 3,
    "start_time": "2023-01-28T17:02:29.798Z"
   },
   {
    "duration": 42,
    "start_time": "2023-01-28T17:02:31.334Z"
   },
   {
    "duration": 12,
    "start_time": "2023-01-28T17:02:32.994Z"
   },
   {
    "duration": 14,
    "start_time": "2023-01-28T17:02:33.538Z"
   },
   {
    "duration": 10,
    "start_time": "2023-01-28T17:02:35.606Z"
   },
   {
    "duration": 29,
    "start_time": "2023-01-28T17:02:37.160Z"
   },
   {
    "duration": 11,
    "start_time": "2023-01-28T17:02:39.355Z"
   },
   {
    "duration": 14,
    "start_time": "2023-01-28T17:02:42.083Z"
   },
   {
    "duration": 143,
    "start_time": "2023-01-28T17:02:47.133Z"
   },
   {
    "duration": 162,
    "start_time": "2023-01-28T17:02:49.249Z"
   },
   {
    "duration": 118,
    "start_time": "2023-01-28T17:02:51.675Z"
   },
   {
    "duration": 5,
    "start_time": "2023-01-28T17:02:53.068Z"
   },
   {
    "duration": 21,
    "start_time": "2023-01-28T17:04:20.334Z"
   },
   {
    "duration": 111,
    "start_time": "2023-01-28T17:04:24.500Z"
   },
   {
    "duration": 817,
    "start_time": "2023-01-28T17:06:04.995Z"
   },
   {
    "duration": 4,
    "start_time": "2023-01-28T17:07:04.552Z"
   },
   {
    "duration": 3,
    "start_time": "2023-01-28T17:07:05.128Z"
   },
   {
    "duration": 5,
    "start_time": "2023-01-28T17:07:25.771Z"
   },
   {
    "duration": 4,
    "start_time": "2023-01-28T17:07:26.390Z"
   },
   {
    "duration": 42,
    "start_time": "2023-01-28T17:07:28.946Z"
   },
   {
    "duration": 12,
    "start_time": "2023-01-28T17:07:31.317Z"
   },
   {
    "duration": 13,
    "start_time": "2023-01-28T17:07:32.195Z"
   },
   {
    "duration": 11,
    "start_time": "2023-01-28T17:07:35.170Z"
   },
   {
    "duration": 20,
    "start_time": "2023-01-28T17:07:35.659Z"
   },
   {
    "duration": 12,
    "start_time": "2023-01-28T17:07:38.592Z"
   },
   {
    "duration": 12,
    "start_time": "2023-01-28T17:07:41.530Z"
   },
   {
    "duration": 170,
    "start_time": "2023-01-28T17:07:44.853Z"
   },
   {
    "duration": 104,
    "start_time": "2023-01-28T17:08:16.297Z"
   },
   {
    "duration": 4,
    "start_time": "2023-01-28T17:08:17.283Z"
   },
   {
    "duration": 23,
    "start_time": "2023-01-28T17:08:20.884Z"
   },
   {
    "duration": 104,
    "start_time": "2023-01-28T17:08:23.748Z"
   },
   {
    "duration": 672,
    "start_time": "2023-01-28T17:08:28.770Z"
   },
   {
    "duration": 4190,
    "start_time": "2023-01-28T17:19:32.502Z"
   },
   {
    "duration": 13,
    "start_time": "2023-01-28T17:20:34.079Z"
   },
   {
    "duration": 4143,
    "start_time": "2023-01-28T17:21:52.395Z"
   },
   {
    "duration": 18496,
    "start_time": "2023-01-28T17:26:44.147Z"
   },
   {
    "duration": 20637,
    "start_time": "2023-01-28T17:28:19.872Z"
   },
   {
    "duration": 51199,
    "start_time": "2023-01-28T17:29:16.010Z"
   },
   {
    "duration": 18427,
    "start_time": "2023-01-28T17:30:25.353Z"
   },
   {
    "duration": 5563,
    "start_time": "2023-01-28T17:31:55.855Z"
   },
   {
    "duration": 42823,
    "start_time": "2023-01-28T17:33:40.876Z"
   },
   {
    "duration": 6263,
    "start_time": "2023-01-28T17:35:38.380Z"
   },
   {
    "duration": 6340,
    "start_time": "2023-01-28T17:36:25.899Z"
   },
   {
    "duration": 2516,
    "start_time": "2023-01-28T17:38:20.863Z"
   },
   {
    "duration": 6,
    "start_time": "2023-01-28T17:38:58.090Z"
   },
   {
    "duration": 5,
    "start_time": "2023-01-28T17:38:58.786Z"
   },
   {
    "duration": 39,
    "start_time": "2023-01-28T17:39:01.403Z"
   },
   {
    "duration": 20,
    "start_time": "2023-01-28T17:39:01.893Z"
   },
   {
    "duration": 17,
    "start_time": "2023-01-28T17:39:03.200Z"
   },
   {
    "duration": 7,
    "start_time": "2023-01-28T17:39:04.616Z"
   },
   {
    "duration": 19,
    "start_time": "2023-01-28T17:39:06.015Z"
   },
   {
    "duration": 13,
    "start_time": "2023-01-28T17:39:09.589Z"
   },
   {
    "duration": 12,
    "start_time": "2023-01-28T17:39:12.210Z"
   },
   {
    "duration": 160,
    "start_time": "2023-01-28T17:39:14.410Z"
   },
   {
    "duration": 102,
    "start_time": "2023-01-28T17:39:16.519Z"
   },
   {
    "duration": 4,
    "start_time": "2023-01-28T17:39:53.597Z"
   },
   {
    "duration": 22,
    "start_time": "2023-01-28T17:39:58.191Z"
   },
   {
    "duration": 112,
    "start_time": "2023-01-28T17:40:00.344Z"
   },
   {
    "duration": 4739,
    "start_time": "2023-01-28T17:40:03.302Z"
   },
   {
    "duration": 6431,
    "start_time": "2023-01-28T17:40:18.659Z"
   },
   {
    "duration": 2023,
    "start_time": "2023-01-28T17:40:32.367Z"
   },
   {
    "duration": 2082,
    "start_time": "2023-01-28T17:41:04.798Z"
   },
   {
    "duration": 1878,
    "start_time": "2023-01-28T17:41:16.992Z"
   },
   {
    "duration": 1742,
    "start_time": "2023-01-28T17:42:17.742Z"
   },
   {
    "duration": 28,
    "start_time": "2023-01-28T17:47:51.490Z"
   },
   {
    "duration": 17,
    "start_time": "2023-01-28T17:47:55.083Z"
   },
   {
    "duration": 55,
    "start_time": "2023-01-28T17:48:11.147Z"
   },
   {
    "duration": 642,
    "start_time": "2023-01-28T17:48:21.790Z"
   },
   {
    "duration": 1860,
    "start_time": "2023-01-28T17:48:27.911Z"
   },
   {
    "duration": 9940,
    "start_time": "2023-01-28T17:48:32.213Z"
   },
   {
    "duration": 4616,
    "start_time": "2023-01-28T17:49:19.896Z"
   },
   {
    "duration": 6498,
    "start_time": "2023-01-28T17:49:46.052Z"
   },
   {
    "duration": 707,
    "start_time": "2023-01-28T17:50:13.837Z"
   },
   {
    "duration": 7043,
    "start_time": "2023-01-28T17:51:03.585Z"
   },
   {
    "duration": 1824,
    "start_time": "2023-01-28T17:52:49.554Z"
   },
   {
    "duration": 10400,
    "start_time": "2023-01-28T17:52:54.232Z"
   },
   {
    "duration": 1895,
    "start_time": "2023-01-28T17:53:31.494Z"
   },
   {
    "duration": 10518,
    "start_time": "2023-01-28T17:53:44.566Z"
   },
   {
    "duration": 358,
    "start_time": "2023-01-28T17:58:59.736Z"
   },
   {
    "duration": 4,
    "start_time": "2023-01-28T17:59:48.009Z"
   },
   {
    "duration": 349,
    "start_time": "2023-01-28T18:00:08.795Z"
   },
   {
    "duration": 385,
    "start_time": "2023-01-28T18:01:07.516Z"
   },
   {
    "duration": 8,
    "start_time": "2023-01-28T18:02:00.418Z"
   },
   {
    "duration": 10,
    "start_time": "2023-01-28T18:02:06.983Z"
   },
   {
    "duration": 35,
    "start_time": "2023-01-28T18:02:38.233Z"
   },
   {
    "duration": 36,
    "start_time": "2023-01-28T18:02:53.404Z"
   },
   {
    "duration": 419,
    "start_time": "2023-01-28T18:05:52.979Z"
   },
   {
    "duration": 361,
    "start_time": "2023-01-28T18:06:45.043Z"
   },
   {
    "duration": 401,
    "start_time": "2023-01-28T18:06:59.036Z"
   },
   {
    "duration": 418,
    "start_time": "2023-01-28T18:07:05.389Z"
   },
   {
    "duration": 406,
    "start_time": "2023-01-28T18:07:10.010Z"
   },
   {
    "duration": 370,
    "start_time": "2023-01-28T18:07:51.867Z"
   },
   {
    "duration": 35,
    "start_time": "2023-01-28T18:09:01.944Z"
   },
   {
    "duration": 2210,
    "start_time": "2023-01-28T18:10:20.866Z"
   },
   {
    "duration": 2282,
    "start_time": "2023-01-28T18:12:18.214Z"
   },
   {
    "duration": 6143,
    "start_time": "2023-01-28T18:13:35.452Z"
   },
   {
    "duration": 5977,
    "start_time": "2023-01-28T18:15:29.708Z"
   },
   {
    "duration": 148,
    "start_time": "2023-01-28T18:17:11.883Z"
   },
   {
    "duration": 5822,
    "start_time": "2023-01-28T18:17:53.056Z"
   },
   {
    "duration": 147,
    "start_time": "2023-01-28T18:18:13.739Z"
   },
   {
    "duration": 134,
    "start_time": "2023-01-28T18:18:38.807Z"
   },
   {
    "duration": 146,
    "start_time": "2023-01-28T18:18:50.367Z"
   },
   {
    "duration": 142,
    "start_time": "2023-01-28T18:19:03.878Z"
   },
   {
    "duration": 146,
    "start_time": "2023-01-28T18:20:53.630Z"
   },
   {
    "duration": 133,
    "start_time": "2023-01-28T18:21:24.539Z"
   },
   {
    "duration": 142,
    "start_time": "2023-01-28T18:21:33.237Z"
   },
   {
    "duration": 367,
    "start_time": "2023-01-28T18:21:56.332Z"
   },
   {
    "duration": 35,
    "start_time": "2023-01-28T18:22:03.022Z"
   },
   {
    "duration": 5669,
    "start_time": "2023-01-28T18:22:14.317Z"
   },
   {
    "duration": 5949,
    "start_time": "2023-01-28T18:22:30.171Z"
   },
   {
    "duration": 131,
    "start_time": "2023-01-28T18:22:40.472Z"
   },
   {
    "duration": 135,
    "start_time": "2023-01-28T18:37:57.484Z"
   },
   {
    "duration": 184,
    "start_time": "2023-01-28T18:38:30.101Z"
   },
   {
    "duration": 147,
    "start_time": "2023-01-28T18:39:27.037Z"
   },
   {
    "duration": 132,
    "start_time": "2023-01-28T18:39:45.925Z"
   },
   {
    "duration": 150,
    "start_time": "2023-01-28T18:40:02.666Z"
   },
   {
    "duration": 3,
    "start_time": "2023-01-28T18:41:32.366Z"
   },
   {
    "duration": 2,
    "start_time": "2023-01-28T18:41:33.005Z"
   },
   {
    "duration": 45,
    "start_time": "2023-01-28T18:41:34.813Z"
   },
   {
    "duration": 13,
    "start_time": "2023-01-28T18:41:35.460Z"
   },
   {
    "duration": 17,
    "start_time": "2023-01-28T18:41:36.803Z"
   },
   {
    "duration": 7,
    "start_time": "2023-01-28T18:41:38.583Z"
   },
   {
    "duration": 18,
    "start_time": "2023-01-28T18:41:39.313Z"
   },
   {
    "duration": 11,
    "start_time": "2023-01-28T18:41:41.458Z"
   },
   {
    "duration": 13,
    "start_time": "2023-01-28T18:41:43.862Z"
   },
   {
    "duration": 143,
    "start_time": "2023-01-28T18:41:45.812Z"
   },
   {
    "duration": 102,
    "start_time": "2023-01-28T18:41:47.217Z"
   },
   {
    "duration": 4,
    "start_time": "2023-01-28T18:41:48.565Z"
   },
   {
    "duration": 22,
    "start_time": "2023-01-28T18:41:53.521Z"
   },
   {
    "duration": 93,
    "start_time": "2023-01-28T18:41:55.956Z"
   },
   {
    "duration": 4417,
    "start_time": "2023-01-28T18:41:58.272Z"
   },
   {
    "duration": 6120,
    "start_time": "2023-01-28T18:42:07.574Z"
   },
   {
    "duration": 1712,
    "start_time": "2023-01-28T18:42:22.376Z"
   },
   {
    "duration": 26,
    "start_time": "2023-01-28T18:42:27.409Z"
   },
   {
    "duration": 16,
    "start_time": "2023-01-28T18:42:29.366Z"
   },
   {
    "duration": 56,
    "start_time": "2023-01-28T18:42:31.544Z"
   },
   {
    "duration": 6471,
    "start_time": "2023-01-28T18:42:33.006Z"
   },
   {
    "duration": 1727,
    "start_time": "2023-01-28T18:42:41.875Z"
   },
   {
    "duration": 9698,
    "start_time": "2023-01-28T18:42:45.482Z"
   },
   {
    "duration": 364,
    "start_time": "2023-01-28T18:42:58.280Z"
   },
   {
    "duration": 402,
    "start_time": "2023-01-28T18:43:00.529Z"
   },
   {
    "duration": 51,
    "start_time": "2023-01-28T18:43:02.905Z"
   },
   {
    "duration": 42,
    "start_time": "2023-01-28T18:43:06.599Z"
   },
   {
    "duration": 1856,
    "start_time": "2023-01-28T18:43:08.822Z"
   },
   {
    "duration": 6443,
    "start_time": "2023-01-28T18:43:43.081Z"
   },
   {
    "duration": 6267,
    "start_time": "2023-01-28T18:43:52.895Z"
   },
   {
    "duration": 167,
    "start_time": "2023-01-28T18:44:26.780Z"
   },
   {
    "duration": 163,
    "start_time": "2023-01-28T18:44:31.682Z"
   },
   {
    "duration": 147,
    "start_time": "2023-01-28T18:45:19.196Z"
   },
   {
    "duration": 147,
    "start_time": "2023-01-28T18:47:10.631Z"
   },
   {
    "duration": 150,
    "start_time": "2023-01-28T18:47:25.532Z"
   },
   {
    "duration": 2557,
    "start_time": "2023-01-29T18:04:47.999Z"
   },
   {
    "duration": 8,
    "start_time": "2023-01-29T18:04:52.182Z"
   },
   {
    "duration": 191,
    "start_time": "2023-01-29T18:04:55.520Z"
   },
   {
    "duration": 36,
    "start_time": "2023-01-29T18:04:56.417Z"
   },
   {
    "duration": 28,
    "start_time": "2023-01-29T18:04:58.368Z"
   },
   {
    "duration": 19,
    "start_time": "2023-01-29T18:05:00.963Z"
   },
   {
    "duration": 56,
    "start_time": "2023-01-29T18:05:02.516Z"
   },
   {
    "duration": 34,
    "start_time": "2023-01-29T18:05:11.024Z"
   },
   {
    "duration": 21,
    "start_time": "2023-01-29T18:05:17.319Z"
   },
   {
    "duration": 200,
    "start_time": "2023-01-29T18:05:20.177Z"
   },
   {
    "duration": 157,
    "start_time": "2023-01-29T18:05:24.256Z"
   },
   {
    "duration": 15,
    "start_time": "2023-01-29T18:05:25.646Z"
   },
   {
    "duration": 44,
    "start_time": "2023-01-29T18:06:31.455Z"
   },
   {
    "duration": 185,
    "start_time": "2023-01-29T18:08:10.584Z"
   },
   {
    "duration": 6415,
    "start_time": "2023-01-29T18:08:23.255Z"
   },
   {
    "duration": 451603,
    "start_time": "2023-01-29T18:12:19.858Z"
   },
   {
    "duration": 6921,
    "start_time": "2023-01-29T18:20:47.503Z"
   },
   {
    "duration": 1776,
    "start_time": "2023-01-29T18:23:34.154Z"
   },
   {
    "duration": 43,
    "start_time": "2023-01-29T18:23:46.626Z"
   },
   {
    "duration": 20,
    "start_time": "2023-01-29T18:23:48.516Z"
   },
   {
    "duration": 66,
    "start_time": "2023-01-29T18:23:53.616Z"
   },
   {
    "duration": 6926,
    "start_time": "2023-01-29T18:24:00.988Z"
   },
   {
    "duration": 2072,
    "start_time": "2023-01-29T18:24:14.376Z"
   },
   {
    "duration": 10804,
    "start_time": "2023-01-29T18:24:19.273Z"
   },
   {
    "duration": 1916,
    "start_time": "2023-01-29T18:24:34.452Z"
   },
   {
    "duration": 11160,
    "start_time": "2023-01-29T18:24:40.385Z"
   },
   {
    "duration": 456,
    "start_time": "2023-01-29T18:25:00.511Z"
   },
   {
    "duration": 434,
    "start_time": "2023-01-29T18:25:05.780Z"
   },
   {
    "duration": 61,
    "start_time": "2023-01-29T18:25:12.423Z"
   },
   {
    "duration": 2376,
    "start_time": "2023-01-29T18:25:17.199Z"
   },
   {
    "duration": 6795,
    "start_time": "2023-01-29T18:25:24.059Z"
   },
   {
    "duration": 7197,
    "start_time": "2023-01-29T18:25:37.506Z"
   },
   {
    "duration": 191,
    "start_time": "2023-01-29T18:25:56.620Z"
   },
   {
    "duration": 332,
    "start_time": "2023-01-29T18:30:06.378Z"
   },
   {
    "duration": 4865,
    "start_time": "2023-01-29T18:30:53.351Z"
   },
   {
    "duration": 10,
    "start_time": "2023-01-29T18:32:02.274Z"
   },
   {
    "duration": 6813,
    "start_time": "2023-01-29T18:33:04.007Z"
   },
   {
    "duration": 4871,
    "start_time": "2023-01-29T18:36:14.110Z"
   },
   {
    "duration": 6880,
    "start_time": "2023-01-29T18:37:01.291Z"
   },
   {
    "duration": 587,
    "start_time": "2023-01-29T18:38:47.398Z"
   },
   {
    "duration": 1930,
    "start_time": "2023-01-30T16:16:50.715Z"
   },
   {
    "duration": 3,
    "start_time": "2023-01-30T16:16:52.647Z"
   },
   {
    "duration": 194,
    "start_time": "2023-01-30T16:16:52.652Z"
   },
   {
    "duration": 15,
    "start_time": "2023-01-30T16:16:52.848Z"
   },
   {
    "duration": 15,
    "start_time": "2023-01-30T16:16:52.864Z"
   },
   {
    "duration": 7,
    "start_time": "2023-01-30T16:16:52.881Z"
   },
   {
    "duration": 23,
    "start_time": "2023-01-30T16:16:52.889Z"
   },
   {
    "duration": 14,
    "start_time": "2023-01-30T16:16:52.913Z"
   },
   {
    "duration": 13,
    "start_time": "2023-01-30T16:16:52.929Z"
   },
   {
    "duration": 206,
    "start_time": "2023-01-30T16:16:52.945Z"
   },
   {
    "duration": 153,
    "start_time": "2023-01-30T16:16:53.153Z"
   },
   {
    "duration": 4,
    "start_time": "2023-01-30T16:16:53.309Z"
   },
   {
    "duration": 59,
    "start_time": "2023-01-30T16:16:53.315Z"
   },
   {
    "duration": 123,
    "start_time": "2023-01-30T16:16:53.376Z"
   },
   {
    "duration": 4866,
    "start_time": "2023-01-30T16:16:53.501Z"
   },
   {
    "duration": 399809,
    "start_time": "2023-01-30T16:16:58.369Z"
   },
   {
    "duration": 6350,
    "start_time": "2023-01-30T16:23:38.181Z"
   },
   {
    "duration": 1874,
    "start_time": "2023-01-30T16:23:44.534Z"
   },
   {
    "duration": 122,
    "start_time": "2023-01-30T16:23:46.480Z"
   },
   {
    "duration": 27,
    "start_time": "2023-01-30T16:23:46.607Z"
   },
   {
    "duration": 66,
    "start_time": "2023-01-30T16:23:46.636Z"
   },
   {
    "duration": 6702,
    "start_time": "2023-01-30T16:23:46.703Z"
   },
   {
    "duration": 2475,
    "start_time": "2023-01-30T16:23:53.407Z"
   },
   {
    "duration": 10807,
    "start_time": "2023-01-30T16:23:55.885Z"
   },
   {
    "duration": 398,
    "start_time": "2023-01-30T16:24:06.693Z"
   },
   {
    "duration": 423,
    "start_time": "2023-01-30T16:24:07.093Z"
   },
   {
    "duration": 64,
    "start_time": "2023-01-30T16:24:07.517Z"
   },
   {
    "duration": 2405,
    "start_time": "2023-01-30T16:24:07.585Z"
   },
   {
    "duration": 6583,
    "start_time": "2023-01-30T16:24:10.081Z"
   },
   {
    "duration": 6568,
    "start_time": "2023-01-30T16:24:16.666Z"
   },
   {
    "duration": 208,
    "start_time": "2023-01-30T16:24:23.236Z"
   },
   {
    "duration": 6590,
    "start_time": "2023-01-30T16:24:23.446Z"
   },
   {
    "duration": 555,
    "start_time": "2023-01-30T16:24:30.038Z"
   },
   {
    "duration": 5,
    "start_time": "2023-01-30T16:27:46.855Z"
   },
   {
    "duration": 21804,
    "start_time": "2023-01-30T16:33:01.947Z"
   },
   {
    "duration": 1456,
    "start_time": "2023-01-30T17:31:06.712Z"
   },
   {
    "duration": 3,
    "start_time": "2023-01-30T17:31:08.945Z"
   },
   {
    "duration": 180,
    "start_time": "2023-01-30T17:31:11.404Z"
   },
   {
    "duration": 15,
    "start_time": "2023-01-30T17:31:12.966Z"
   },
   {
    "duration": 15,
    "start_time": "2023-01-30T17:31:14.716Z"
   },
   {
    "duration": 7,
    "start_time": "2023-01-30T17:31:17.302Z"
   },
   {
    "duration": 20,
    "start_time": "2023-01-30T17:31:21.049Z"
   },
   {
    "duration": 13,
    "start_time": "2023-01-30T17:31:24.871Z"
   },
   {
    "duration": 14,
    "start_time": "2023-01-30T17:31:32.095Z"
   },
   {
    "duration": 5,
    "start_time": "2023-01-30T17:33:52.014Z"
   },
   {
    "duration": 107,
    "start_time": "2023-01-30T17:33:58.686Z"
   },
   {
    "duration": 42,
    "start_time": "2023-01-30T17:34:15.296Z"
   },
   {
    "duration": 13,
    "start_time": "2023-01-30T17:34:16.559Z"
   },
   {
    "duration": 12,
    "start_time": "2023-01-30T17:34:17.929Z"
   },
   {
    "duration": 7,
    "start_time": "2023-01-30T17:34:19.611Z"
   },
   {
    "duration": 20,
    "start_time": "2023-01-30T17:34:20.970Z"
   },
   {
    "duration": 15,
    "start_time": "2023-01-30T17:34:23.136Z"
   },
   {
    "duration": 12,
    "start_time": "2023-01-30T17:34:25.686Z"
   },
   {
    "duration": 7,
    "start_time": "2023-01-30T17:34:27.461Z"
   },
   {
    "duration": 12,
    "start_time": "2023-01-30T17:39:10.584Z"
   },
   {
    "duration": 18,
    "start_time": "2023-01-30T17:39:14.886Z"
   },
   {
    "duration": 4,
    "start_time": "2023-01-30T17:39:16.213Z"
   },
   {
    "duration": 28,
    "start_time": "2023-01-30T17:39:21.179Z"
   },
   {
    "duration": 123,
    "start_time": "2023-01-30T17:39:23.731Z"
   },
   {
    "duration": 268,
    "start_time": "2023-01-30T17:39:30.374Z"
   },
   {
    "duration": 161153,
    "start_time": "2023-01-30T17:39:39.439Z"
   },
   {
    "duration": 694,
    "start_time": "2023-01-30T17:46:09.615Z"
   },
   {
    "duration": 183,
    "start_time": "2023-01-30T17:50:32.918Z"
   },
   {
    "duration": 6,
    "start_time": "2023-01-30T17:50:40.466Z"
   },
   {
    "duration": 6,
    "start_time": "2023-01-30T17:50:41.688Z"
   },
   {
    "duration": 6,
    "start_time": "2023-01-30T17:51:09.976Z"
   },
   {
    "duration": 5,
    "start_time": "2023-01-30T17:51:10.755Z"
   },
   {
    "duration": 7,
    "start_time": "2023-01-30T17:51:11.617Z"
   },
   {
    "duration": 363,
    "start_time": "2023-01-30T17:51:19.714Z"
   },
   {
    "duration": 266,
    "start_time": "2023-01-30T17:51:23.947Z"
   },
   {
    "duration": 175792,
    "start_time": "2023-01-30T17:52:11.368Z"
   },
   {
    "duration": 228249,
    "start_time": "2023-01-30T17:55:24.071Z"
   },
   {
    "duration": 1202,
    "start_time": "2023-01-30T18:01:36.055Z"
   },
   {
    "duration": 1566,
    "start_time": "2023-01-30T18:01:48.981Z"
   },
   {
    "duration": 48,
    "start_time": "2023-01-30T18:02:26.721Z"
   },
   {
    "duration": 91,
    "start_time": "2023-01-30T18:02:36.214Z"
   },
   {
    "duration": 11,
    "start_time": "2023-01-30T18:04:49.644Z"
   },
   {
    "duration": 734,
    "start_time": "2023-01-30T18:04:57.084Z"
   },
   {
    "duration": 721,
    "start_time": "2023-01-30T18:05:26.912Z"
   },
   {
    "duration": 694,
    "start_time": "2023-01-30T18:05:38.709Z"
   },
   {
    "duration": 80,
    "start_time": "2023-01-30T18:06:06.131Z"
   },
   {
    "duration": 1397,
    "start_time": "2023-01-30T18:12:53.682Z"
   },
   {
    "duration": 1341,
    "start_time": "2023-01-30T18:18:57.400Z"
   },
   {
    "duration": 1431,
    "start_time": "2023-01-30T21:02:37.665Z"
   },
   {
    "duration": 2,
    "start_time": "2023-01-30T21:02:39.098Z"
   },
   {
    "duration": 49,
    "start_time": "2023-01-30T21:02:39.101Z"
   },
   {
    "duration": 14,
    "start_time": "2023-01-30T21:02:39.151Z"
   },
   {
    "duration": 14,
    "start_time": "2023-01-30T21:02:39.166Z"
   },
   {
    "duration": 6,
    "start_time": "2023-01-30T21:02:39.182Z"
   },
   {
    "duration": 18,
    "start_time": "2023-01-30T21:02:39.189Z"
   },
   {
    "duration": 23,
    "start_time": "2023-01-30T21:02:39.209Z"
   },
   {
    "duration": 44,
    "start_time": "2023-01-30T21:02:39.234Z"
   },
   {
    "duration": 11,
    "start_time": "2023-01-30T21:02:39.280Z"
   },
   {
    "duration": 15,
    "start_time": "2023-01-30T21:02:39.293Z"
   },
   {
    "duration": 31,
    "start_time": "2023-01-30T21:02:39.309Z"
   },
   {
    "duration": 13,
    "start_time": "2023-01-30T21:02:39.341Z"
   },
   {
    "duration": 27,
    "start_time": "2023-01-30T21:02:39.356Z"
   },
   {
    "duration": 106,
    "start_time": "2023-01-30T21:02:39.384Z"
   },
   {
    "duration": 250,
    "start_time": "2023-01-30T21:02:39.492Z"
   },
   {
    "duration": 148141,
    "start_time": "2023-01-30T21:02:39.744Z"
   },
   {
    "duration": 628,
    "start_time": "2023-01-30T21:05:07.886Z"
   },
   {
    "duration": 3,
    "start_time": "2023-01-30T21:05:08.516Z"
   },
   {
    "duration": 167,
    "start_time": "2023-01-30T21:05:08.520Z"
   },
   {
    "duration": 99,
    "start_time": "2023-01-30T21:05:08.689Z"
   },
   {
    "duration": 99,
    "start_time": "2023-01-30T21:05:08.791Z"
   },
   {
    "duration": 5,
    "start_time": "2023-01-30T21:05:08.892Z"
   },
   {
    "duration": 310,
    "start_time": "2023-01-30T21:05:08.899Z"
   },
   {
    "duration": 271,
    "start_time": "2023-01-30T21:05:09.211Z"
   },
   {
    "duration": 198424,
    "start_time": "2023-01-30T21:05:09.485Z"
   },
   {
    "duration": 1231,
    "start_time": "2023-01-30T21:08:27.910Z"
   },
   {
    "duration": 51,
    "start_time": "2023-01-30T21:08:29.144Z"
   },
   {
    "duration": 60,
    "start_time": "2023-01-30T21:08:29.197Z"
   },
   {
    "duration": 26,
    "start_time": "2023-01-30T21:08:29.259Z"
   },
   {
    "duration": 300,
    "start_time": "2023-01-30T21:08:29.286Z"
   },
   {
    "duration": 764,
    "start_time": "2023-01-30T21:08:29.588Z"
   },
   {
    "duration": 637,
    "start_time": "2023-01-30T21:08:30.354Z"
   },
   {
    "duration": 58,
    "start_time": "2023-01-30T21:08:30.993Z"
   },
   {
    "duration": 1259,
    "start_time": "2023-01-30T21:08:31.053Z"
   }
  ],
  "kernelspec": {
   "display_name": "Python 3 (ipykernel)",
   "language": "python",
   "name": "python3"
  },
  "language_info": {
   "codemirror_mode": {
    "name": "ipython",
    "version": 3
   },
   "file_extension": ".py",
   "mimetype": "text/x-python",
   "name": "python",
   "nbconvert_exporter": "python",
   "pygments_lexer": "ipython3",
   "version": "3.9.12"
  },
  "toc": {
   "base_numbering": 1,
   "nav_menu": {},
   "number_sections": false,
   "sideBar": true,
   "skip_h1_title": true,
   "title_cell": "Содержание",
   "title_sidebar": "Contents",
   "toc_cell": false,
   "toc_position": {
    "height": "calc(100% - 180px)",
    "left": "10px",
    "top": "150px",
    "width": "313px"
   },
   "toc_section_display": true,
   "toc_window_display": true
  }
 },
 "nbformat": 4,
 "nbformat_minor": 2
}
