{
 "cells": [
  {
   "cell_type": "markdown",
   "id": "36d41ee9",
   "metadata": {},
   "source": [
    "# Рекомендация тарифов"
   ]
  },
  {
   "cell_type": "markdown",
   "id": "9851531e",
   "metadata": {},
   "source": [
    "Оператор мобильной связи «Мегалайн» выяснил: многие клиенты пользуются архивными тарифами. Они хотят построить систему, способную проанализировать поведение клиентов и предложить пользователям новый тариф: «Смарт» или «Ультра». В нашем распоряжении данные о поведении клиентов, которые уже перешли на тарифы Smart и Ultra. \n",
    "\n",
    "**Цель исследования:**\n",
    "построить модель для задачи классификации, которая выберет подходящий тариф для конкретного пользователя.\n",
    "\n",
    "**Ход исследования:**\n",
    "\n",
    "1. Загрузка данных и изучение первичной информации.\n",
    "2. Подготовка данных к обучению моделей.\n",
    "3. Исследование качества разных моделей.\n",
    "4. Итоговое тестирование выбранной модели.\n",
    "\n",
    "**Описание данных:**\n",
    "\n",
    "- сalls — количество звонков,\n",
    "- minutes — суммарная длительность звонков в минутах,\n",
    "- messages — количество sms-сообщений,\n",
    "- mb_used — израсходованный интернет-трафик в Мб,\n",
    "- is_ultra — каким тарифом пользовался в течение месяца («Ультра» — 1, «Смарт» — 0).\n",
    "\n",
    "**Описание тарифов:**\n",
    "1. Тариф «Смарт»:\n",
    " - Ежемесячная плата: 550 рублей\n",
    " - Включено 500 минут разговора, 50 сообщений и 15 Гб интернет-трафика\n",
    " - Стоимость услуг сверх тарифного пакета:\n",
    " - Минута разговора — 3 рубля. Количество использованных минут и мегабайтов «Мегалайн» всегда округляет вверх. Если пользователь проговорил всего 1 секунду, в тарифе засчитывается целая минута.\n",
    " - Сообщение — 3 рубля.\n",
    " - 1 Гб интернет-трафика — 200 рублей.\n",
    "2. Тариф «Ультра»\n",
    " - Ежемесячная плата: 1950 рублей\n",
    " - Включено 3000 минут разговора, 1000 сообщений и 30 Гб интернет-трафика\n",
    " - Стоимость услуг сверх тарифного пакета:\n",
    " - Минута разговора — 1 рубль;\n",
    " - Сообщение — 1 рубль;\n",
    " - 1 Гб интернет-трафика: 150 рублей."
   ]
  },
  {
   "cell_type": "markdown",
   "id": "72a1bbd8",
   "metadata": {},
   "source": [
    "## 1. Открытие файла с данными и изучение общей информации"
   ]
  },
  {
   "cell_type": "markdown",
   "id": "6d4c1d0f",
   "metadata": {},
   "source": [
    "Загрузим необходимые библиотеки"
   ]
  },
  {
   "cell_type": "code",
   "execution_count": 1,
   "id": "358a4633",
   "metadata": {},
   "outputs": [],
   "source": [
    "from sklearn import tree\n",
    "\n",
    "from sklearn.dummy import DummyClassifier\n",
    "\n",
    "from sklearn.ensemble import RandomForestClassifier\n",
    "from sklearn.metrics import accuracy_score, precision_score, recall_score, f1_score\n",
    "from sklearn.model_selection import train_test_split, GridSearchCV\n",
    "from sklearn.tree import DecisionTreeClassifier\n",
    "from sklearn.linear_model import LogisticRegression\n",
    "\n",
    "import pandas as pd\n",
    "\n",
    "import matplotlib.pyplot as plt\n"
   ]
  },
  {
   "cell_type": "code",
   "execution_count": 2,
   "id": "844236d9",
   "metadata": {},
   "outputs": [],
   "source": [
    "RANDOM_STATE = 0    #константа для обучения моделей"
   ]
  },
  {
   "cell_type": "markdown",
   "id": "3d427830",
   "metadata": {},
   "source": [
    "Сохраним наш файл с данными в переменную data. Выведем любые 10 строк исходных данных, а также просмотрим основную информацию о наборе данных."
   ]
  },
  {
   "cell_type": "code",
   "execution_count": 3,
   "id": "89361f3a",
   "metadata": {},
   "outputs": [
    {
     "data": {
      "text/html": [
       "<div>\n",
       "<style scoped>\n",
       "    .dataframe tbody tr th:only-of-type {\n",
       "        vertical-align: middle;\n",
       "    }\n",
       "\n",
       "    .dataframe tbody tr th {\n",
       "        vertical-align: top;\n",
       "    }\n",
       "\n",
       "    .dataframe thead th {\n",
       "        text-align: right;\n",
       "    }\n",
       "</style>\n",
       "<table border=\"1\" class=\"dataframe\">\n",
       "  <thead>\n",
       "    <tr style=\"text-align: right;\">\n",
       "      <th></th>\n",
       "      <th>calls</th>\n",
       "      <th>minutes</th>\n",
       "      <th>messages</th>\n",
       "      <th>mb_used</th>\n",
       "      <th>is_ultra</th>\n",
       "    </tr>\n",
       "  </thead>\n",
       "  <tbody>\n",
       "    <tr>\n",
       "      <th>321</th>\n",
       "      <td>38.0</td>\n",
       "      <td>237.78</td>\n",
       "      <td>5.0</td>\n",
       "      <td>4905.50</td>\n",
       "      <td>0</td>\n",
       "    </tr>\n",
       "    <tr>\n",
       "      <th>1054</th>\n",
       "      <td>42.0</td>\n",
       "      <td>226.18</td>\n",
       "      <td>21.0</td>\n",
       "      <td>13243.48</td>\n",
       "      <td>0</td>\n",
       "    </tr>\n",
       "    <tr>\n",
       "      <th>1132</th>\n",
       "      <td>51.0</td>\n",
       "      <td>381.12</td>\n",
       "      <td>43.0</td>\n",
       "      <td>14771.91</td>\n",
       "      <td>0</td>\n",
       "    </tr>\n",
       "    <tr>\n",
       "      <th>2663</th>\n",
       "      <td>60.0</td>\n",
       "      <td>449.57</td>\n",
       "      <td>0.0</td>\n",
       "      <td>20700.96</td>\n",
       "      <td>0</td>\n",
       "    </tr>\n",
       "    <tr>\n",
       "      <th>3111</th>\n",
       "      <td>64.0</td>\n",
       "      <td>513.57</td>\n",
       "      <td>21.0</td>\n",
       "      <td>16861.47</td>\n",
       "      <td>0</td>\n",
       "    </tr>\n",
       "    <tr>\n",
       "      <th>1524</th>\n",
       "      <td>41.0</td>\n",
       "      <td>215.34</td>\n",
       "      <td>7.0</td>\n",
       "      <td>10842.36</td>\n",
       "      <td>0</td>\n",
       "    </tr>\n",
       "    <tr>\n",
       "      <th>2454</th>\n",
       "      <td>30.0</td>\n",
       "      <td>225.11</td>\n",
       "      <td>30.0</td>\n",
       "      <td>12280.81</td>\n",
       "      <td>0</td>\n",
       "    </tr>\n",
       "    <tr>\n",
       "      <th>3065</th>\n",
       "      <td>91.0</td>\n",
       "      <td>610.31</td>\n",
       "      <td>46.0</td>\n",
       "      <td>23953.48</td>\n",
       "      <td>0</td>\n",
       "    </tr>\n",
       "    <tr>\n",
       "      <th>2246</th>\n",
       "      <td>89.0</td>\n",
       "      <td>669.06</td>\n",
       "      <td>18.0</td>\n",
       "      <td>3139.82</td>\n",
       "      <td>1</td>\n",
       "    </tr>\n",
       "    <tr>\n",
       "      <th>631</th>\n",
       "      <td>69.0</td>\n",
       "      <td>389.89</td>\n",
       "      <td>103.0</td>\n",
       "      <td>22633.64</td>\n",
       "      <td>0</td>\n",
       "    </tr>\n",
       "  </tbody>\n",
       "</table>\n",
       "</div>"
      ],
      "text/plain": [
       "      calls  minutes  messages   mb_used  is_ultra\n",
       "321    38.0   237.78       5.0   4905.50         0\n",
       "1054   42.0   226.18      21.0  13243.48         0\n",
       "1132   51.0   381.12      43.0  14771.91         0\n",
       "2663   60.0   449.57       0.0  20700.96         0\n",
       "3111   64.0   513.57      21.0  16861.47         0\n",
       "1524   41.0   215.34       7.0  10842.36         0\n",
       "2454   30.0   225.11      30.0  12280.81         0\n",
       "3065   91.0   610.31      46.0  23953.48         0\n",
       "2246   89.0   669.06      18.0   3139.82         1\n",
       "631    69.0   389.89     103.0  22633.64         0"
      ]
     },
     "metadata": {},
     "output_type": "display_data"
    },
    {
     "name": "stdout",
     "output_type": "stream",
     "text": [
      "<class 'pandas.core.frame.DataFrame'>\n",
      "RangeIndex: 3214 entries, 0 to 3213\n",
      "Data columns (total 5 columns):\n",
      " #   Column    Non-Null Count  Dtype  \n",
      "---  ------    --------------  -----  \n",
      " 0   calls     3214 non-null   float64\n",
      " 1   minutes   3214 non-null   float64\n",
      " 2   messages  3214 non-null   float64\n",
      " 3   mb_used   3214 non-null   float64\n",
      " 4   is_ultra  3214 non-null   int64  \n",
      "dtypes: float64(4), int64(1)\n",
      "memory usage: 125.7 KB\n"
     ]
    }
   ],
   "source": [
    "data = pd.read_csv('users_behavior.csv')\n",
    "display(data.sample(10))\n",
    "data.info()"
   ]
  },
  {
   "cell_type": "markdown",
   "id": "9737a41d",
   "metadata": {},
   "source": [
    "Проверим данные на пропуски"
   ]
  },
  {
   "cell_type": "code",
   "execution_count": 4,
   "id": "f8384ba2",
   "metadata": {},
   "outputs": [
    {
     "data": {
      "text/html": [
       "<style type=\"text/css\">\n",
       "#T_88f00_row0_col0, #T_88f00_row1_col0, #T_88f00_row2_col0, #T_88f00_row3_col0, #T_88f00_row4_col0 {\n",
       "  background-color: #3b4cc0;\n",
       "  color: #f1f1f1;\n",
       "}\n",
       "</style>\n",
       "<table id=\"T_88f00\">\n",
       "  <thead>\n",
       "    <tr>\n",
       "      <th class=\"blank level0\" >&nbsp;</th>\n",
       "      <th id=\"T_88f00_level0_col0\" class=\"col_heading level0 col0\" >0</th>\n",
       "    </tr>\n",
       "  </thead>\n",
       "  <tbody>\n",
       "    <tr>\n",
       "      <th id=\"T_88f00_level0_row0\" class=\"row_heading level0 row0\" >calls</th>\n",
       "      <td id=\"T_88f00_row0_col0\" class=\"data row0 col0\" >0.000000</td>\n",
       "    </tr>\n",
       "    <tr>\n",
       "      <th id=\"T_88f00_level0_row1\" class=\"row_heading level0 row1\" >minutes</th>\n",
       "      <td id=\"T_88f00_row1_col0\" class=\"data row1 col0\" >0.000000</td>\n",
       "    </tr>\n",
       "    <tr>\n",
       "      <th id=\"T_88f00_level0_row2\" class=\"row_heading level0 row2\" >messages</th>\n",
       "      <td id=\"T_88f00_row2_col0\" class=\"data row2 col0\" >0.000000</td>\n",
       "    </tr>\n",
       "    <tr>\n",
       "      <th id=\"T_88f00_level0_row3\" class=\"row_heading level0 row3\" >mb_used</th>\n",
       "      <td id=\"T_88f00_row3_col0\" class=\"data row3 col0\" >0.000000</td>\n",
       "    </tr>\n",
       "    <tr>\n",
       "      <th id=\"T_88f00_level0_row4\" class=\"row_heading level0 row4\" >is_ultra</th>\n",
       "      <td id=\"T_88f00_row4_col0\" class=\"data row4 col0\" >0.000000</td>\n",
       "    </tr>\n",
       "  </tbody>\n",
       "</table>\n"
      ],
      "text/plain": [
       "<pandas.io.formats.style.Styler at 0x1ffb44428e0>"
      ]
     },
     "metadata": {},
     "output_type": "display_data"
    }
   ],
   "source": [
    "display(pd.DataFrame(data.isna().mean()*100).style.background_gradient('coolwarm'))"
   ]
  },
  {
   "cell_type": "markdown",
   "id": "a98ec662",
   "metadata": {},
   "source": [
    "Пропусков не нашли. Теперь проверим данные на дубликаты"
   ]
  },
  {
   "cell_type": "code",
   "execution_count": 5,
   "id": "f359a16b",
   "metadata": {},
   "outputs": [
    {
     "name": "stdout",
     "output_type": "stream",
     "text": [
      "Количество дубликатов: 0\n"
     ]
    }
   ],
   "source": [
    "print('Количество дубликатов:', data.duplicated().sum())"
   ]
  },
  {
   "cell_type": "markdown",
   "id": "ef18067d",
   "metadata": {},
   "source": [
    "Произведем проверку набора данных на сбалансированность классов в признаке, определяющем клиентский тариф."
   ]
  },
  {
   "cell_type": "code",
   "execution_count": 6,
   "id": "5e591827",
   "metadata": {},
   "outputs": [
    {
     "data": {
      "text/plain": [
       "0    2229\n",
       "1     985\n",
       "Name: is_ultra, dtype: int64"
      ]
     },
     "execution_count": 6,
     "metadata": {},
     "output_type": "execute_result"
    }
   ],
   "source": [
    "data['is_ultra'].value_counts()"
   ]
  },
  {
   "cell_type": "markdown",
   "id": "ec5bfad1",
   "metadata": {},
   "source": [
    "Заметен дисбаланс классов в сторону использования клиентами тарифа \"Смарт\". Эта информация нам пригодится при обучении моделей предсказания тарифа. Посмотрим на корреляцию признаков в данных"
   ]
  },
  {
   "cell_type": "code",
   "execution_count": 7,
   "id": "d088caf2",
   "metadata": {},
   "outputs": [
    {
     "data": {
      "text/html": [
       "<div>\n",
       "<style scoped>\n",
       "    .dataframe tbody tr th:only-of-type {\n",
       "        vertical-align: middle;\n",
       "    }\n",
       "\n",
       "    .dataframe tbody tr th {\n",
       "        vertical-align: top;\n",
       "    }\n",
       "\n",
       "    .dataframe thead th {\n",
       "        text-align: right;\n",
       "    }\n",
       "</style>\n",
       "<table border=\"1\" class=\"dataframe\">\n",
       "  <thead>\n",
       "    <tr style=\"text-align: right;\">\n",
       "      <th></th>\n",
       "      <th>calls</th>\n",
       "      <th>minutes</th>\n",
       "      <th>messages</th>\n",
       "      <th>mb_used</th>\n",
       "      <th>is_ultra</th>\n",
       "    </tr>\n",
       "  </thead>\n",
       "  <tbody>\n",
       "    <tr>\n",
       "      <th>calls</th>\n",
       "      <td>1.000000</td>\n",
       "      <td>0.982083</td>\n",
       "      <td>0.177385</td>\n",
       "      <td>0.286442</td>\n",
       "      <td>0.207122</td>\n",
       "    </tr>\n",
       "    <tr>\n",
       "      <th>minutes</th>\n",
       "      <td>0.982083</td>\n",
       "      <td>1.000000</td>\n",
       "      <td>0.173110</td>\n",
       "      <td>0.280967</td>\n",
       "      <td>0.206955</td>\n",
       "    </tr>\n",
       "    <tr>\n",
       "      <th>messages</th>\n",
       "      <td>0.177385</td>\n",
       "      <td>0.173110</td>\n",
       "      <td>1.000000</td>\n",
       "      <td>0.195721</td>\n",
       "      <td>0.203830</td>\n",
       "    </tr>\n",
       "    <tr>\n",
       "      <th>mb_used</th>\n",
       "      <td>0.286442</td>\n",
       "      <td>0.280967</td>\n",
       "      <td>0.195721</td>\n",
       "      <td>1.000000</td>\n",
       "      <td>0.198568</td>\n",
       "    </tr>\n",
       "    <tr>\n",
       "      <th>is_ultra</th>\n",
       "      <td>0.207122</td>\n",
       "      <td>0.206955</td>\n",
       "      <td>0.203830</td>\n",
       "      <td>0.198568</td>\n",
       "      <td>1.000000</td>\n",
       "    </tr>\n",
       "  </tbody>\n",
       "</table>\n",
       "</div>"
      ],
      "text/plain": [
       "             calls   minutes  messages   mb_used  is_ultra\n",
       "calls     1.000000  0.982083  0.177385  0.286442  0.207122\n",
       "minutes   0.982083  1.000000  0.173110  0.280967  0.206955\n",
       "messages  0.177385  0.173110  1.000000  0.195721  0.203830\n",
       "mb_used   0.286442  0.280967  0.195721  1.000000  0.198568\n",
       "is_ultra  0.207122  0.206955  0.203830  0.198568  1.000000"
      ]
     },
     "execution_count": 7,
     "metadata": {},
     "output_type": "execute_result"
    }
   ],
   "source": [
    "data.corr()"
   ]
  },
  {
   "cell_type": "markdown",
   "id": "d2effd73",
   "metadata": {},
   "source": [
    "Видим, что присутствует примерно одинаковая степень зависимости между каждым обычным и целевым признаком. При этом заметна мультиколлениарность между признаками calls и minutes."
   ]
  },
  {
   "cell_type": "markdown",
   "id": "4f6aaacb",
   "metadata": {},
   "source": [
    "**Итог.**\n",
    "В ходе загрузки данных и изучение общей информации было сделано следующее:\n",
    "1. проверили данные на пропуски и дуюликаты;\n",
    "2. выясняли, что присутствует дисбаланс классов в признаке, определяющем клиентский тариф;\n",
    "3. проанализировали информацию о корреляции признаков в наборе данных."
   ]
  },
  {
   "cell_type": "markdown",
   "id": "921b2bbc",
   "metadata": {},
   "source": [
    "## 2. Подготовка данных к обучению моделей"
   ]
  },
  {
   "cell_type": "markdown",
   "id": "27805396",
   "metadata": {},
   "source": [
    "Проведем разделение исходного набора данных на 2 выборки: обучающую и тестовую (сделаем это в соотношении 4:1)."
   ]
  },
  {
   "cell_type": "code",
   "execution_count": 8,
   "id": "662f6287",
   "metadata": {},
   "outputs": [],
   "source": [
    "train, test = train_test_split(data, train_size=0.8, random_state=RANDOM_STATE, stratify=data['is_ultra'])"
   ]
  },
  {
   "cell_type": "code",
   "execution_count": 9,
   "id": "2e6593ad",
   "metadata": {},
   "outputs": [
    {
     "name": "stdout",
     "output_type": "stream",
     "text": [
      "(2571, 5) (643, 5)\n"
     ]
    }
   ],
   "source": [
    "print(train.shape, test.shape)"
   ]
  },
  {
   "cell_type": "markdown",
   "id": "f673e656",
   "metadata": {},
   "source": [
    "Выделим из каждой выборки фичи и таргет"
   ]
  },
  {
   "cell_type": "code",
   "execution_count": 10,
   "id": "87413f8a",
   "metadata": {},
   "outputs": [],
   "source": [
    "X_train = train.drop(['is_ultra'], axis=1)\n",
    "Y_train = train['is_ultra']\n",
    "X_test = test.drop(['is_ultra'], axis=1)\n",
    "Y_test = test['is_ultra']"
   ]
  },
  {
   "cell_type": "markdown",
   "id": "8d7e268f",
   "metadata": {},
   "source": [
    "**Итог.**\n",
    "Получили тренировочный и тестовый набор данных. Каждый из них был разделен на подвыборки с обычными и целевыми признаками. В дальнейшем с помощью обучающей выборки будет происходить обучение модели, а также подбор гиперпараметров, а с помощью тестовой выборки проверим качество выбранной модели."
   ]
  },
  {
   "cell_type": "markdown",
   "id": "d9dec280",
   "metadata": {},
   "source": [
    "## 3. Исследование качества разных моделей"
   ]
  },
  {
   "cell_type": "markdown",
   "id": "a3bbefaf",
   "metadata": {},
   "source": [
    "Начнем исследование качества моделей с решающего дерева. Т.к. мы имеем дисбаланс классов в целевом признаке, то сразу укажем такой гиперпараметр, как class_weight, который выставит каждому классу необходимы вес. "
   ]
  },
  {
   "cell_type": "code",
   "execution_count": 11,
   "id": "08600969",
   "metadata": {},
   "outputs": [],
   "source": [
    "model = DecisionTreeClassifier(random_state=RANDOM_STATE, class_weight='balanced')\n",
    "grid_space = {\n",
    "    'max_depth':range(1, 10, 1)\n",
    "}\n",
    "grid = GridSearchCV(model, param_grid=grid_space, cv=5, scoring='accuracy')\n",
    "model_grid = grid.fit(X_train, Y_train)"
   ]
  },
  {
   "cell_type": "code",
   "execution_count": 12,
   "id": "6c057719",
   "metadata": {},
   "outputs": [
    {
     "name": "stdout",
     "output_type": "stream",
     "text": [
      "Наилучшие гиперпараметры: {'max_depth': 3}\n",
      "Значение метрики accuracy: 0.7868588266404745\n"
     ]
    }
   ],
   "source": [
    "print('Наилучшие гиперпараметры: '+str(model_grid.best_params_))\n",
    "print('Значение метрики accuracy: '+str(model_grid.best_score_))"
   ]
  },
  {
   "cell_type": "markdown",
   "id": "6c0ffe12",
   "metadata": {},
   "source": [
    "Лучший показатель имеет решающее дерево с глубиной, равной 3. Теперь посмотрим на модель случайного леса"
   ]
  },
  {
   "cell_type": "code",
   "execution_count": 13,
   "id": "35cadab0",
   "metadata": {},
   "outputs": [],
   "source": [
    "model = RandomForestClassifier(random_state=RANDOM_STATE, class_weight='balanced')\n",
    "grid_space = {\n",
    "    'max_depth':range(1, 15, 1),\n",
    "    'n_estimators':range(1, 20, 1)\n",
    "}\n",
    "grid = GridSearchCV(model, param_grid=grid_space, cv=5, scoring='accuracy')\n",
    "model_grid = grid.fit(X_train, Y_train)"
   ]
  },
  {
   "cell_type": "code",
   "execution_count": 14,
   "id": "1ad06202",
   "metadata": {},
   "outputs": [
    {
     "name": "stdout",
     "output_type": "stream",
     "text": [
      "Наилучшие гиперпараметры: {'max_depth': 7, 'n_estimators': 7}\n",
      "Значение метрики accuracy: 0.7969732915265763\n"
     ]
    }
   ],
   "source": [
    "print('Наилучшие гиперпараметры: '+str(model_grid.best_params_))\n",
    "print('Значение метрики accuracy: '+str(model_grid.best_score_))"
   ]
  },
  {
   "cell_type": "markdown",
   "id": "9c222353",
   "metadata": {},
   "source": [
    "Как видим, случайный лес с количеством деревьев, равным 7 и при глубине каждого в 7, показал лучшее значение accuracy, чем решающее дерево. Для итого тестирования возьмем именно эту модель с описанными гиперпараметрами."
   ]
  },
  {
   "cell_type": "markdown",
   "id": "16d32490",
   "metadata": {},
   "source": [
    "**Итог.**\n",
    "Рассмотрели 2 модели, которые не чувствительны к мультиколлениарности, описанной в пункте 1. Точность правильных ответов у дерева решений 78.7% против 79.7% у случайного леса. Именно последнюю модель и возьмем для финального тестирования."
   ]
  },
  {
   "cell_type": "markdown",
   "id": "fd95699b",
   "metadata": {},
   "source": [
    "## 4. Проверка качества модели на тестовой выборке."
   ]
  },
  {
   "cell_type": "markdown",
   "id": "478cc02f",
   "metadata": {},
   "source": [
    "Проведем проверку выбранной модели для предсказания на тестовой выборке, которую мы определили в пункте 2."
   ]
  },
  {
   "cell_type": "code",
   "execution_count": 15,
   "id": "400e17e2",
   "metadata": {},
   "outputs": [
    {
     "name": "stdout",
     "output_type": "stream",
     "text": [
      "Значение метрики accuracy на тестовой выборке: 0.7978227060653188\n"
     ]
    }
   ],
   "source": [
    "model = RandomForestClassifier(random_state=RANDOM_STATE, max_depth=7, n_estimators=7, class_weight='balanced')\n",
    "model.fit(X_train, Y_train)\n",
    "prediction = model.predict(X_test)\n",
    "result = accuracy_score(Y_test, prediction)\n",
    "print('Значение метрики accuracy на тестовой выборке:', result)"
   ]
  },
  {
   "cell_type": "markdown",
   "id": "9aa572b9",
   "metadata": {},
   "source": [
    "Как видим из результатов метрики accuracy доля правильных ответов составляет почти 80%. Данный показатель подтверждает вменяемость выбранной модели при дисбалансе классов в 69% в сторону класса \"0\""
   ]
  },
  {
   "cell_type": "markdown",
   "id": "58423d41",
   "metadata": {},
   "source": [
    "## 5. Вывод"
   ]
  },
  {
   "cell_type": "markdown",
   "id": "2f8faaa7",
   "metadata": {},
   "source": [
    "В ходе исследования мы загрузили данные и исследовали первичную информацию о них. Исходный датасет разбили на тренировочную и тестовую выборку для обучения моделей, предсказывающих подходящий тариф клиенту. Было рассмотрено две модели: решающее дерево и случайный лес. По тестированию лучше всего показала себя модель случайного леса с количеством деревьев 7 и глубиной каждого дерева в 7. При проверке на тестовой выборке данная модель показала долю правильных предсказаний, почти равную 80%."
   ]
  }
 ],
 "metadata": {
  "ExecuteTimeLog": [
   {
    "duration": 1787,
    "start_time": "2023-01-04T18:20:10.548Z"
   },
   {
    "duration": 85,
    "start_time": "2023-01-04T18:20:12.337Z"
   },
   {
    "duration": 7,
    "start_time": "2023-01-04T18:20:12.423Z"
   },
   {
    "duration": 12,
    "start_time": "2023-01-04T18:20:12.432Z"
   },
   {
    "duration": 41,
    "start_time": "2023-01-04T18:20:12.445Z"
   },
   {
    "duration": 1207,
    "start_time": "2023-01-04T18:20:12.491Z"
   },
   {
    "duration": 26,
    "start_time": "2023-01-04T18:20:13.699Z"
   },
   {
    "duration": 15,
    "start_time": "2023-01-05T17:32:22.853Z"
   },
   {
    "duration": 7,
    "start_time": "2023-01-05T17:33:56.037Z"
   },
   {
    "duration": 59,
    "start_time": "2023-01-06T09:13:40.453Z"
   },
   {
    "duration": 1515,
    "start_time": "2023-01-06T09:13:53.260Z"
   },
   {
    "duration": 4,
    "start_time": "2023-01-06T09:13:56.069Z"
   },
   {
    "duration": 165,
    "start_time": "2023-01-06T09:13:58.746Z"
   },
   {
    "duration": 7,
    "start_time": "2023-01-06T09:14:00.807Z"
   },
   {
    "duration": 14,
    "start_time": "2023-01-06T09:14:03.204Z"
   },
   {
    "duration": 8,
    "start_time": "2023-01-06T09:14:05.936Z"
   },
   {
    "duration": 4,
    "start_time": "2023-01-06T09:14:06.339Z"
   },
   {
    "duration": 331,
    "start_time": "2023-01-06T09:14:11.448Z"
   },
   {
    "duration": 507,
    "start_time": "2023-01-06T09:14:14.210Z"
   },
   {
    "duration": 504,
    "start_time": "2023-01-06T09:14:19.989Z"
   },
   {
    "duration": 6,
    "start_time": "2023-01-06T09:24:57.860Z"
   },
   {
    "duration": 61,
    "start_time": "2023-01-06T09:25:22.821Z"
   },
   {
    "duration": 7,
    "start_time": "2023-01-06T09:30:18.456Z"
   },
   {
    "duration": 4,
    "start_time": "2023-01-06T09:30:22.971Z"
   },
   {
    "duration": 95,
    "start_time": "2023-01-06T09:30:54.652Z"
   },
   {
    "duration": 7,
    "start_time": "2023-01-06T09:31:01.834Z"
   },
   {
    "duration": 7,
    "start_time": "2023-01-06T09:31:15.843Z"
   },
   {
    "duration": 3,
    "start_time": "2023-01-06T09:31:16.690Z"
   },
   {
    "duration": 13,
    "start_time": "2023-01-06T09:35:31.158Z"
   },
   {
    "duration": 15,
    "start_time": "2023-01-06T09:36:07.201Z"
   },
   {
    "duration": 661,
    "start_time": "2023-01-06T09:36:39.653Z"
   },
   {
    "duration": 1153,
    "start_time": "2023-01-06T09:36:59.596Z"
   },
   {
    "duration": 6,
    "start_time": "2023-01-06T09:41:37.780Z"
   }
  ],
  "kernelspec": {
   "display_name": "Python 3 (ipykernel)",
   "language": "python",
   "name": "python3"
  },
  "language_info": {
   "codemirror_mode": {
    "name": "ipython",
    "version": 3
   },
   "file_extension": ".py",
   "mimetype": "text/x-python",
   "name": "python",
   "nbconvert_exporter": "python",
   "pygments_lexer": "ipython3",
   "version": "3.9.12"
  },
  "toc": {
   "base_numbering": 1,
   "nav_menu": {},
   "number_sections": false,
   "sideBar": true,
   "skip_h1_title": true,
   "title_cell": "Table of Contents",
   "title_sidebar": "Contents",
   "toc_cell": false,
   "toc_position": {},
   "toc_section_display": true,
   "toc_window_display": true
  }
 },
 "nbformat": 4,
 "nbformat_minor": 5
}
