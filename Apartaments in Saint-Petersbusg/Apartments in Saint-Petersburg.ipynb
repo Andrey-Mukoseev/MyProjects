{
 "cells": [
  {
   "cell_type": "markdown",
   "id": "55bd160f",
   "metadata": {},
   "source": [
    "# Исследование объявлений о продаже квартир\n",
    "\n",
    "В нашем распоряжении данные сервиса Яндекс.Недвижимость — архив объявлений о продаже квартир в Санкт-Петербурге и соседних населённых пунктов за несколько лет. Необходимо научиться определять рыночную стоимость объектов недвижимости. Наша задача — установить параметры. Это позволит построить автоматизированную систему: она отследит аномалии и мошенническую деятельность. \n",
    "\n",
    "По каждой квартире на продажу доступны два вида данных. Первые вписаны пользователем, вторые — получены автоматически на основе картографических данных. Например, расстояние до центра, аэропорта, ближайшего парка и водоёма. \n",
    "\n",
    "**Цели исследования:**\n",
    "1. Определить рыночную стоимость объектов недвижимости.\n",
    "2. Построить автоматизированную систему, которая отследит аномалии и мошенническую деятельность.\n",
    "3. Установить, какие факторы влияют на ценообразование стоимости квартир.\n",
    "\n",
    "**Ход исследования:**\n",
    "1. Загрузка данных и изучение общей информации.\n",
    "2. Предобработка данных.\n",
    "3. Добавление новых признаков в исходный набор данных.\n",
    "4. Исследовательский анализ данных.\n",
    "5. Общий вывод.\n",
    "\n",
    "**Описание данных:**\n",
    "- airports_nearest — расстояние до ближайшего аэропорта в метрах (м);\n",
    "- balcony — число балконов;\n",
    "- ceiling_height — высота потолков (м);\n",
    "- cityCenters_nearest — расстояние до центра города (м);\n",
    "- days_exposition — сколько дней было размещено объявление (от публикации до снятия);\n",
    "- first_day_exposition — дата публикации;\n",
    "- floor — этаж;\n",
    "- floors_total — всего этажей в доме;\n",
    "- is_apartment — апартаменты (булев тип);\n",
    "- kitchen_area — площадь кухни в квадратных метрах (м²);\n",
    "- last_price — цена на момент снятия с публикации;\n",
    "- living_area — жилая площадь в квадратных метрах (м²);\n",
    "- locality_name — название населённого пункта;\n",
    "- open_plan — свободная планировка (булев тип);\n",
    "- parks_around3000 — число парков в радиусе 3 км;\n",
    "- parks_nearest — расстояние до ближайшего парка (м);\n",
    "- ponds_around3000 — число водоёмов в радиусе 3 км;\n",
    "- ponds_nearest — расстояние до ближайшего водоёма (м);\n",
    "- rooms — число комнат;\n",
    "- studio — квартира-студия (булев тип);\n",
    "- total_area — общая площадь квартиры в квадратных метрах (м²);\n",
    "- total_images — число фотографий квартиры в объявлении."
   ]
  },
  {
   "cell_type": "markdown",
   "id": "b010b0cd",
   "metadata": {},
   "source": [
    "## 1. Загрузка данных и изучение общей информации"
   ]
  },
  {
   "cell_type": "markdown",
   "id": "40794e67",
   "metadata": {},
   "source": [
    "Загрузка необходимых библиотек"
   ]
  },
  {
   "cell_type": "code",
   "execution_count": 1,
   "id": "07e4dd54",
   "metadata": {},
   "outputs": [],
   "source": [
    "import pandas as pd\n",
    "import numpy as np\n",
    "import matplotlib.pyplot as plt"
   ]
  },
  {
   "cell_type": "markdown",
   "id": "8739f91d",
   "metadata": {},
   "source": [
    "Загрузка данных и сбор первчиной информации"
   ]
  },
  {
   "cell_type": "code",
   "execution_count": 2,
   "id": "01009b83",
   "metadata": {
    "scrolled": true
   },
   "outputs": [
    {
     "data": {
      "text/html": [
       "<div>\n",
       "<style scoped>\n",
       "    .dataframe tbody tr th:only-of-type {\n",
       "        vertical-align: middle;\n",
       "    }\n",
       "\n",
       "    .dataframe tbody tr th {\n",
       "        vertical-align: top;\n",
       "    }\n",
       "\n",
       "    .dataframe thead th {\n",
       "        text-align: right;\n",
       "    }\n",
       "</style>\n",
       "<table border=\"1\" class=\"dataframe\">\n",
       "  <thead>\n",
       "    <tr style=\"text-align: right;\">\n",
       "      <th></th>\n",
       "      <th>total_images</th>\n",
       "      <th>last_price</th>\n",
       "      <th>total_area</th>\n",
       "      <th>first_day_exposition</th>\n",
       "      <th>rooms</th>\n",
       "      <th>ceiling_height</th>\n",
       "      <th>floors_total</th>\n",
       "      <th>living_area</th>\n",
       "      <th>floor</th>\n",
       "      <th>is_apartment</th>\n",
       "      <th>...</th>\n",
       "      <th>kitchen_area</th>\n",
       "      <th>balcony</th>\n",
       "      <th>locality_name</th>\n",
       "      <th>airports_nearest</th>\n",
       "      <th>cityCenters_nearest</th>\n",
       "      <th>parks_around3000</th>\n",
       "      <th>parks_nearest</th>\n",
       "      <th>ponds_around3000</th>\n",
       "      <th>ponds_nearest</th>\n",
       "      <th>days_exposition</th>\n",
       "    </tr>\n",
       "  </thead>\n",
       "  <tbody>\n",
       "    <tr>\n",
       "      <th>0</th>\n",
       "      <td>20</td>\n",
       "      <td>13000000.0</td>\n",
       "      <td>108.0</td>\n",
       "      <td>2019-03-07T00:00:00</td>\n",
       "      <td>3</td>\n",
       "      <td>2.70</td>\n",
       "      <td>16.0</td>\n",
       "      <td>51.0</td>\n",
       "      <td>8</td>\n",
       "      <td>NaN</td>\n",
       "      <td>...</td>\n",
       "      <td>25.0</td>\n",
       "      <td>NaN</td>\n",
       "      <td>Санкт-Петербург</td>\n",
       "      <td>18863.0</td>\n",
       "      <td>16028.0</td>\n",
       "      <td>1.0</td>\n",
       "      <td>482.0</td>\n",
       "      <td>2.0</td>\n",
       "      <td>755.0</td>\n",
       "      <td>NaN</td>\n",
       "    </tr>\n",
       "    <tr>\n",
       "      <th>1</th>\n",
       "      <td>7</td>\n",
       "      <td>3350000.0</td>\n",
       "      <td>40.4</td>\n",
       "      <td>2018-12-04T00:00:00</td>\n",
       "      <td>1</td>\n",
       "      <td>NaN</td>\n",
       "      <td>11.0</td>\n",
       "      <td>18.6</td>\n",
       "      <td>1</td>\n",
       "      <td>NaN</td>\n",
       "      <td>...</td>\n",
       "      <td>11.0</td>\n",
       "      <td>2.0</td>\n",
       "      <td>посёлок Шушары</td>\n",
       "      <td>12817.0</td>\n",
       "      <td>18603.0</td>\n",
       "      <td>0.0</td>\n",
       "      <td>NaN</td>\n",
       "      <td>0.0</td>\n",
       "      <td>NaN</td>\n",
       "      <td>81.0</td>\n",
       "    </tr>\n",
       "    <tr>\n",
       "      <th>2</th>\n",
       "      <td>10</td>\n",
       "      <td>5196000.0</td>\n",
       "      <td>56.0</td>\n",
       "      <td>2015-08-20T00:00:00</td>\n",
       "      <td>2</td>\n",
       "      <td>NaN</td>\n",
       "      <td>5.0</td>\n",
       "      <td>34.3</td>\n",
       "      <td>4</td>\n",
       "      <td>NaN</td>\n",
       "      <td>...</td>\n",
       "      <td>8.3</td>\n",
       "      <td>0.0</td>\n",
       "      <td>Санкт-Петербург</td>\n",
       "      <td>21741.0</td>\n",
       "      <td>13933.0</td>\n",
       "      <td>1.0</td>\n",
       "      <td>90.0</td>\n",
       "      <td>2.0</td>\n",
       "      <td>574.0</td>\n",
       "      <td>558.0</td>\n",
       "    </tr>\n",
       "    <tr>\n",
       "      <th>3</th>\n",
       "      <td>0</td>\n",
       "      <td>64900000.0</td>\n",
       "      <td>159.0</td>\n",
       "      <td>2015-07-24T00:00:00</td>\n",
       "      <td>3</td>\n",
       "      <td>NaN</td>\n",
       "      <td>14.0</td>\n",
       "      <td>NaN</td>\n",
       "      <td>9</td>\n",
       "      <td>NaN</td>\n",
       "      <td>...</td>\n",
       "      <td>NaN</td>\n",
       "      <td>0.0</td>\n",
       "      <td>Санкт-Петербург</td>\n",
       "      <td>28098.0</td>\n",
       "      <td>6800.0</td>\n",
       "      <td>2.0</td>\n",
       "      <td>84.0</td>\n",
       "      <td>3.0</td>\n",
       "      <td>234.0</td>\n",
       "      <td>424.0</td>\n",
       "    </tr>\n",
       "    <tr>\n",
       "      <th>4</th>\n",
       "      <td>2</td>\n",
       "      <td>10000000.0</td>\n",
       "      <td>100.0</td>\n",
       "      <td>2018-06-19T00:00:00</td>\n",
       "      <td>2</td>\n",
       "      <td>3.03</td>\n",
       "      <td>14.0</td>\n",
       "      <td>32.0</td>\n",
       "      <td>13</td>\n",
       "      <td>NaN</td>\n",
       "      <td>...</td>\n",
       "      <td>41.0</td>\n",
       "      <td>NaN</td>\n",
       "      <td>Санкт-Петербург</td>\n",
       "      <td>31856.0</td>\n",
       "      <td>8098.0</td>\n",
       "      <td>2.0</td>\n",
       "      <td>112.0</td>\n",
       "      <td>1.0</td>\n",
       "      <td>48.0</td>\n",
       "      <td>121.0</td>\n",
       "    </tr>\n",
       "  </tbody>\n",
       "</table>\n",
       "<p>5 rows × 22 columns</p>\n",
       "</div>"
      ],
      "text/plain": [
       "   total_images  last_price  total_area first_day_exposition  rooms  \\\n",
       "0            20  13000000.0       108.0  2019-03-07T00:00:00      3   \n",
       "1             7   3350000.0        40.4  2018-12-04T00:00:00      1   \n",
       "2            10   5196000.0        56.0  2015-08-20T00:00:00      2   \n",
       "3             0  64900000.0       159.0  2015-07-24T00:00:00      3   \n",
       "4             2  10000000.0       100.0  2018-06-19T00:00:00      2   \n",
       "\n",
       "   ceiling_height  floors_total  living_area  floor is_apartment  ...  \\\n",
       "0            2.70          16.0         51.0      8          NaN  ...   \n",
       "1             NaN          11.0         18.6      1          NaN  ...   \n",
       "2             NaN           5.0         34.3      4          NaN  ...   \n",
       "3             NaN          14.0          NaN      9          NaN  ...   \n",
       "4            3.03          14.0         32.0     13          NaN  ...   \n",
       "\n",
       "   kitchen_area  balcony    locality_name  airports_nearest  \\\n",
       "0          25.0      NaN  Санкт-Петербург           18863.0   \n",
       "1          11.0      2.0   посёлок Шушары           12817.0   \n",
       "2           8.3      0.0  Санкт-Петербург           21741.0   \n",
       "3           NaN      0.0  Санкт-Петербург           28098.0   \n",
       "4          41.0      NaN  Санкт-Петербург           31856.0   \n",
       "\n",
       "  cityCenters_nearest  parks_around3000  parks_nearest  ponds_around3000  \\\n",
       "0             16028.0               1.0          482.0               2.0   \n",
       "1             18603.0               0.0            NaN               0.0   \n",
       "2             13933.0               1.0           90.0               2.0   \n",
       "3              6800.0               2.0           84.0               3.0   \n",
       "4              8098.0               2.0          112.0               1.0   \n",
       "\n",
       "   ponds_nearest  days_exposition  \n",
       "0          755.0              NaN  \n",
       "1            NaN             81.0  \n",
       "2          574.0            558.0  \n",
       "3          234.0            424.0  \n",
       "4           48.0            121.0  \n",
       "\n",
       "[5 rows x 22 columns]"
      ]
     },
     "execution_count": 2,
     "metadata": {},
     "output_type": "execute_result"
    }
   ],
   "source": [
    "data = pd.read_csv('apartaments.csv', sep='\\t')\n",
    "data.head()"
   ]
  },
  {
   "cell_type": "markdown",
   "id": "80c14187",
   "metadata": {},
   "source": [
    "Информация о признаках данных"
   ]
  },
  {
   "cell_type": "code",
   "execution_count": 3,
   "id": "19717ad2",
   "metadata": {},
   "outputs": [
    {
     "name": "stdout",
     "output_type": "stream",
     "text": [
      "<class 'pandas.core.frame.DataFrame'>\n",
      "RangeIndex: 23699 entries, 0 to 23698\n",
      "Data columns (total 22 columns):\n",
      " #   Column                Non-Null Count  Dtype  \n",
      "---  ------                --------------  -----  \n",
      " 0   total_images          23699 non-null  int64  \n",
      " 1   last_price            23699 non-null  float64\n",
      " 2   total_area            23699 non-null  float64\n",
      " 3   first_day_exposition  23699 non-null  object \n",
      " 4   rooms                 23699 non-null  int64  \n",
      " 5   ceiling_height        14504 non-null  float64\n",
      " 6   floors_total          23613 non-null  float64\n",
      " 7   living_area           21796 non-null  float64\n",
      " 8   floor                 23699 non-null  int64  \n",
      " 9   is_apartment          2775 non-null   object \n",
      " 10  studio                23699 non-null  bool   \n",
      " 11  open_plan             23699 non-null  bool   \n",
      " 12  kitchen_area          21421 non-null  float64\n",
      " 13  balcony               12180 non-null  float64\n",
      " 14  locality_name         23650 non-null  object \n",
      " 15  airports_nearest      18157 non-null  float64\n",
      " 16  cityCenters_nearest   18180 non-null  float64\n",
      " 17  parks_around3000      18181 non-null  float64\n",
      " 18  parks_nearest         8079 non-null   float64\n",
      " 19  ponds_around3000      18181 non-null  float64\n",
      " 20  ponds_nearest         9110 non-null   float64\n",
      " 21  days_exposition       20518 non-null  float64\n",
      "dtypes: bool(2), float64(14), int64(3), object(3)\n",
      "memory usage: 3.7+ MB\n"
     ]
    }
   ],
   "source": [
    "data.info()"
   ]
  },
  {
   "cell_type": "markdown",
   "id": "a7fa1536",
   "metadata": {},
   "source": [
    "## 2. Предобработка данных"
   ]
  },
  {
   "cell_type": "markdown",
   "id": "6a745baf",
   "metadata": {},
   "source": [
    "Посмортим на пропуски в данных"
   ]
  },
  {
   "cell_type": "code",
   "execution_count": null,
   "id": "dbfda0c4",
   "metadata": {},
   "outputs": [],
   "source": [
    "pd.DataFrame(data.isna().mean()*100,).style.background_gradient('coolwarm')"
   ]
  },
  {
   "cell_type": "markdown",
   "id": "02ab30a4",
   "metadata": {},
   "source": [
    "Если пропуски в значениях нельзя заполнить логически, будем оставлять их, т.к. они могут служить дополнительной информацией. Разберем каждый признак, в котором присутствуют пропуски:\n",
    "1. Высоту потолков некоторые владельцы могли и не указывать, поэтому оставим эти значения пустыми (признак ceiling_height).\n",
    "2. Аналогично с ceiling_height поступим и с признаками floors_total (всего этажей в доме), living_area (жилая площадь), kitchen_area (площадь кухни), locality_name (навзвание населенного пункта). \n",
    "3. Пропуски в булевом столбце is_apartment заменим значением False, т.к. скорее всего пропуски вызваны тем, что квартира не является апартаментами. \n",
    "4. Пропуски в столбце balcony были скорее всего вызваны, что в квартире продавца балконов просто нет. Заменим данные пропуски нулем. \n",
    "5. Пропуски в столбцах parks_around3000 и ponds_around3000 могут быть вызваны отсутствием поблизости водоемов и парков. Заполним эти пропуски нулями"
   ]
  },
  {
   "cell_type": "markdown",
   "id": "ade8c952",
   "metadata": {},
   "source": [
    "Заполнение пропусков"
   ]
  },
  {
   "cell_type": "code",
   "execution_count": null,
   "id": "715e2c08",
   "metadata": {},
   "outputs": [],
   "source": [
    "data['is_apartment'] = data['is_apartment'].fillna(value=False)\n",
    "data['balcony'] = data['balcony'].fillna(value=0)\n",
    "data['parks_around3000'] = data['parks_around3000'].fillna(value=0)\n",
    "data['ponds_around3000'] = data['ponds_around3000'].fillna(value=0)"
   ]
  },
  {
   "cell_type": "markdown",
   "id": "d88b080a",
   "metadata": {},
   "source": [
    "Займемся пропусками в столбце cityCenters_nearest. Эти данные очень важны, т.к. расстояние от центра города, скорее всего, будет сказываться на цене квартиры. В теории, чтобы заполнить пропуски, можно взять названия населенных пунктов из строк, где пропущено расстояние до центра города, и посмотреть расстояние до города в других записях с этим же населенным пунктом и воспользоваться им. Для этого проверим, есть ли такие значения расстояний. Избавимся от неявных дубликатов населенных пунктов."
   ]
  },
  {
   "cell_type": "code",
   "execution_count": null,
   "id": "de7d8d87",
   "metadata": {},
   "outputs": [],
   "source": [
    "data['locality_name'] = data['locality_name'].replace('ё', 'е', regex=True)"
   ]
  },
  {
   "cell_type": "code",
   "execution_count": null,
   "id": "a9b0498b",
   "metadata": {},
   "outputs": [],
   "source": [
    "data['locality_name'] = data['locality_name'].replace(\n",
    "    'городской поселок Большая Ижора', 'поселок городского типа Большая Ижора')\n",
    "data['locality_name'] = data['locality_name'].replace(\n",
    "    'городской поселок Лесогорский', 'поселок городского типа Лесогорский')\n",
    "data['locality_name'] = data['locality_name'].replace(\n",
    "    'городской поселок Мга', 'поселок городского типа Мга')\n",
    "data['locality_name'] = data['locality_name'].replace(\n",
    "    'городской поселок Назия', 'поселок городского типа Назия')\n",
    "data['locality_name'] = data['locality_name'].replace(\n",
    "    'городской поселок Павлово', 'поселок городского типа Павлово')\n",
    "data['locality_name'] = data['locality_name'].replace(\n",
    "    'городской поселок Рощино', 'поселок городского типа Рощино')\n",
    "data['locality_name'] = data['locality_name'].replace(\n",
    "    'городской поселок Советский', 'поселок городского типа Советский')"
   ]
  },
  {
   "cell_type": "markdown",
   "id": "c7df0025",
   "metadata": {},
   "source": [
    "Теперь проверим, сможем ли мы поспользоваться расстоянием от какого-нибудь населенного пункта до центра города для заполнения пропуска в данных о квартире из этого же населенного пункта."
   ]
  },
  {
   "cell_type": "code",
   "execution_count": null,
   "id": "eb8a5940",
   "metadata": {},
   "outputs": [],
   "source": [
    "unique_nan = data[data['cityCenters_nearest'].isna()]['locality_name'].unique()  # создаем DataFrame с уникальными названиями населенных пунктов, в расстояниях до центра города которых были допущены пропуски\n",
    "i=0\n",
    "for item in unique_nan:\n",
    "    count_of_item = len(data[data['locality_name'] == item])   # общее число записей о квартирах из данного населенного пункта\n",
    "    count_nan_of_item = data[data['locality_name'] == item]['cityCenters_nearest'].isna().count()  #число записей о квартирах из данного населенного пункта, в столбце с расстоянием до центра города которого есть пропуск\n",
    "    if count_of_item != count_nan_of_item: # считаем число несовпавших значений\n",
    "        i+=1\n",
    "print(i)"
   ]
  },
  {
   "cell_type": "markdown",
   "id": "ca3d3ca1",
   "metadata": {},
   "source": [
    "Из этого нуля понимаем, что у нас не получится заполнить пропуски в расстоянии до центра города. Оставим данные пропуски. Так же пока поступим со столбцами parks_nearest (расстояние для ближайшего парка), ponds_nearest (расстояние до ближайшего водоема). Данные пропуски могут быть вызваны разными причинами, например, отсутствием парков и водоемов по близости, неизвестным точным расстоянием до них или просто напросто продавец не счел нужным указывать эти данные. Пропуски в столбце days_exposition могут быть вызваны тем, что объявление до сих пор не снято. Оставим эти данные в исходном состоянии.<br>\n",
    "\n",
    "Теперь разберемся с типами данных. Установим в столбце first_day_exposition тип данных с датой и временем. Число балконов и число этажей в доме может быть только целым числом. Изменим тип данных в столбцах floors_total и balcony на int. Так же поступим со столбцами parks_around3000, ponds_around3000. Для этого нам необходимо удалить пустые строки из столбца floors_total (их мало, значит удаление не повлияет на исследование)."
   ]
  },
  {
   "cell_type": "code",
   "execution_count": null,
   "id": "5090fbd1",
   "metadata": {},
   "outputs": [],
   "source": [
    "data['first_day_exposition'] = pd.to_datetime(data['first_day_exposition'], format='%Y-%m-%dT%H:%M:%S')"
   ]
  },
  {
   "cell_type": "code",
   "execution_count": null,
   "id": "4b9f74cd",
   "metadata": {},
   "outputs": [],
   "source": [
    "data = data.dropna(subset=['floors_total']).reset_index(drop=True)\n",
    "data['floors_total'] = data['floors_total'].astype('int')\n",
    "data['balcony'] = data['balcony'].astype('int')\n",
    "data['parks_around3000'] = data['parks_around3000'].astype('int')\n",
    "data['ponds_around3000'] = data['ponds_around3000'].astype('int')\n",
    "data['last_price'] = data['last_price'].astype('int')"
   ]
  },
  {
   "cell_type": "markdown",
   "id": "ddb7b638",
   "metadata": {},
   "source": [
    "Займемся аномальными значениями в столбце ceiling_height. Посмотрим на статистическую сводку параметра ceiling_height"
   ]
  },
  {
   "cell_type": "code",
   "execution_count": null,
   "id": "b315fd29",
   "metadata": {},
   "outputs": [],
   "source": [
    "print(data['ceiling_height'].describe())"
   ]
  },
  {
   "cell_type": "markdown",
   "id": "3b9e5212",
   "metadata": {},
   "source": [
    "Видим очевидные аномалии в том, что значение высоты потолков достигает 100 метров. Высота потолков в этом наборе данных - это вещественные числа. Возможно, произошла ошибка при сборе некоторых данных. Высоту потолков, которая больше 20 м разделим на 10 и тем самым уберем очевидные аномалии в этом признаке"
   ]
  },
  {
   "cell_type": "code",
   "execution_count": null,
   "id": "dc061d32",
   "metadata": {},
   "outputs": [],
   "source": [
    "data['ceiling_height'] = data['ceiling_height'].where(data['ceiling_height'] < 20.0, data['ceiling_height']/10).reset_index(drop=True)"
   ]
  },
  {
   "cell_type": "markdown",
   "id": "e29b7df1",
   "metadata": {},
   "source": [
    "Проверим данные на дублирующие объекты"
   ]
  },
  {
   "cell_type": "code",
   "execution_count": null,
   "id": "49e0dcba",
   "metadata": {},
   "outputs": [],
   "source": [
    "print('Количество дубликатов:', data.duplicated().sum())"
   ]
  },
  {
   "cell_type": "markdown",
   "id": "e015177a",
   "metadata": {},
   "source": [
    "**Итог:**\n",
    "На первых двух этапах исследования провели следующие работы:\n",
    "1. загрузили данные и посмотрели на общую структуру данных;\n",
    "2. обработали пропуски и аномалии в признаках объектов."
   ]
  },
  {
   "cell_type": "markdown",
   "id": "eaa40486",
   "metadata": {},
   "source": [
    "## 3. Добавление новых признаков в исходный набор данных"
   ]
  },
  {
   "cell_type": "markdown",
   "id": "db6435cd",
   "metadata": {},
   "source": [
    "Посчитаем цену одного квадратного метра каждой квартиры по формуле \"цена квартиры\"/\"площадь квартиры\" и добавим в столбец price_per_square_meter"
   ]
  },
  {
   "cell_type": "code",
   "execution_count": null,
   "id": "4c909b00",
   "metadata": {},
   "outputs": [],
   "source": [
    "data['price_per_square_meter'] = data['last_price'] / data['total_area']\n",
    "data.head()"
   ]
  },
  {
   "cell_type": "markdown",
   "id": "b79a7a87",
   "metadata": {},
   "source": [
    "В столбец week_day занесем день недели публикации объявления (0-понедельник, 1-вторник и т.д.). В столбец month занесем месяц публикации объявления. В столбец year занесем год публикации объявления. В столбец floor_type занесем тип этажа квартиры (первый, последний или другой). В столбец city_nearest_km занесем расстояние до центра города в километрах, округленное до целых значений."
   ]
  },
  {
   "cell_type": "code",
   "execution_count": null,
   "id": "53244050",
   "metadata": {},
   "outputs": [],
   "source": [
    "data['week_day'] = pd.DatetimeIndex(data['first_day_exposition']).weekday        #день недели публикации объявления\n",
    "data['month'] = pd.DatetimeIndex(data['first_day_exposition']).month             #месяц публикации объявления\n",
    "data['year'] = pd.DatetimeIndex(data['first_day_exposition']).year               #год публикации объявления\n",
    "data.loc[data['floors_total'] == data['floor'], 'floor_type'] = 'последний'      #тип этажа квартиры\n",
    "data.loc[data['floor'] == 1, 'floor_type'] = 'первый'\n",
    "data['floor_type'] = data['floor_type'].fillna(value='другой')\n",
    "data['city_nearest_km'] = np.round(data['cityCenters_nearest']/1000, decimals=0) #расстояние до центра города\n",
    "data.head()"
   ]
  },
  {
   "cell_type": "markdown",
   "id": "6ac97593",
   "metadata": {},
   "source": [
    "**Итог:**\n",
    "На третьем этапе исследования исходные данные были дополнены следующими признаками:\n",
    "- день недели публикации объявления (week_day);\n",
    "- месяц публикации объявления (month);\n",
    "- год публикации объявления (year);\n",
    "- тип этажа квартиры (floors_total);\n",
    "- расстояние до центра города (city_nearest_km)."
   ]
  },
  {
   "cell_type": "markdown",
   "id": "48467a10",
   "metadata": {},
   "source": [
    "## 4. Исследовательский анализ данных"
   ]
  },
  {
   "cell_type": "markdown",
   "id": "01c691dc",
   "metadata": {},
   "source": [
    "Построим гистограммы для различных параметров. Начнем с общей площади квартиры"
   ]
  },
  {
   "cell_type": "code",
   "execution_count": null,
   "id": "f8b47926",
   "metadata": {
    "scrolled": true
   },
   "outputs": [],
   "source": [
    "plt.figure(figsize=(8,5))\n",
    "data['total_area'].hist(bins=30, range=(0,200))\n",
    "plt.title('Распределение площадей квартир')\n",
    "plt.xlabel('Площадь квартиры, кв.м.')\n",
    "plt.ylabel('Количество квартир, шт.')\n",
    "plt.show()"
   ]
  },
  {
   "cell_type": "markdown",
   "id": "1749f101",
   "metadata": {},
   "source": [
    "Как видно из гистограммы, чаще выставляли на продажу квартиры с площадью от 25 до 50 квадратных метров. Наблюдается резкое снижение количества квартир от 70 квадратных метров. Квартир с площадью, начиная с 200-250 квадратных метров, редко выставляли на продажу."
   ]
  },
  {
   "cell_type": "markdown",
   "id": "cea6030f",
   "metadata": {},
   "source": [
    "Построим гистограмму для жилой площади продаваемых квартир."
   ]
  },
  {
   "cell_type": "code",
   "execution_count": null,
   "id": "3d9cec21",
   "metadata": {},
   "outputs": [],
   "source": [
    "plt.figure(figsize=(8,5))\n",
    "data['living_area'].hist(bins=25, range=(0,100))\n",
    "plt.title('Распределение жилой площади квартир')\n",
    "plt.xlabel('Жилая площадь квартиры, кв.м.')\n",
    "plt.ylabel('Количество квартир, шт.')\n",
    "plt.show()"
   ]
  },
  {
   "cell_type": "markdown",
   "id": "b85da973",
   "metadata": {},
   "source": [
    "Большинство продаваемых квартир имели жилую площадь в диапазоне от 10 до 50 квадратных метров. Заметны пики выставления квартир на продажу с жилой площадью от 16 до 20 кв.м. и от 28 до 32 кв.м. Квартиры с жилой площадью больше 50 кв.м. выставляют на продажу значительно реже."
   ]
  },
  {
   "cell_type": "markdown",
   "id": "7f5a5f00",
   "metadata": {},
   "source": [
    "Построим гистограмму для площади кухни продаваемых квартир."
   ]
  },
  {
   "cell_type": "code",
   "execution_count": null,
   "id": "f327d14f",
   "metadata": {},
   "outputs": [],
   "source": [
    "plt.figure(figsize=(8,5))\n",
    "data['kitchen_area'].hist(bins=30, range=(0,60))\n",
    "plt.title('Распределение площади кухни квартир')\n",
    "plt.xlabel('Площадь кухни, кв.м.')\n",
    "plt.ylabel('Количество квартир, шт.')\n",
    "plt.show()"
   ]
  },
  {
   "cell_type": "markdown",
   "id": "805ace9c",
   "metadata": {},
   "source": [
    "Чаще всего кухни продаваемых квартир имели площадь от 4 до 16 квадратных метров. Намного реже в продаже появлялись квартиры от 16 до 30 кв.м. Квартиры с кухнями, площадь которых выше 30 кв.м. большая редкость."
   ]
  },
  {
   "cell_type": "markdown",
   "id": "95df5f96",
   "metadata": {},
   "source": [
    "Построим гистограмму для цены продаваемых квартир."
   ]
  },
  {
   "cell_type": "code",
   "execution_count": null,
   "id": "b9c84070",
   "metadata": {},
   "outputs": [],
   "source": [
    "plt.figure(figsize=(8,5))\n",
    "data['last_price'].hist(bins=30, range=(1.1e+04, 4.5e+07))\n",
    "plt.title('Распределение цены квартир')\n",
    "plt.xlabel('Цена квартиры, руб.')\n",
    "plt.ylabel('Количество квартир, шт.')\n",
    "plt.show()"
   ]
  },
  {
   "cell_type": "markdown",
   "id": "46e6dce6",
   "metadata": {},
   "source": [
    "Более подробно рассмотрим квартиры, цены которых ниже 10 млн рублей"
   ]
  },
  {
   "cell_type": "code",
   "execution_count": null,
   "id": "7e9fd2cb",
   "metadata": {},
   "outputs": [],
   "source": [
    "plt.figure(figsize=(8,5))\n",
    "data['last_price'].hist(bins=100, range=(1.1e+04, 4.5e+07))\n",
    "plt.xlim(0, 1.0e+07)\n",
    "plt.title('Распределение цены квартир')\n",
    "plt.xlabel('Цена квартиры, руб.')\n",
    "plt.ylabel('Количество квартир, шт.')\n",
    "plt.show()"
   ]
  },
  {
   "cell_type": "markdown",
   "id": "2fef2f95",
   "metadata": {},
   "source": [
    "Большинство квартир имеют стоимость до 10 млн рублей. После этой отметки количество квартир резко сокращается. После рассмотрения квартир со стоимостью до 10 млн рублей можно сказать, что самая популярная стоимость на жилье в Санкт-Петербурге находится в диапазоне примерно от 2 млн до 7 млн"
   ]
  },
  {
   "cell_type": "markdown",
   "id": "ad51893c",
   "metadata": {},
   "source": [
    "Построим гистограмму по количеству комнат в продаваемых квартирах."
   ]
  },
  {
   "cell_type": "code",
   "execution_count": null,
   "id": "113c6fd9",
   "metadata": {},
   "outputs": [],
   "source": [
    "plt.figure(figsize=(8,5))\n",
    "data['rooms'].hist(bins=10, range=(0,10))\n",
    "plt.title('Распределение количества комнат в квартире')\n",
    "plt.xlabel('Количество комнат, шт.')\n",
    "plt.ylabel('Количество квартир, шт.')\n",
    "plt.show()"
   ]
  },
  {
   "cell_type": "markdown",
   "id": "353e9323",
   "metadata": {},
   "source": [
    "Однокомнатные и 2-х комнатные квартиры наиболее часто выставляют на продажу, чуть реже 3-х комнатные. 4-х и 5-ти комнатных квартиры продают намного реже, как и студий (число комнат равно 0). Квартиры с 8-ю комантами и больше в продаже почти не встречаются."
   ]
  },
  {
   "cell_type": "markdown",
   "id": "eb95661d",
   "metadata": {},
   "source": [
    "Построим гистограмму по высоте потолков в продаваемых квартирах."
   ]
  },
  {
   "cell_type": "code",
   "execution_count": null,
   "id": "bc725f6f",
   "metadata": {},
   "outputs": [],
   "source": [
    "plt.figure(figsize=(8,5))\n",
    "data['ceiling_height'].hist(bins=20, range=(2,7))\n",
    "plt.title('Распределение высоты потолка в квартире')\n",
    "plt.xlabel('Высота потолка, м.')\n",
    "plt.ylabel('Количество квартир, шт.')\n",
    "plt.show()"
   ]
  },
  {
   "cell_type": "markdown",
   "id": "d09fe6c9",
   "metadata": {},
   "source": [
    "Более рассмотрим квартиры с потолками от 2 до 4 метров"
   ]
  },
  {
   "cell_type": "code",
   "execution_count": null,
   "id": "87010354",
   "metadata": {},
   "outputs": [],
   "source": [
    "plt.figure(figsize=(8,5))\n",
    "data['ceiling_height'].hist(bins=20, range=(2,7))\n",
    "plt.xlim(2,4)\n",
    "plt.title('Распределение высоты потолка в квартире')\n",
    "plt.xlabel('Высота потолка, м.')\n",
    "plt.ylabel('Количество квартир, шт.')\n",
    "plt.show()"
   ]
  },
  {
   "cell_type": "markdown",
   "id": "8ddc05aa",
   "metadata": {},
   "source": [
    "Большинство продаваемых квартир имеют высоту потолков от 2.5 до 2.75 метров. Число продаваемых квартир с высотой потолков в промежутке от 2.75 до 3.25 намного меньше. Квартир с потолками выше 4 метров почти нет в продаже."
   ]
  },
  {
   "cell_type": "markdown",
   "id": "2e4b7275",
   "metadata": {},
   "source": [
    "Построим гистограмму этажей, на которых находятся продаваемые квартиры, а также гистаграмму типов этажа квартиры (\"первый\", \"последний\", \"другой\")."
   ]
  },
  {
   "cell_type": "code",
   "execution_count": null,
   "id": "325d41ba",
   "metadata": {},
   "outputs": [],
   "source": [
    "plt.figure(figsize=(8,5))\n",
    "data['floor'].hist(bins=30, range=(0,30))\n",
    "plt.title('Распределение этажей, на которых находится квартира')\n",
    "plt.xlabel('Номер этажа')\n",
    "plt.ylabel('Количество квартир, шт.')\n",
    "plt.show()\n",
    "\n",
    "hist_table = data.pivot_table(index='floor_type', values='floor', aggfunc='count')\n",
    "hist_table.plot(kind='pie', y='floor', figsize=(5,5), autopct='%1.0f%%')\n",
    "plt.title('Распределение типа этажа, на котором находится квартира')\n",
    "plt.show()"
   ]
  },
  {
   "cell_type": "markdown",
   "id": "19758869",
   "metadata": {},
   "source": [
    "Чаще всего продаваемые квартиры находятся на 2-ом этаже, чуть реже на 1-ом, 3-ем, 4-ом и 5-ом этажах. Начиная с 6 этажа число продаваемых квартир резко снижается. Квартир на 25 этаже и выше практически нет в продаже. Также можно отметить, что 12 процентов всех продаваемых квартир находится на первом этаже, 14 процентов - на последнем."
   ]
  },
  {
   "cell_type": "markdown",
   "id": "6c9728af",
   "metadata": {},
   "source": [
    "Построим гистограмму количества этажей в домах, где продавались квартиры"
   ]
  },
  {
   "cell_type": "code",
   "execution_count": null,
   "id": "090e9c0f",
   "metadata": {},
   "outputs": [],
   "source": [
    "plt.figure(figsize=(8,5))\n",
    "data['floors_total'].hist(bins=30, range=(0,30))\n",
    "plt.title('Распределение количества этажей в домах, где продавались квартиры')\n",
    "plt.xlabel('Номер этажа')\n",
    "plt.ylabel('Количество квартир, шт.')\n",
    "plt.show()"
   ]
  },
  {
   "cell_type": "markdown",
   "id": "e0e7f07b",
   "metadata": {},
   "source": [
    "Квартиры чаще всего продавались в 5-ти и 9-ти этажных домах. Это может быть из-за большего числа именно таких домов. Меньшей популярностью пользуются дома с 4-мя, 6-тью, 10-тью, 12-тью, 16-тью этажами. Продаваемых квартир в других домах еще меньше."
   ]
  },
  {
   "cell_type": "markdown",
   "id": "c3462c6b",
   "metadata": {},
   "source": [
    "Построим гистограмму числа квартир с определенным расстоянием до центра города(в метрах)."
   ]
  },
  {
   "cell_type": "code",
   "execution_count": null,
   "id": "068e214b",
   "metadata": {},
   "outputs": [],
   "source": [
    "plt.figure(figsize=(8,5))\n",
    "data['cityCenters_nearest'].hist(bins=30, range=(0,60000))\n",
    "plt.title('Распределение расстояний от домов, в которых продаются квартиры, до центра города ')\n",
    "plt.xlabel('Расстояние, м.')\n",
    "plt.ylabel('Количество квартир, шт.')\n",
    "plt.show()"
   ]
  },
  {
   "cell_type": "markdown",
   "id": "dc62eb15",
   "metadata": {},
   "source": [
    "Как видим, большинство квартир продается в пределах 10-15 тыс. метров или в 10-15 километрах от центра города. В пределах 10 километров от центра города квартир продается меньше, но все равно обеспечен приемлемый выбор. В 20-ти километрах от центра города и дальше предложений о продаже квартир значительно меньше."
   ]
  },
  {
   "cell_type": "markdown",
   "id": "53bf0f81",
   "metadata": {},
   "source": [
    "Построим гистограмму числа квартир с определенным расстоянием до ближайшего аэропорта(в метрах)."
   ]
  },
  {
   "cell_type": "code",
   "execution_count": null,
   "id": "b8fd768e",
   "metadata": {
    "scrolled": true
   },
   "outputs": [],
   "source": [
    "plt.figure(figsize=(8,5))\n",
    "data['airports_nearest'].hist(bins=20, range=(0, 80000))\n",
    "plt.title('Распределение расстояний от домов, в которых продаются квартиры, до ближайшего аэропорта')\n",
    "plt.xlabel('Расстояние, м.')\n",
    "plt.ylabel('Количество квартир, шт.')\n",
    "plt.show()"
   ]
  },
  {
   "cell_type": "markdown",
   "id": "9fe61ef9",
   "metadata": {},
   "source": [
    "Квартиры по близости от аэропорта не отличаются популярностью. Чаще всего продаваемые квартиры находятся в 10-30 километрах от аэропорта. Так же продают квартиры в 40-50 километрах, но уже реже."
   ]
  },
  {
   "cell_type": "markdown",
   "id": "c4115743",
   "metadata": {},
   "source": [
    "Посмотрим на то, как часто продают квартиры рядом с парком."
   ]
  },
  {
   "cell_type": "code",
   "execution_count": null,
   "id": "07a6aa4c",
   "metadata": {},
   "outputs": [],
   "source": [
    "plt.figure(figsize=(8,5))\n",
    "data['parks_nearest'].hist()\n",
    "plt.title('Распределение расстояний от домов, в которых продаются квартиры, до ближайшего парка')\n",
    "plt.xlabel('Расстояние, м.')\n",
    "plt.ylabel('Количество квартир, шт.')\n",
    "plt.show()"
   ]
  },
  {
   "cell_type": "markdown",
   "id": "9a99518a",
   "metadata": {},
   "source": [
    "Большинство продаваемых квартир находятся в 500 метрах от парка. Квартиры в километре от парка тоже продаются, а вот дальше идет резкий спад."
   ]
  },
  {
   "cell_type": "markdown",
   "id": "2fdb1f67",
   "metadata": {},
   "source": [
    "Посмотрим, в какие дни недели и месяцы чаще всего размещали объявления."
   ]
  },
  {
   "cell_type": "code",
   "execution_count": null,
   "id": "e8f753e8",
   "metadata": {},
   "outputs": [],
   "source": [
    "plt.figure(figsize=(8,5))\n",
    "data['week_day'].hist(bins=7)\n",
    "plt.title('Распределение количества объявлений по дням недели')\n",
    "plt.xlabel('День недели')\n",
    "plt.ylabel('Количество квартир, шт.')\n",
    "plt.show()\n",
    "\n",
    "plt.figure(figsize=(8,5))\n",
    "data['month'].hist(bins=12)\n",
    "plt.title('Распределение количества объявлений по месяцам')\n",
    "plt.xlabel('Месяц')\n",
    "plt.ylabel('Количество квартир, шт.')\n",
    "plt.show()"
   ]
  },
  {
   "cell_type": "markdown",
   "id": "0abd529e",
   "metadata": {},
   "source": [
    "Как видим, чаще всего объвления выкладывают в будние дни, а в выходные этом плане идет спад. Что касается месяца, то самое популярное время для размещения объявления явлется конец зимы и начало весны. Заметен резкий провал в мае, но затем идет подъем к уровню, близкому к пику."
   ]
  },
  {
   "cell_type": "markdown",
   "id": "91eb3253",
   "metadata": {},
   "source": [
    "Посмотрим, как быстро продавались квартиры. Построим соответствующую гистограмму."
   ]
  },
  {
   "cell_type": "code",
   "execution_count": null,
   "id": "10b0e994",
   "metadata": {},
   "outputs": [],
   "source": [
    "plt.figure(figsize=(8,5))\n",
    "data['days_exposition'].hist(bins=15)\n",
    "plt.title('Распределение длительности нахождения объявления на платформе (от момента размещения до его снятия)')\n",
    "plt.xlabel('Количество дней')\n",
    "plt.ylabel('Количество квартир, шт.')\n",
    "plt.show()"
   ]
  },
  {
   "cell_type": "markdown",
   "id": "bca4b2b5",
   "metadata": {},
   "source": [
    "Посмотрим на то же распределение под другим углом"
   ]
  },
  {
   "cell_type": "code",
   "execution_count": null,
   "id": "9e7c9950",
   "metadata": {},
   "outputs": [],
   "source": [
    "plt.figure(figsize=(8,5))\n",
    "data.boxplot(column='days_exposition')\n",
    "plt.ylim(0,600)\n",
    "plt.show()"
   ]
  },
  {
   "cell_type": "markdown",
   "id": "4e603ef6",
   "metadata": {},
   "source": [
    "Можно увидеть, что большинство квартир продавались в первые 100 дней. Определим какие продажи можно считать необычно долгими, а какие достаточно быстрыми. Все те квартиры, которые продавались дольше 500 дней (около 1.4 года) можно считать необычно долгими. Есть и достаточно быстрые продажи - где квартиры продавались в первые 50 дней после размещения объявления."
   ]
  },
  {
   "cell_type": "markdown",
   "id": "34c95bd0",
   "metadata": {},
   "source": [
    "Посмотрим, как различные факторы влияют на стоимость объекта. Начнем с общей площади объекта."
   ]
  },
  {
   "cell_type": "code",
   "execution_count": null,
   "id": "48c9f498",
   "metadata": {},
   "outputs": [],
   "source": [
    "data.plot(x='total_area', y='last_price', grid=True, figsize=(15,5), kind='scatter', alpha=0.03)\n",
    "plt.xlim(0,200)\n",
    "plt.ylim(0,1e+8)\n",
    "plt.title('Зависимость стоимости квартиры от ее площади')\n",
    "plt.xlabel('Площадь квартиры, кв.м.')\n",
    "plt.ylabel('Стоимость квартиры, руб.')\n",
    "plt.show()\n",
    "print('Коэффициент корреляции Пирсосна:', data['total_area'].corr(data['last_price']))"
   ]
  },
  {
   "cell_type": "markdown",
   "id": "450fd4e8",
   "metadata": {},
   "source": [
    "Заметен линейный рост цен с увеличением площади квартиры до 85 квадратных метров. Затем начинается значительные колебания в цене и очевидную зависимость цены квартиры от площади сложно отследить. Коэффициент корреляции Пирсона подтверждает, что линейная зависимость существует, но явно выражена не на всем наборе данных"
   ]
  },
  {
   "cell_type": "markdown",
   "id": "b202ec69",
   "metadata": {},
   "source": [
    "Посмотрим зависимость цены квартиры от жилой площади"
   ]
  },
  {
   "cell_type": "code",
   "execution_count": null,
   "id": "afbea8bb",
   "metadata": {},
   "outputs": [],
   "source": [
    "data.plot(x='living_area', y='last_price', grid=True, figsize=(15,5), kind='scatter', alpha=0.03)\n",
    "plt.xlim(0,100)\n",
    "plt.ylim(0,0.6e+8)\n",
    "plt.title('Зависимость стоимости квартиры от ее жилой площади')\n",
    "plt.xlabel('Жилая площадь квартиры, кв.м.')\n",
    "plt.ylabel('Стоимость квартиры, руб.')\n",
    "plt.show()\n",
    "print('Коэффициент корреляции Пирсосна:', data['living_area'].corr(data['last_price']))"
   ]
  },
  {
   "cell_type": "markdown",
   "id": "565829e6",
   "metadata": {},
   "source": [
    "Менее очивидная линейная зависимость между ценой квартиры и жилой площадью с ее ростом до 40-50 квадратных метров. Далее линейную зависимоть проследить сложно, т.к. появляются более частые скачки в цене. Здесь коэффициент корреляции Пирсона также подтверждает, что линейная зависимость существует, но явно выражена не на всем наборе данных"
   ]
  },
  {
   "cell_type": "markdown",
   "id": "67a54d72",
   "metadata": {},
   "source": [
    "Посмотрим зависимость цены квартиры от площади кухни"
   ]
  },
  {
   "cell_type": "code",
   "execution_count": null,
   "id": "5494fa65",
   "metadata": {},
   "outputs": [],
   "source": [
    "data.plot(x='kitchen_area', y='last_price', grid=True, figsize=(15,5), kind='scatter', alpha=0.03)\n",
    "plt.xlim(0,40)\n",
    "plt.ylim(0,0.6e+8)\n",
    "plt.title('Зависимость стоимости квартиры от площади ее кухни')\n",
    "plt.xlabel('Площадь кухни, кв.м.')\n",
    "plt.ylabel('Стоимость квартиры, руб.')\n",
    "plt.show()\n",
    "print('Коэффициент корреляции Пирсосна:', data['living_area'].corr(data['last_price']))"
   ]
  },
  {
   "cell_type": "markdown",
   "id": "b12b27f0",
   "metadata": {},
   "source": [
    "Прослеживается линейная зависимость цены квартиры от площади ее кухни при росте второго параметра до 13 квадратных метров, затем эта зависимость ослабевает. Более частыми становятся скачки цен. Коэффициент корреляции Пирсона подтверждает, что линейная зависимость существует, но явно выражена не на всем наборе данных."
   ]
  },
  {
   "cell_type": "markdown",
   "id": "b4376ea7",
   "metadata": {},
   "source": [
    "Посмотрим зависимость цены квартиры от числа комнат в квартире"
   ]
  },
  {
   "cell_type": "code",
   "execution_count": null,
   "id": "927d4753",
   "metadata": {},
   "outputs": [],
   "source": [
    "data.plot(x='rooms', y='last_price', kind='scatter', alpha=0.1, figsize=(15,5), ylim=(0, 2e+8))\n",
    "plt.title('Зависимость стоимости квартиры от количества комнат')\n",
    "plt.xlabel('Количество комнат')\n",
    "plt.ylabel('Стоимость квартиры, руб.')\n",
    "plt.locator_params(axis='both', nbins=15)\n",
    "plt.show()"
   ]
  },
  {
   "cell_type": "markdown",
   "id": "fe490d90",
   "metadata": {},
   "source": [
    "Рост цены наблюдается с ростом числа комнат только до 3, затем цена квартир ведет себя неравномерно. Это можно объяснить тем, что с ростом числа комнат до 3 растет и общая площадь квартиры (на данный момент основной фактор влияния на цену). Далее рост площади не так явно выражен, да и число продаваемых квартир с увеличением числа комнат уменьшается."
   ]
  },
  {
   "cell_type": "markdown",
   "id": "1a91677e",
   "metadata": {},
   "source": [
    "Рассмотрим влияние этажа, на котором находится квартира на ее цену."
   ]
  },
  {
   "cell_type": "code",
   "execution_count": null,
   "id": "0b22940b",
   "metadata": {},
   "outputs": [],
   "source": [
    "data.plot(x='floor_type', y='last_price', kind='scatter', alpha=0.1, figsize=(5,5),ylim=(0, 2e+8), grid=True)\n",
    "plt.title('Зависимость стоимости квартиры от категории этажа, на котором эта квартира находится', pad=20)\n",
    "plt.xlabel('Категория этажа')\n",
    "plt.ylabel('Стоимость квартиры, руб.')\n",
    "plt.show()"
   ]
  },
  {
   "cell_type": "markdown",
   "id": "912dd584",
   "metadata": {},
   "source": [
    "Квартиры на первом этаже чаще всего продают по самой маленькой цене по сравнению с квартирами на последнем этаже и на других эатажах. Далее идут квартиры на послденем этаже (они стоят чуть дороже тех, которые на первом этаже). Ну и квартиры ни на первом, ни на последнем этажах прибавляют в средней стоимости."
   ]
  },
  {
   "cell_type": "markdown",
   "id": "4e4e82df",
   "metadata": {},
   "source": [
    "Рассмотрим влияние дня недели, месяца и года публикации объявления на цену квартиры."
   ]
  },
  {
   "cell_type": "code",
   "execution_count": null,
   "id": "62a78eb5",
   "metadata": {},
   "outputs": [],
   "source": [
    "data.plot(x='week_day', y='last_price', kind='scatter', alpha=0.1, figsize=(5,5),ylim=(0, 2e+8))\n",
    "plt.title('Зависимость стоимости квартиры от дня недели публикации объявления', pad=20)\n",
    "plt.xlabel('День недели')\n",
    "plt.ylabel('Стоимость квартиры, руб.')\n",
    "plt.show()\n",
    "\n",
    "data.plot(x='month', y='last_price', kind='scatter', alpha=0.1, figsize=(5,5),ylim=(0, 2e+8))\n",
    "plt.title('Зависимость стоимости квартиры от месяца публикации объявления', pad=20)\n",
    "plt.xlabel('Месяц')\n",
    "plt.ylabel('Стоимость квартиры, руб.')\n",
    "plt.show()"
   ]
  },
  {
   "cell_type": "markdown",
   "id": "3c0d4fab",
   "metadata": {},
   "source": [
    "Не наблюдается зависимость цены квартиры от дня недели и месяца размещения объявлений. Есть некоторые спады и подъемы в цене, но они напоминают спады и подъемы в количестве объявлений, распределенных так же по дням недели и месяцам. Даные факторы не могут быть ключевыми при определении цены на квартиру"
   ]
  },
  {
   "cell_type": "code",
   "execution_count": null,
   "id": "6d72c9ef",
   "metadata": {},
   "outputs": [],
   "source": [
    "data.plot(x='year', y='last_price', kind='scatter', alpha=0.1, figsize=(5,5),ylim=(0, 0.5e+8))\n",
    "plt.title('Зависимость стоимости квартиры от года публикации объявления', pad=20)\n",
    "plt.xlabel('Год')\n",
    "plt.ylabel('Стоимость квартиры, руб.')\n",
    "plt.show()\n",
    "\n",
    "data.pivot_table(index='year', values='total_images', aggfunc='count').plot(grid=True)\n",
    "plt.title('Зависимость количества объявлений от года', pad=20)\n",
    "plt.xlabel('Год')\n",
    "plt.ylabel('Количество объявлений, шт.')\n",
    "plt.show()\n",
    "\n",
    "data.plot(x='year', y='total_area', kind='scatter', alpha=0.1, figsize=(5,5),ylim=(0, 400))\n",
    "plt.title('Зависимость площади квартиры от года выставления ее на продажу', pad=20)\n",
    "plt.xlabel('Год')\n",
    "plt.ylabel('Площадь, кв.м.')\n",
    "plt.show()"
   ]
  },
  {
   "cell_type": "markdown",
   "id": "4e2deb02",
   "metadata": {},
   "source": [
    "Наблюдается рост цен на квартиры с 2014 до 2017 года. В 2019 году наблюдается небольшой спад. Это можно объяснить количеством продаваемых квартир, т.к. имено это значение также растет до 2017 года, а в 2019 году наблюдается спад, или площадью квартир, выставляемых на продажу."
   ]
  },
  {
   "cell_type": "markdown",
   "id": "ef6c60bf",
   "metadata": {},
   "source": [
    "Посчитаем среднюю цену одного квадратного метра в 10 населенных пунктах с наибольшим числом объявлений. Выделим 10 населенных пунктов с самым большим количеством объявлений."
   ]
  },
  {
   "cell_type": "code",
   "execution_count": null,
   "id": "46fbbbea",
   "metadata": {},
   "outputs": [],
   "source": [
    "popular_locality = data.pivot_table(index='locality_name', values='price_per_square_meter', aggfunc=['count', 'median'])\n",
    "popular_locality.columns = ['count', 'median']\n",
    "print(popular_locality.sort_values(by='count', ascending=False).head(10))"
   ]
  },
  {
   "cell_type": "markdown",
   "id": "797dd291",
   "metadata": {},
   "source": [
    "Самое большое количество объявлений размещено с квартирами именно в самом городе Санкт-Петербург. Среди топ 10 по частоте выставления квартир на продажу наибольшую стоимость за квадратный метр имеет город Санкт-Петербург, а наименьшую - Выборг"
   ]
  },
  {
   "cell_type": "markdown",
   "id": "f8c20faa",
   "metadata": {},
   "source": [
    "Выделим квартиры в Санкт-Петербурге и вычислим среднюю цену каждого километра от центра города"
   ]
  },
  {
   "cell_type": "code",
   "execution_count": null,
   "id": "3a78a279",
   "metadata": {},
   "outputs": [],
   "source": [
    "flat_city = data.query('locality_name == \"Санкт-Петербург\"').pivot_table(index='city_nearest_km', \n",
    "                                                                        values='last_price',\n",
    "                                                                        aggfunc='median')\n",
    "flat_city.plot(grid = True, figsize=(15,7))\n",
    "plt.title('Зависимость стоимости квартиры от удаленности ее от центра города', pad=20)\n",
    "plt.xlabel('Расстояние от центра города, км.')\n",
    "plt.ylabel('Цена квартиры, руб')\n",
    "plt.show()"
   ]
  },
  {
   "cell_type": "markdown",
   "id": "cca3e5ee",
   "metadata": {},
   "source": [
    "Видим, что чем дальше от центра города, тем меньше цена на жилье. Но в районе 27-ми километров от центра города существует резкий скачок вверх в цене. Это может быть из-за того, что в данном районе присутствует квартира с характеристиками, резко отличающимися по данному району."
   ]
  },
  {
   "cell_type": "markdown",
   "id": "41f9c9d3",
   "metadata": {},
   "source": [
    "**Итог:**\n",
    "На четвертом этапе исследования были проделаны следующие работы:\n",
    "1. Рассмотрены распределения различных признаков продаваемых квартир (площади, цены, количества комнат и т.д.).\n",
    "2. Определено влияние на стоимость продаваемой квартиры ее площади, количства комнат, типа этажа, даты выставления на продажу и удаленности от центра города. "
   ]
  },
  {
   "cell_type": "markdown",
   "id": "682ed96a",
   "metadata": {},
   "source": [
    "## 5. Общий вывод"
   ]
  },
  {
   "cell_type": "markdown",
   "id": "97aac87b",
   "metadata": {},
   "source": [
    "По данным архива объявлений о продаже квартир в Санкт-Петербурге и соседних населённых пунктов за несколько лет было произведено исследование, по которому можно сделать следующие выводы:\n",
    "1. Самыми популярными квартирами, выставленными на продажу в Санкт-Петербурге, являются с площадью до 70 квадратных метров. Затем, при увеличении квадратуры, число объявлений снижается.\n",
    "2. В независимсоти от статуса культурной сталицы России, здесь присутствует огромный выбор квартир со стоимостью до 10млн рублей.\n",
    "3. Не смотря на то, что большинство квартир в Санкт-Петербурге с высотой потолков от 2.5 до 2.75 метров, пользуются также популярностью квартиры с потолками высотой до 3.25 метров.\n",
    "4. Около 85% всех продаваемых квартир находятся в пределах 20 км от центра города.\n",
    "5. Первым критерием при формировании цены на жилье является его площадь. Так, на жилье до 75 квадратных метров установлена средняя цена до 1 млн рублей. От 75 до 125 квадратных метров средняя цена поднимается до 2-х млн рублей, но также присутствуют скачки цен до 6 млн. После 125 кв.м. цена становится менее предсказуемой (тут цена скачет от 2 до 40 млн). Также можно отметить, что заметен линейный рост цен с увеличением площади квартиры до 85 квадратных метров. Затем начинается значительные колебания в цене и очевидную зависимость цены квартиры от площади сложно проследить.\n",
    "6. Вторым критерием при формировании цены на жилье является то, на каком этаже располагается продаваемый объект. Так, квартиры на первом этаже прекращают активно продаваться после 2.5 млн рублей. На последнем этаже активные продажи прекращаются на отметке в 3-4 млн рублей. Ну и на остальных этажах квартиры часто продаются до 7.5 млн рублей.\n",
    "7. Последним критерием формировании цены на жилье является удаленность его от центра города. При отдалении от центра города средняя цена уменьшается с 13.5 до 9.5 млн рублей. Если же удалиться еще на 5 километров цена уменьшается еще на 4 млн. Ну и наконец при удалении на 25 километров цена снижается до 4 млн рублей.\n"
   ]
  }
 ],
 "metadata": {
  "ExecuteTimeLog": [
   {
    "duration": 9,
    "start_time": "2022-11-21T23:25:06.444Z"
   },
   {
    "duration": 822,
    "start_time": "2022-11-21T23:25:06.455Z"
   },
   {
    "duration": 14,
    "start_time": "2022-11-21T23:25:07.278Z"
   },
   {
    "duration": 1222,
    "start_time": "2022-11-21T23:25:07.294Z"
   },
   {
    "duration": 0,
    "start_time": "2022-11-21T23:25:08.519Z"
   },
   {
    "duration": 0,
    "start_time": "2022-11-21T23:25:08.520Z"
   },
   {
    "duration": 0,
    "start_time": "2022-11-21T23:25:08.522Z"
   },
   {
    "duration": 0,
    "start_time": "2022-11-21T23:25:08.523Z"
   },
   {
    "duration": 0,
    "start_time": "2022-11-21T23:25:08.524Z"
   },
   {
    "duration": 0,
    "start_time": "2022-11-21T23:25:08.525Z"
   },
   {
    "duration": 0,
    "start_time": "2022-11-21T23:25:08.527Z"
   },
   {
    "duration": 0,
    "start_time": "2022-11-21T23:25:08.528Z"
   },
   {
    "duration": 0,
    "start_time": "2022-11-21T23:25:08.529Z"
   },
   {
    "duration": 0,
    "start_time": "2022-11-21T23:25:08.530Z"
   },
   {
    "duration": 0,
    "start_time": "2022-11-21T23:25:08.531Z"
   },
   {
    "duration": 0,
    "start_time": "2022-11-21T23:25:08.533Z"
   },
   {
    "duration": 0,
    "start_time": "2022-11-21T23:25:08.534Z"
   },
   {
    "duration": 0,
    "start_time": "2022-11-21T23:25:08.535Z"
   },
   {
    "duration": 0,
    "start_time": "2022-11-21T23:25:08.536Z"
   },
   {
    "duration": 0,
    "start_time": "2022-11-21T23:25:08.537Z"
   },
   {
    "duration": 0,
    "start_time": "2022-11-21T23:25:08.538Z"
   },
   {
    "duration": 0,
    "start_time": "2022-11-21T23:25:08.538Z"
   },
   {
    "duration": 0,
    "start_time": "2022-11-21T23:25:08.540Z"
   },
   {
    "duration": 0,
    "start_time": "2022-11-21T23:25:08.541Z"
   },
   {
    "duration": 0,
    "start_time": "2022-11-21T23:25:08.542Z"
   },
   {
    "duration": 0,
    "start_time": "2022-11-21T23:25:08.543Z"
   },
   {
    "duration": 0,
    "start_time": "2022-11-21T23:25:08.544Z"
   },
   {
    "duration": 0,
    "start_time": "2022-11-21T23:25:08.545Z"
   },
   {
    "duration": 0,
    "start_time": "2022-11-21T23:25:08.546Z"
   },
   {
    "duration": 0,
    "start_time": "2022-11-21T23:25:08.547Z"
   },
   {
    "duration": 0,
    "start_time": "2022-11-21T23:25:08.548Z"
   },
   {
    "duration": 0,
    "start_time": "2022-11-21T23:25:08.549Z"
   },
   {
    "duration": 0,
    "start_time": "2022-11-21T23:25:08.551Z"
   },
   {
    "duration": 0,
    "start_time": "2022-11-21T23:25:08.552Z"
   },
   {
    "duration": 0,
    "start_time": "2022-11-21T23:25:08.554Z"
   },
   {
    "duration": 124,
    "start_time": "2022-11-21T23:26:01.272Z"
   },
   {
    "duration": 8,
    "start_time": "2022-11-21T23:26:08.767Z"
   },
   {
    "duration": 781,
    "start_time": "2022-11-21T23:26:08.777Z"
   },
   {
    "duration": 19,
    "start_time": "2022-11-21T23:26:09.560Z"
   },
   {
    "duration": 11,
    "start_time": "2022-11-21T23:26:09.582Z"
   },
   {
    "duration": 61,
    "start_time": "2022-11-21T23:26:09.596Z"
   },
   {
    "duration": 16,
    "start_time": "2022-11-21T23:26:09.659Z"
   },
   {
    "duration": 1144,
    "start_time": "2022-11-21T23:26:09.678Z"
   },
   {
    "duration": 8,
    "start_time": "2022-11-21T23:26:10.824Z"
   },
   {
    "duration": 39,
    "start_time": "2022-11-21T23:26:10.833Z"
   },
   {
    "duration": 4,
    "start_time": "2022-11-21T23:26:10.876Z"
   },
   {
    "duration": 20,
    "start_time": "2022-11-21T23:26:10.882Z"
   },
   {
    "duration": 55,
    "start_time": "2022-11-21T23:26:10.904Z"
   },
   {
    "duration": 36,
    "start_time": "2022-11-21T23:26:10.960Z"
   },
   {
    "duration": 210,
    "start_time": "2022-11-21T23:26:10.998Z"
   },
   {
    "duration": 164,
    "start_time": "2022-11-21T23:26:11.209Z"
   },
   {
    "duration": 160,
    "start_time": "2022-11-21T23:26:11.375Z"
   },
   {
    "duration": 470,
    "start_time": "2022-11-21T23:26:11.537Z"
   },
   {
    "duration": 142,
    "start_time": "2022-11-21T23:26:12.009Z"
   },
   {
    "duration": 301,
    "start_time": "2022-11-21T23:26:12.153Z"
   },
   {
    "duration": 330,
    "start_time": "2022-11-21T23:26:12.456Z"
   },
   {
    "duration": 176,
    "start_time": "2022-11-21T23:26:12.788Z"
   },
   {
    "duration": 190,
    "start_time": "2022-11-21T23:26:12.966Z"
   },
   {
    "duration": 181,
    "start_time": "2022-11-21T23:26:13.159Z"
   },
   {
    "duration": 151,
    "start_time": "2022-11-21T23:26:13.343Z"
   },
   {
    "duration": 377,
    "start_time": "2022-11-21T23:26:13.497Z"
   },
   {
    "duration": 342,
    "start_time": "2022-11-21T23:26:13.876Z"
   },
   {
    "duration": 365,
    "start_time": "2022-11-21T23:26:14.220Z"
   },
   {
    "duration": 191,
    "start_time": "2022-11-21T23:26:14.590Z"
   },
   {
    "duration": 352,
    "start_time": "2022-11-21T23:26:14.783Z"
   },
   {
    "duration": 234,
    "start_time": "2022-11-21T23:26:15.136Z"
   },
   {
    "duration": 181,
    "start_time": "2022-11-21T23:26:15.372Z"
   },
   {
    "duration": 435,
    "start_time": "2022-11-21T23:26:15.555Z"
   },
   {
    "duration": 172,
    "start_time": "2022-11-21T23:26:15.991Z"
   },
   {
    "duration": 24,
    "start_time": "2022-11-21T23:26:16.165Z"
   },
   {
    "duration": 173,
    "start_time": "2022-11-21T23:26:16.191Z"
   },
   {
    "duration": 18,
    "start_time": "2022-11-21T23:27:36.273Z"
   },
   {
    "duration": 8,
    "start_time": "2022-11-21T23:27:49.918Z"
   },
   {
    "duration": 1042,
    "start_time": "2022-11-21T23:27:49.928Z"
   },
   {
    "duration": 16,
    "start_time": "2022-11-21T23:27:50.972Z"
   },
   {
    "duration": 61,
    "start_time": "2022-11-21T23:27:50.990Z"
   },
   {
    "duration": 30,
    "start_time": "2022-11-21T23:27:51.053Z"
   },
   {
    "duration": 69,
    "start_time": "2022-11-21T23:27:51.085Z"
   },
   {
    "duration": 1791,
    "start_time": "2022-11-21T23:27:51.156Z"
   },
   {
    "duration": 8,
    "start_time": "2022-11-21T23:27:52.951Z"
   },
   {
    "duration": 21,
    "start_time": "2022-11-21T23:27:52.961Z"
   },
   {
    "duration": 15,
    "start_time": "2022-11-21T23:27:52.985Z"
   },
   {
    "duration": 3,
    "start_time": "2022-11-21T23:27:53.002Z"
   },
   {
    "duration": 45,
    "start_time": "2022-11-21T23:27:53.008Z"
   },
   {
    "duration": 19,
    "start_time": "2022-11-21T23:27:53.056Z"
   },
   {
    "duration": 13,
    "start_time": "2022-11-21T23:27:53.077Z"
   },
   {
    "duration": 26,
    "start_time": "2022-11-21T23:27:53.092Z"
   },
   {
    "duration": 38,
    "start_time": "2022-11-21T23:27:53.151Z"
   },
   {
    "duration": 215,
    "start_time": "2022-11-21T23:27:53.191Z"
   },
   {
    "duration": 157,
    "start_time": "2022-11-21T23:27:53.408Z"
   },
   {
    "duration": 161,
    "start_time": "2022-11-21T23:27:53.567Z"
   },
   {
    "duration": 484,
    "start_time": "2022-11-21T23:27:53.730Z"
   },
   {
    "duration": 139,
    "start_time": "2022-11-21T23:27:54.216Z"
   },
   {
    "duration": 303,
    "start_time": "2022-11-21T23:27:54.357Z"
   },
   {
    "duration": 333,
    "start_time": "2022-11-21T23:27:54.661Z"
   },
   {
    "duration": 180,
    "start_time": "2022-11-21T23:27:54.996Z"
   },
   {
    "duration": 187,
    "start_time": "2022-11-21T23:27:55.178Z"
   },
   {
    "duration": 175,
    "start_time": "2022-11-21T23:27:55.367Z"
   },
   {
    "duration": 160,
    "start_time": "2022-11-21T23:27:55.544Z"
   },
   {
    "duration": 353,
    "start_time": "2022-11-21T23:27:55.707Z"
   },
   {
    "duration": 336,
    "start_time": "2022-11-21T23:27:56.062Z"
   },
   {
    "duration": 355,
    "start_time": "2022-11-21T23:27:56.400Z"
   },
   {
    "duration": 182,
    "start_time": "2022-11-21T23:27:56.757Z"
   },
   {
    "duration": 350,
    "start_time": "2022-11-21T23:27:56.941Z"
   },
   {
    "duration": 214,
    "start_time": "2022-11-21T23:27:57.293Z"
   },
   {
    "duration": 171,
    "start_time": "2022-11-21T23:27:57.509Z"
   },
   {
    "duration": 457,
    "start_time": "2022-11-21T23:27:57.681Z"
   },
   {
    "duration": 186,
    "start_time": "2022-11-21T23:27:58.140Z"
   },
   {
    "duration": 34,
    "start_time": "2022-11-21T23:27:58.328Z"
   },
   {
    "duration": 163,
    "start_time": "2022-11-21T23:27:58.364Z"
   },
   {
    "duration": 150,
    "start_time": "2022-11-21T23:34:20.980Z"
   },
   {
    "duration": 8,
    "start_time": "2022-11-22T16:17:20.111Z"
   },
   {
    "duration": 888,
    "start_time": "2022-11-22T16:17:20.122Z"
   },
   {
    "duration": 13,
    "start_time": "2022-11-22T16:17:21.011Z"
   },
   {
    "duration": 117,
    "start_time": "2022-11-22T16:17:21.025Z"
   },
   {
    "duration": 0,
    "start_time": "2022-11-22T16:17:21.145Z"
   },
   {
    "duration": 0,
    "start_time": "2022-11-22T16:17:21.146Z"
   },
   {
    "duration": 0,
    "start_time": "2022-11-22T16:17:21.147Z"
   },
   {
    "duration": 0,
    "start_time": "2022-11-22T16:17:21.148Z"
   },
   {
    "duration": 0,
    "start_time": "2022-11-22T16:17:21.149Z"
   },
   {
    "duration": 0,
    "start_time": "2022-11-22T16:17:21.150Z"
   },
   {
    "duration": 0,
    "start_time": "2022-11-22T16:17:21.152Z"
   },
   {
    "duration": 0,
    "start_time": "2022-11-22T16:17:21.153Z"
   },
   {
    "duration": 0,
    "start_time": "2022-11-22T16:17:21.153Z"
   },
   {
    "duration": 0,
    "start_time": "2022-11-22T16:17:21.154Z"
   },
   {
    "duration": 0,
    "start_time": "2022-11-22T16:17:21.156Z"
   },
   {
    "duration": 0,
    "start_time": "2022-11-22T16:17:21.176Z"
   },
   {
    "duration": 0,
    "start_time": "2022-11-22T16:17:21.178Z"
   },
   {
    "duration": 0,
    "start_time": "2022-11-22T16:17:21.179Z"
   },
   {
    "duration": 0,
    "start_time": "2022-11-22T16:17:21.180Z"
   },
   {
    "duration": 0,
    "start_time": "2022-11-22T16:17:21.181Z"
   },
   {
    "duration": 0,
    "start_time": "2022-11-22T16:17:21.182Z"
   },
   {
    "duration": 0,
    "start_time": "2022-11-22T16:17:21.183Z"
   },
   {
    "duration": 0,
    "start_time": "2022-11-22T16:17:21.184Z"
   },
   {
    "duration": 0,
    "start_time": "2022-11-22T16:17:21.185Z"
   },
   {
    "duration": 0,
    "start_time": "2022-11-22T16:17:21.186Z"
   },
   {
    "duration": 0,
    "start_time": "2022-11-22T16:17:21.187Z"
   },
   {
    "duration": 0,
    "start_time": "2022-11-22T16:17:21.188Z"
   },
   {
    "duration": 0,
    "start_time": "2022-11-22T16:17:21.189Z"
   },
   {
    "duration": 0,
    "start_time": "2022-11-22T16:17:21.190Z"
   },
   {
    "duration": 0,
    "start_time": "2022-11-22T16:17:21.191Z"
   },
   {
    "duration": 0,
    "start_time": "2022-11-22T16:17:21.192Z"
   },
   {
    "duration": 0,
    "start_time": "2022-11-22T16:17:21.193Z"
   },
   {
    "duration": 0,
    "start_time": "2022-11-22T16:17:21.194Z"
   },
   {
    "duration": 0,
    "start_time": "2022-11-22T16:17:21.196Z"
   },
   {
    "duration": 0,
    "start_time": "2022-11-22T16:17:21.197Z"
   },
   {
    "duration": 0,
    "start_time": "2022-11-22T16:17:21.198Z"
   },
   {
    "duration": 0,
    "start_time": "2022-11-22T16:17:21.199Z"
   },
   {
    "duration": 341,
    "start_time": "2022-11-22T16:17:45.043Z"
   },
   {
    "duration": 7,
    "start_time": "2022-11-22T16:17:49.277Z"
   },
   {
    "duration": 742,
    "start_time": "2022-11-22T16:17:49.286Z"
   },
   {
    "duration": 14,
    "start_time": "2022-11-22T16:17:50.030Z"
   },
   {
    "duration": 1855,
    "start_time": "2022-11-22T16:17:50.046Z"
   },
   {
    "duration": 8,
    "start_time": "2022-11-22T16:17:51.903Z"
   },
   {
    "duration": 47,
    "start_time": "2022-11-22T16:17:51.912Z"
   },
   {
    "duration": 13,
    "start_time": "2022-11-22T16:17:51.961Z"
   },
   {
    "duration": 990,
    "start_time": "2022-11-22T16:17:51.976Z"
   },
   {
    "duration": 11,
    "start_time": "2022-11-22T16:17:52.968Z"
   },
   {
    "duration": 20,
    "start_time": "2022-11-22T16:17:52.981Z"
   },
   {
    "duration": 4,
    "start_time": "2022-11-22T16:17:53.002Z"
   },
   {
    "duration": 7,
    "start_time": "2022-11-22T16:17:53.008Z"
   },
   {
    "duration": 19,
    "start_time": "2022-11-22T16:17:53.017Z"
   },
   {
    "duration": 45,
    "start_time": "2022-11-22T16:17:53.038Z"
   },
   {
    "duration": 36,
    "start_time": "2022-11-22T16:17:53.085Z"
   },
   {
    "duration": 184,
    "start_time": "2022-11-22T16:17:53.123Z"
   },
   {
    "duration": 137,
    "start_time": "2022-11-22T16:17:53.308Z"
   },
   {
    "duration": 181,
    "start_time": "2022-11-22T16:17:53.446Z"
   },
   {
    "duration": 490,
    "start_time": "2022-11-22T16:17:53.629Z"
   },
   {
    "duration": 141,
    "start_time": "2022-11-22T16:17:54.121Z"
   },
   {
    "duration": 247,
    "start_time": "2022-11-22T16:17:54.264Z"
   },
   {
    "duration": 313,
    "start_time": "2022-11-22T16:17:54.513Z"
   },
   {
    "duration": 201,
    "start_time": "2022-11-22T16:17:54.828Z"
   },
   {
    "duration": 166,
    "start_time": "2022-11-22T16:17:55.030Z"
   },
   {
    "duration": 177,
    "start_time": "2022-11-22T16:17:55.197Z"
   },
   {
    "duration": 135,
    "start_time": "2022-11-22T16:17:55.376Z"
   },
   {
    "duration": 321,
    "start_time": "2022-11-22T16:17:55.513Z"
   },
   {
    "duration": 226,
    "start_time": "2022-11-22T16:17:55.837Z"
   },
   {
    "duration": 207,
    "start_time": "2022-11-22T16:17:56.064Z"
   },
   {
    "duration": 220,
    "start_time": "2022-11-22T16:17:56.275Z"
   },
   {
    "duration": 222,
    "start_time": "2022-11-22T16:17:56.496Z"
   },
   {
    "duration": 205,
    "start_time": "2022-11-22T16:17:56.720Z"
   },
   {
    "duration": 167,
    "start_time": "2022-11-22T16:17:56.926Z"
   },
   {
    "duration": 343,
    "start_time": "2022-11-22T16:17:57.095Z"
   },
   {
    "duration": 338,
    "start_time": "2022-11-22T16:17:57.439Z"
   },
   {
    "duration": 19,
    "start_time": "2022-11-22T16:17:57.779Z"
   },
   {
    "duration": 153,
    "start_time": "2022-11-22T16:17:57.799Z"
   }
  ],
  "kernelspec": {
   "display_name": "Python 3 (ipykernel)",
   "language": "python",
   "name": "python3"
  },
  "language_info": {
   "codemirror_mode": {
    "name": "ipython",
    "version": 3
   },
   "file_extension": ".py",
   "mimetype": "text/x-python",
   "name": "python",
   "nbconvert_exporter": "python",
   "pygments_lexer": "ipython3",
   "version": "3.9.12"
  },
  "toc": {
   "base_numbering": 1,
   "nav_menu": {},
   "number_sections": false,
   "sideBar": true,
   "skip_h1_title": true,
   "title_cell": "Table of Contents",
   "title_sidebar": "Contents",
   "toc_cell": false,
   "toc_position": {
    "height": "calc(100% - 180px)",
    "left": "10px",
    "top": "150px",
    "width": "384px"
   },
   "toc_section_display": true,
   "toc_window_display": true
  }
 },
 "nbformat": 4,
 "nbformat_minor": 5
}
